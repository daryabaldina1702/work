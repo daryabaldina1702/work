{
  "nbformat": 4,
  "nbformat_minor": 0,
  "metadata": {
    "colab": {
      "provenance": [],
      "collapsed_sections": [
        "Y5HVNycSZNc5",
        "Uk4NVbUFs6A-",
        "PaS3E7KLtl6u",
        "MGuNdKqBuU3e",
        "95m0fULWR4m5",
        "feMIFS82ZNdn",
        "kjL3jxlqgHWs"
      ]
    },
    "kernelspec": {
      "display_name": "Python 3",
      "language": "python",
      "name": "python3"
    },
    "language_info": {
      "codemirror_mode": {
        "name": "ipython",
        "version": 3
      },
      "file_extension": ".py",
      "mimetype": "text/x-python",
      "name": "python",
      "nbconvert_exporter": "python",
      "pygments_lexer": "ipython3",
      "version": "3.7.4"
    }
  },
  "cells": [
    {
      "cell_type": "markdown",
      "metadata": {
        "id": "LkTpaRRWZNc3"
      },
      "source": [
        "# Линейная регрессия\n"
      ]
    },
    {
      "cell_type": "markdown",
      "metadata": {
        "id": "Ro-ttLpiZNdC"
      },
      "source": [
        "Линейные методы предполагают, что между признаками объекта и целевой переменной существует линейная зависимость, то есть:\n",
        "$$ \\hat{y} = w_1 x_1 + w_2 x_2 + ... + w_k x_k + b,$$\n",
        "где $\\hat{y}$ - целевая переменная (что мы хотим предсказать), $x_i$ - i-ый признак объекта $x$, $w_i$ - вес $i$-го признака, $b$ - bias (смещение, свободный член).\n",
        "\n",
        "В задаче линейной регрессии $\\hat{y}$ - это действительное число.\n",
        "\n",
        "Часто для упрощения записи вводят дополнительный фиктивный признак $x_0$, который всегда равен 1, тогда bias - вес этого признака. В этом случае формула может быть записана как скалярное произведение:\n",
        "$$ \\hat{y} = <w, x> $$\n",
        "\n",
        "В матричной форме формулу можно переписать следующим образом:\n",
        "$$ \\hat{y} = Xw,$$\n",
        "$\\hat{y}$ - вектор значений целевой переменной размера $n$, $X$ - матрица значений признаков объектов размера $n \\times k$, w - вектор весов размера $k$. То есть в наших данных имеется $n$ объектов, каждый их которых описан $k$ признаками.\n",
        "\n",
        "Таким образом, в матричной форме модель задаётся следующим образом:\n",
        "$$ y = Xw + \\epsilon$$ \n",
        "\n",
        "Важно отметить, что параметрами этой модели являются веса $w$. Когда говорят об обучении какого-либо алгоритма машинного обучения, как правило, имеют в виду настройку весов, т.е. параметров модели.  "
      ]
    },
    {
      "cell_type": "markdown",
      "metadata": {
        "id": "ixnX1G4yDVcG"
      },
      "source": [
        "На практике $\\hat{y} $ может отличается от реальных значений, которые принимает целевая переменная $y$. Разницу между реальным значением и предсказанным, обозначим как $\\epsilon$ - вектор значений случайной переменной, соответствующая случайной, непрогнозируемой ошибке модели. Ограничения, которые накладываются на эту модель:\n",
        "* математическое ожидание случайных ошибок $\\epsilon$ равно нулю,\n",
        "* дисперсия случайных ошибок одинакова и конечна,\n",
        "* случайные ошибки не скоррелированы."
      ]
    },
    {
      "cell_type": "markdown",
      "metadata": {
        "id": "HJyN9MkMDTod"
      },
      "source": [
        "Один из способов вычислить значения параметров модели, давно знаком - это наименьших квадратов, который минимизирует среднеквадратичную ошибку между реальным значением зависимой переменной и прогнозом, выданным моделью. Решение по методу наименьших квадратов дает:\n",
        "$$ w = (X^TX)^{-1}X^TY $$"
      ]
    },
    {
      "cell_type": "markdown",
      "metadata": {
        "id": "Y5HVNycSZNc5"
      },
      "source": [
        "## Библиотеки\n"
      ]
    },
    {
      "cell_type": "code",
      "metadata": {
        "id": "Lrhz2sFvZNc7"
      },
      "source": [
        "import numpy as np\n",
        "import pandas as pd\n",
        "from matplotlib import pyplot as plt\n",
        "plt.style.use('ggplot')\n",
        "%matplotlib inline\n",
        "\n",
        "from sklearn.linear_model import LinearRegression\n",
        "from sklearn.metrics import mean_squared_error\n",
        "from sklearn.metrics import mean_absolute_error\n",
        "from sklearn.preprocessing import PolynomialFeatures\n",
        "from sklearn.pipeline import Pipeline\n",
        "from sklearn.model_selection import cross_val_score\n",
        "from sklearn.datasets import load_boston\n",
        "from sklearn.model_selection import train_test_split\n",
        "from sklearn.preprocessing import StandardScaler"
      ],
      "execution_count": null,
      "outputs": []
    },
    {
      "cell_type": "markdown",
      "metadata": {
        "id": "dFQqRj1lZNdg"
      },
      "source": [
        "## Оценка результатов\n",
        "\n",
        "Чтобы оценить качество работы алгоритма нам необходимо применяют разные метрики. Наиболее частые метрики средневадратичная и средняя абсолютная ошибки. Вычислим эти метрики на обучающей и на тестовой выборках. \n",
        "\n",
        " * *mean_absolute_error* - средняя абсолютная ошибка $|y_i - \\hat{y}_i|$\n",
        " * *mean_squared_error* - средняя квадратичная ошибка $(y_i - \\hat{y}_i)^2$"
      ]
    },
    {
      "cell_type": "markdown",
      "metadata": {
        "id": "2sEDF-oXRsVw"
      },
      "source": [
        "## Задание 3.1"
      ]
    },
    {
      "cell_type": "markdown",
      "metadata": {
        "id": "aStEfJYSZNdE"
      },
      "source": [
        "Пример 1. Сгенерируем искусственные данные. Сначала поработаем с простейшим одномерным случаем, когда у нас значение $y$ будет зависеть только от одного значения $x$.\n",
        "\n",
        "\n"
      ]
    },
    {
      "cell_type": "code",
      "metadata": {
        "id": "d3tzSTkrZNdF"
      },
      "source": [
        "def generate_data(n_points=20):\n",
        "  \"\"\"\n",
        "    Принимает на вход n_points точек \n",
        "    Возвращает данные для обучения и теста\n",
        "  \"\"\"\n",
        "  X = np.linspace(-5, 5, n_points)\n",
        "  y = 10 * X - 7\n",
        "\n",
        "  X_train = X[0::2].reshape(-1, 1)\n",
        "  y_train = y[0::2] + np.random.randn(int(n_points/2)) * 10\n",
        "\n",
        "  X_test = X[1::2].reshape(-1, 1)\n",
        "  y_test = y[1::2] + np.random.randn(int(n_points/2)) * 10\n",
        "\n",
        "  print(f'Generated {len(X_train)} train samples and {len(X_test)} test samples')\n",
        "  return X, X_train, y_train, X_test, y_test"
      ],
      "execution_count": null,
      "outputs": []
    },
    {
      "cell_type": "code",
      "metadata": {
        "id": "bnYHO2TjZNdJ",
        "colab": {
          "base_uri": "https://localhost:8080/"
        },
        "outputId": "6f6d7656-2a7f-4cba-8dd6-a0ebef18c3c7"
      },
      "source": [
        "X, X_train, y_train, X_test, y_test = generate_data(100)"
      ],
      "execution_count": null,
      "outputs": [
        {
          "output_type": "stream",
          "name": "stdout",
          "text": [
            "Generated 50 train samples and 50 test samples\n"
          ]
        }
      ]
    },
    {
      "cell_type": "markdown",
      "source": [
        "### Реализуйте настройку w и b с помощью рассмотренного выше метода наименьших квадратов."
      ],
      "metadata": {
        "id": "Uk4NVbUFs6A-"
      }
    },
    {
      "cell_type": "code",
      "metadata": {
        "id": "q0l76cbaKzYg",
        "colab": {
          "base_uri": "https://localhost:8080/"
        },
        "outputId": "cf5ab31b-477a-4d1b-f617-f46c4ca34bad"
      },
      "source": [
        "#настройка моей модели\n",
        "def need_x(X):\n",
        "  x0 = np.ones((X.shape[0], 1))\n",
        "  x = np.hstack((X, x0))\n",
        "  return x\n",
        "\n",
        "def MNK(X, y):\n",
        "  x = np.array(need_x(X))\n",
        "  w = np.linalg.inv(x.T.dot(x)).dot(x.T).dot(y)\n",
        "  return w\n",
        "\n",
        "w, b = MNK(X_train, y_train)\n",
        "print('Train w: ', w)\n",
        "print('Train b: ', b)"
      ],
      "execution_count": null,
      "outputs": [
        {
          "output_type": "stream",
          "name": "stdout",
          "text": [
            "Train w:  9.553832882059577\n",
            "Train b:  -7.839893861945111\n"
          ]
        }
      ]
    },
    {
      "cell_type": "code",
      "source": [
        "#sklearn\n",
        "model = LinearRegression().fit(X_train, y_train)  #обучение модели\n",
        "print(model.coef_, model.intercept_)"
      ],
      "metadata": {
        "colab": {
          "base_uri": "https://localhost:8080/"
        },
        "id": "kKO9o1xdBvOw",
        "outputId": "e39e77d3-892c-4e0a-b703-1fbfe23fdce9"
      },
      "execution_count": null,
      "outputs": [
        {
          "output_type": "stream",
          "name": "stdout",
          "text": [
            "[9.55383288] -7.839893861945111\n"
          ]
        }
      ]
    },
    {
      "cell_type": "markdown",
      "source": [
        "### Найдите значения метрик MSE и MAE. Сравните с результатами из sklear"
      ],
      "metadata": {
        "id": "PaS3E7KLtl6u"
      }
    },
    {
      "cell_type": "code",
      "source": [
        "#тренировочные данные\n",
        "y_predicted_my_train = X_train.dot(w) + b \n",
        "y_predicted_my_test = X_test.dot(w) + b \n",
        "y_train_predicted_sklearn = model.predict(X_train)\n",
        "y_test_predicted_sklearn = model.predict(X_test)\n",
        "\n",
        "print('Train my MSE: ', mean_squared_error(y_train, y_predicted_my_train))\n",
        "print('Train sklearn MSE: ', mean_squared_error(y_train, y_train_predicted_sklearn))\n",
        "print('Train my MAE: ', mean_absolute_error(y_train, y_predicted_my_train))\n",
        "print('Train sklearn MAE: ', mean_absolute_error(y_train, y_train_predicted_sklearn))"
      ],
      "metadata": {
        "colab": {
          "base_uri": "https://localhost:8080/"
        },
        "id": "1qL4pqI9rlnX",
        "outputId": "b72823d0-397b-428a-f184-3f2d30273d35"
      },
      "execution_count": null,
      "outputs": [
        {
          "output_type": "stream",
          "name": "stdout",
          "text": [
            "Train my MSE:  98.36244548911543\n",
            "Train sklearn MSE:  98.36244548911546\n",
            "Train my MAE:  8.084029639144463\n",
            "Train sklearn MAE:  8.084029639144465\n"
          ]
        }
      ]
    },
    {
      "cell_type": "code",
      "source": [
        "#тестовые\n",
        "print('Test my MSE: ', mean_squared_error(y_test, y_predicted_my_test))\n",
        "print('Test sklearn MSE: ', mean_squared_error(y_test, y_test_predicted_sklearn))\n",
        "print('Test my MAE: ', mean_absolute_error(y_test, y_predicted_my_test))\n",
        "print('Test sklearn MAE: ', mean_absolute_error(y_test, y_test_predicted_sklearn))"
      ],
      "metadata": {
        "colab": {
          "base_uri": "https://localhost:8080/"
        },
        "id": "0KNhPb0GgZUX",
        "outputId": "69ac0a40-6a61-43d9-dbb4-b26bb2d40b25"
      },
      "execution_count": null,
      "outputs": [
        {
          "output_type": "stream",
          "name": "stdout",
          "text": [
            "Test my MSE:  106.77772626178471\n",
            "Test sklearn MSE:  106.77772626178475\n",
            "Test my MAE:  7.9966602788745185\n",
            "Test sklearn MAE:  7.996660278874518\n"
          ]
        }
      ]
    },
    {
      "cell_type": "markdown",
      "source": [
        "### Вывод"
      ],
      "metadata": {
        "id": "MGuNdKqBuU3e"
      }
    },
    {
      "cell_type": "markdown",
      "source": [
        "Результаты идентичны между собой"
      ],
      "metadata": {
        "id": "PH64Ce18uY8-"
      }
    },
    {
      "cell_type": "markdown",
      "metadata": {
        "id": "luGJoQXHRzu7"
      },
      "source": [
        "## Задание 3.2\n"
      ]
    },
    {
      "cell_type": "markdown",
      "metadata": {
        "id": "KKKQZDzWMv-j"
      },
      "source": [
        "Пример 2. Не всегда в задаче регрессии в качестве решения выступает прямая, как в предыдущем случае. Рассмотрим ещё один пример, в котором у объектов всё ещё один признак. Но теперь мы будм брать случайную точку на синусоиде и добавлять к ней шум — таким образом получим целевую переменную, признаком в этом случае будет координата $x$."
      ]
    },
    {
      "cell_type": "code",
      "metadata": {
        "id": "aULennJThZxH"
      },
      "source": [
        "def generate_wave_set(n_support=1000, n_train=25, std=0.3):\n",
        "    data = {}\n",
        "    # выберем некоторое количество точек из промежутка от 0 до 2*pi\n",
        "    data['support'] = np.linspace(0, 2*np.pi, num=n_support)\n",
        "    # для каждой посчитаем значение sin(x) + 1\n",
        "    # это будет ground truth\n",
        "    data['values'] = np.sin(data['support']) + 1\n",
        "    # из support посемплируем некоторое количество точек с возвратом, это будут признаки\n",
        "    data['x_train'] = np.sort(np.random.choice(data['support'], size=n_train, replace=True))\n",
        "    # опять посчитаем sin(x) + 1 и добавим шум, получим целевую переменную\n",
        "    data['y_train'] = np.sin(data['x_train']) + 1 + np.random.normal(0, std, size=data['x_train'].shape[0])\n",
        "    return data\n",
        "\n",
        "data = generate_wave_set(1000, 250)"
      ],
      "execution_count": null,
      "outputs": []
    },
    {
      "cell_type": "markdown",
      "source": [
        "### Попробуйте реализовать настройку w и b с помощью рассмотренного выше метода наименьших квадратов."
      ],
      "metadata": {
        "id": "ndekmRILCbji"
      }
    },
    {
      "cell_type": "code",
      "source": [
        "x_train = data['x_train'][:, np.newaxis]\n",
        "w,b = MNK(x_train,data['y_train'])\n",
        "w, b"
      ],
      "metadata": {
        "colab": {
          "base_uri": "https://localhost:8080/"
        },
        "id": "mmX1hDA6CeJJ",
        "outputId": "f25476a9-c961-4293-aa2f-e913bb315715"
      },
      "execution_count": null,
      "outputs": [
        {
          "output_type": "execute_result",
          "data": {
            "text/plain": [
              "(-0.26429386036375163, 1.8430669464102476)"
            ]
          },
          "metadata": {},
          "execution_count": 167
        }
      ]
    },
    {
      "cell_type": "markdown",
      "source": [
        "### Найдите значения метрик MSE и MAE"
      ],
      "metadata": {
        "id": "Pxskhz_jF6Sq"
      }
    },
    {
      "cell_type": "code",
      "metadata": {
        "id": "3CBnODv1QYn_",
        "colab": {
          "base_uri": "https://localhost:8080/"
        },
        "outputId": "60aa88ec-4cdf-443b-ddb7-01c6422e7f33"
      },
      "source": [
        "y_predicted = x_train.dot(w) + b \n",
        "\n",
        "print('Train MSE: ', mean_squared_error(data['y_train'], y_predicted))\n",
        "print('Train MAE: ', mean_absolute_error(data['y_train'], y_predicted))"
      ],
      "execution_count": null,
      "outputs": [
        {
          "output_type": "stream",
          "name": "stdout",
          "text": [
            "Train MSE:  0.30494637357110244\n",
            "Train MAE:  0.4688954002163805\n"
          ]
        }
      ]
    },
    {
      "cell_type": "markdown",
      "metadata": {
        "id": "o9iBgsGVQyOD"
      },
      "source": [
        "Конечно, такое решение нас вряд ли может устроить. Нужно применить полинимиальную регрессию. Идея здесь такая. Каждый признак в исходную формулу может входить не только в первой степени, но и во второй, в третьей и так далее. То есть для случая, когда у нас только один признак:\n",
        "$$ \\hat{y} = w_1 x_1 + w_2 x_1^2 + ... + w_k x_1^k + b,$$ "
      ]
    },
    {
      "cell_type": "markdown",
      "source": [
        "## Визуализация для проверки"
      ],
      "metadata": {
        "id": "rxTj2NEqKiQ9"
      }
    },
    {
      "cell_type": "code",
      "source": [
        "plt.figure(figsize=(5, 5))\n",
        "plt.plot(data['support'], data['values'], label=\"True function\")\n",
        "plt.plot(data['x_train'], y_predicted, label=\"Model\")\n",
        "plt.scatter(x_train, data['y_train'], edgecolor='b', s=10, label=\"Samples\")\n",
        "plt.xlabel(\"x\")\n",
        "plt.ylabel(\"y\")\n",
        "plt.legend(loc=\"best\")"
      ],
      "metadata": {
        "colab": {
          "base_uri": "https://localhost:8080/",
          "height": 354
        },
        "id": "lbkKkGfUKhhr",
        "outputId": "3b64cbe7-ea88-4520-a5ca-f5b9db4dac87"
      },
      "execution_count": null,
      "outputs": [
        {
          "output_type": "execute_result",
          "data": {
            "text/plain": [
              "<matplotlib.legend.Legend at 0x7fc3e4bdf3d0>"
            ]
          },
          "metadata": {},
          "execution_count": 169
        },
        {
          "output_type": "display_data",
          "data": {
            "text/plain": [
              "<Figure size 360x360 with 1 Axes>"
            ],
            "image/png": "[encoded data removed]"
          },
          "metadata": {
            "needs_background": "light"
          }
        }
      ]
    },
    {
      "cell_type": "markdown",
      "metadata": {
        "id": "95m0fULWR4m5"
      },
      "source": [
        "## Задание 3.3"
      ]
    },
    {
      "cell_type": "markdown",
      "source": [
        "### Реализуйте полиномиальную регрессию. Сделайте визуализацию для полиномов разных степеней. "
      ],
      "metadata": {
        "id": "N2RCGQwjGjdf"
      }
    },
    {
      "cell_type": "code",
      "source": [
        "degrees = [1, 5, 9, 15]\n",
        "plt.figure(figsize=(25, 6))\n",
        "for i in range(len(degrees)):\n",
        "    ax = plt.subplot(1, len(degrees), i + 1)\n",
        "    plt.setp(ax, xticks=(), yticks=())\n",
        "\n",
        "    pf = PolynomialFeatures(degree=degrees[i], include_bias=False)\n",
        "    lr = LinearRegression()\n",
        "    pipeline = Pipeline([(\"polynomial_features\", pf),\n",
        "                         (\"linear_regression\", lr)])\n",
        "    pipeline.fit(x_train, data['y_train'])\n",
        "\n",
        "    scores = cross_val_score(pipeline, x_train, data['y_train'],\n",
        "                             scoring=\"neg_mean_squared_error\", cv=10)\n",
        "\n",
        "    plt.plot(data['support'], pipeline.predict(data['support'][:, np.newaxis]), label=\"Model\")\n",
        "    plt.plot(data['support'], data['values'], label=\"True function\")\n",
        "    plt.scatter(x_train, data['y_train'], edgecolor='b', s=10, label=\"Samples\")\n",
        "    plt.xlabel(\"x\")\n",
        "    plt.ylabel(\"y\")\n",
        "    plt.xlim((-3, 7))\n",
        "    plt.ylim((-1, 3))\n",
        "    plt.legend(loc=\"best\")\n",
        "    plt.title(\"Degree {}\\nMSE = {:.2e}(+/- {:.2e})\".format(\n",
        "        degrees[i], -scores.mean(), scores.std()))\n",
        "plt.show()"
      ],
      "metadata": {
        "colab": {
          "base_uri": "https://localhost:8080/",
          "height": 378
        },
        "id": "lcH-hvrOGxUM",
        "outputId": "a58fd532-91b7-4636-b4c4-be07049981fb"
      },
      "execution_count": null,
      "outputs": [
        {
          "output_type": "display_data",
          "data": {
            "text/plain": [
              "<Figure size 1800x432 with 4 Axes>"
            ],
            "image/png": "[encoded data removed]"
          },
          "metadata": {}
        }
      ]
    },
    {
      "cell_type": "markdown",
      "source": [
        "### Полином какой степени подходит больше других? Почему?"
      ],
      "metadata": {
        "id": "H2DDAQBlR1Hl"
      }
    },
    {
      "cell_type": "markdown",
      "source": [
        "Больше всего подходит полином 5 степени, так как он наиболее приближенно напоминает реальную функцию и имеет наименьший параметр MSE\n",
        "\n",
        "Степень 1 - underfitting, очень простая модель\n",
        "\n",
        "Степень 9, 15 - overfitting, очень сложная модель"
      ],
      "metadata": {
        "id": "ADgtKxE0R21m"
      }
    },
    {
      "cell_type": "markdown",
      "metadata": {
        "id": "feMIFS82ZNdn"
      },
      "source": [
        "# Реальный датасет"
      ]
    },
    {
      "cell_type": "markdown",
      "metadata": {
        "id": "_NVLc80wZNdn"
      },
      "source": [
        "Возьмём реальный набор данных Boston из sklearn.datasets. Этот датасет описывает средние цены на недвижимость в районах Бостона в тысячах долларов.\n",
        "\n",
        "Примеры признаков объектов недвижимости: количество преступлений на душу населения, процент старых домов в районе, количество учеников на одного учителя и т.д. Обратите внимание на то, что данные уже оцифрованы там, где изначально признаки были качественными."
      ]
    },
    {
      "cell_type": "markdown",
      "metadata": {
        "id": "yMC-plFGZNdo"
      },
      "source": [
        "Загрузим датасет, выведем информацию"
      ]
    },
    {
      "cell_type": "code",
      "metadata": {
        "id": "YBgnP7HcZNdq",
        "colab": {
          "base_uri": "https://localhost:8080/"
        },
        "outputId": "95a44b89-9877-40fc-a2ab-a3b8efb47072"
      },
      "source": [
        "house_data = load_boston()"
      ],
      "execution_count": null,
      "outputs": [
        {
          "output_type": "stream",
          "name": "stderr",
          "text": [
            "/usr/local/lib/python3.7/dist-packages/sklearn/utils/deprecation.py:87: FutureWarning: Function load_boston is deprecated; `load_boston` is deprecated in 1.0 and will be removed in 1.2.\n",
            "\n",
            "    The Boston housing prices dataset has an ethical problem. You can refer to\n",
            "    the documentation of this function for further details.\n",
            "\n",
            "    The scikit-learn maintainers therefore strongly discourage the use of this\n",
            "    dataset unless the purpose of the code is to study and educate about\n",
            "    ethical issues in data science and machine learning.\n",
            "\n",
            "    In this special case, you can fetch the dataset from the original\n",
            "    source::\n",
            "\n",
            "        import pandas as pd\n",
            "        import numpy as np\n",
            "\n",
            "\n",
            "        data_url = \"http://lib.stat.cmu.edu/datasets/boston\"\n",
            "        raw_df = pd.read_csv(data_url, sep=\"\\s+\", skiprows=22, header=None)\n",
            "        data = np.hstack([raw_df.values[::2, :], raw_df.values[1::2, :2]])\n",
            "        target = raw_df.values[1::2, 2]\n",
            "\n",
            "    Alternative datasets include the California housing dataset (i.e.\n",
            "    :func:`~sklearn.datasets.fetch_california_housing`) and the Ames housing\n",
            "    dataset. You can load the datasets as follows::\n",
            "\n",
            "        from sklearn.datasets import fetch_california_housing\n",
            "        housing = fetch_california_housing()\n",
            "\n",
            "    for the California housing dataset and::\n",
            "\n",
            "        from sklearn.datasets import fetch_openml\n",
            "        housing = fetch_openml(name=\"house_prices\", as_frame=True)\n",
            "\n",
            "    for the Ames housing dataset.\n",
            "    \n",
            "  warnings.warn(msg, category=FutureWarning)\n"
          ]
        }
      ]
    },
    {
      "cell_type": "code",
      "source": [
        "X = pd.DataFrame(house_data['data'], columns=house_data['feature_names'])\n",
        "y = house_data['target']\n",
        "X.shape"
      ],
      "metadata": {
        "colab": {
          "base_uri": "https://localhost:8080/"
        },
        "id": "hqYw_o2VXs5z",
        "outputId": "ff5a8fd0-9c56-4d46-e705-5f5c864b6687"
      },
      "execution_count": null,
      "outputs": [
        {
          "output_type": "execute_result",
          "data": {
            "text/plain": [
              "(506, 13)"
            ]
          },
          "metadata": {},
          "execution_count": 172
        }
      ]
    },
    {
      "cell_type": "markdown",
      "metadata": {
        "id": "kjL3jxlqgHWs"
      },
      "source": [
        "## Задание 3.4"
      ]
    },
    {
      "cell_type": "markdown",
      "source": [
        "### Оставьте в наборе данных только 7 наиболее значимых признаков"
      ],
      "metadata": {
        "id": "-E6zJhvKX_uR"
      }
    },
    {
      "cell_type": "code",
      "source": [
        "#скейлинг данных\n",
        "scaler = StandardScaler()\n",
        "X_sc = scaler.fit_transform(X)\n",
        "\n",
        "#обучение модели\n",
        "linear_model = LinearRegression().fit(X_sc, y)\n",
        "\n",
        "#проверка признаков\n",
        "plt.figure(figsize=(20, 8))\n",
        "plt.bar(X.columns, abs(linear_model.coef_))"
      ],
      "metadata": {
        "colab": {
          "base_uri": "https://localhost:8080/"
        },
        "id": "zBaucP2WXpPk",
        "outputId": "53c9a10d-3a7b-4443-dd54-794c9f4aa8d2"
      },
      "execution_count": null,
      "outputs": [
        {
          "output_type": "execute_result",
          "data": {
            "text/plain": [
              "<BarContainer object of 13 artists>"
            ]
          },
          "metadata": {},
          "execution_count": 156
        },
        {
          "output_type": "display_data",
          "data": {
            "text/plain": [
              "<Figure size 1440x576 with 1 Axes>"
            ],
            "image/png": "[encoded data removed]"
          },
          "metadata": {
            "needs_background": "light"
          }
        }
      ]
    },
    {
      "cell_type": "code",
      "source": [
        "#отбор признаков\n",
        "X_new = X.loc[:, ['LSTAT', 'DIS', 'RM', 'RAD', 'PTRATIO', 'NOX', 'TAX']]\n",
        "X_new.head()"
      ],
      "metadata": {
        "colab": {
          "base_uri": "https://localhost:8080/"
        },
        "id": "9vB7uzt1f9-X",
        "outputId": "267103b8-f01e-423a-fb80-55a4e48d74bf"
      },
      "execution_count": null,
      "outputs": [
        {
          "output_type": "execute_result",
          "data": {
            "text/plain": [
              "   LSTAT     DIS     RM  RAD  PTRATIO    NOX    TAX\n",
              "0   4.98  4.0900  6.575  1.0     15.3  0.538  296.0\n",
              "1   9.14  4.9671  6.421  2.0     17.8  0.469  242.0\n",
              "2   4.03  4.9671  7.185  2.0     17.8  0.469  242.0\n",
              "3   2.94  6.0622  6.998  3.0     18.7  0.458  222.0\n",
              "4   5.33  6.0622  7.147  3.0     18.7  0.458  222.0"
            ],
            "text/html": [
              "\n",
              "  <div id=\"df-da5960b5-87ef-47d1-a79a-69b050a9cf50\">\n",
              "    <div class=\"colab-df-container\">\n",
              "      <div>\n",
              "<style scoped>\n",
              "    .dataframe tbody tr th:only-of-type {\n",
              "        vertical-align: middle;\n",
              "    }\n",
              "\n",
              "    .dataframe tbody tr th {\n",
              "        vertical-align: top;\n",
              "    }\n",
              "\n",
              "    .dataframe thead th {\n",
              "        text-align: right;\n",
              "    }\n",
              "</style>\n",
              "<table border=\"1\" class=\"dataframe\">\n",
              "  <thead>\n",
              "    <tr style=\"text-align: right;\">\n",
              "      <th></th>\n",
              "      <th>LSTAT</th>\n",
              "      <th>DIS</th>\n",
              "      <th>RM</th>\n",
              "      <th>RAD</th>\n",
              "      <th>PTRATIO</th>\n",
              "      <th>NOX</th>\n",
              "      <th>TAX</th>\n",
              "    </tr>\n",
              "  </thead>\n",
              "  <tbody>\n",
              "    <tr>\n",
              "      <th>0</th>\n",
              "      <td>4.98</td>\n",
              "      <td>4.0900</td>\n",
              "      <td>6.575</td>\n",
              "      <td>1.0</td>\n",
              "      <td>15.3</td>\n",
              "      <td>0.538</td>\n",
              "      <td>296.0</td>\n",
              "    </tr>\n",
              "    <tr>\n",
              "      <th>1</th>\n",
              "      <td>9.14</td>\n",
              "      <td>4.9671</td>\n",
              "      <td>6.421</td>\n",
              "      <td>2.0</td>\n",
              "      <td>17.8</td>\n",
              "      <td>0.469</td>\n",
              "      <td>242.0</td>\n",
              "    </tr>\n",
              "    <tr>\n",
              "      <th>2</th>\n",
              "      <td>4.03</td>\n",
              "      <td>4.9671</td>\n",
              "      <td>7.185</td>\n",
              "      <td>2.0</td>\n",
              "      <td>17.8</td>\n",
              "      <td>0.469</td>\n",
              "      <td>242.0</td>\n",
              "    </tr>\n",
              "    <tr>\n",
              "      <th>3</th>\n",
              "      <td>2.94</td>\n",
              "      <td>6.0622</td>\n",
              "      <td>6.998</td>\n",
              "      <td>3.0</td>\n",
              "      <td>18.7</td>\n",
              "      <td>0.458</td>\n",
              "      <td>222.0</td>\n",
              "    </tr>\n",
              "    <tr>\n",
              "      <th>4</th>\n",
              "      <td>5.33</td>\n",
              "      <td>6.0622</td>\n",
              "      <td>7.147</td>\n",
              "      <td>3.0</td>\n",
              "      <td>18.7</td>\n",
              "      <td>0.458</td>\n",
              "      <td>222.0</td>\n",
              "    </tr>\n",
              "  </tbody>\n",
              "</table>\n",
              "</div>\n",
              "      <button class=\"colab-df-convert\" onclick=\"convertToInteractive('df-da5960b5-87ef-47d1-a79a-69b050a9cf50')\"\n",
              "              title=\"Convert this dataframe to an interactive table.\"\n",
              "              style=\"display:none;\">\n",
              "        \n",
              "  <svg xmlns=\"http://www.w3.org/2000/svg\" height=\"24px\"viewBox=\"0 0 24 24\"\n",
              "       width=\"24px\">\n",
              "    <path d=\"M0 0h24v24H0V0z\" fill=\"none\"/>\n",
              "    <path d=\"M18.56 5.44l.94 2.06.94-2.06 2.06-.94-2.06-.94-.94-2.06-.94 2.06-2.06.94zm-11 1L8.5 8.5l.94-2.06 2.06-.94-2.06-.94L8.5 2.5l-.94 2.06-2.06.94zm10 10l.94 2.06.94-2.06 2.06-.94-2.06-.94-.94-2.06-.94 2.06-2.06.94z\"/><path d=\"M17.41 7.96l-1.37-1.37c-.4-.4-.92-.59-1.43-.59-.52 0-1.04.2-1.43.59L10.3 9.45l-7.72 7.72c-.78.78-.78 2.05 0 2.83L4 21.41c.39.39.9.59 1.41.59.51 0 1.02-.2 1.41-.59l7.78-7.78 2.81-2.81c.8-.78.8-2.07 0-2.86zM5.41 20L4 18.59l7.72-7.72 1.47 1.35L5.41 20z\"/>\n",
              "  </svg>\n",
              "      </button>\n",
              "      \n",
              "  <style>\n",
              "    .colab-df-container {\n",
              "      display:flex;\n",
              "      flex-wrap:wrap;\n",
              "      gap: 12px;\n",
              "    }\n",
              "\n",
              "    .colab-df-convert {\n",
              "      background-color: #E8F0FE;\n",
              "      border: none;\n",
              "      border-radius: 50%;\n",
              "      cursor: pointer;\n",
              "      display: none;\n",
              "      fill: #1967D2;\n",
              "      height: 32px;\n",
              "      padding: 0 0 0 0;\n",
              "      width: 32px;\n",
              "    }\n",
              "\n",
              "    .colab-df-convert:hover {\n",
              "      background-color: #E2EBFA;\n",
              "      box-shadow: 0px 1px 2px rgba(60, 64, 67, 0.3), 0px 1px 3px 1px rgba(60, 64, 67, 0.15);\n",
              "      fill: #174EA6;\n",
              "    }\n",
              "\n",
              "    [theme=dark] .colab-df-convert {\n",
              "      background-color: #3B4455;\n",
              "      fill: #D2E3FC;\n",
              "    }\n",
              "\n",
              "    [theme=dark] .colab-df-convert:hover {\n",
              "      background-color: #434B5C;\n",
              "      box-shadow: 0px 1px 3px 1px rgba(0, 0, 0, 0.15);\n",
              "      filter: drop-shadow(0px 1px 2px rgba(0, 0, 0, 0.3));\n",
              "      fill: #FFFFFF;\n",
              "    }\n",
              "  </style>\n",
              "\n",
              "      <script>\n",
              "        const buttonEl =\n",
              "          document.querySelector('#df-da5960b5-87ef-47d1-a79a-69b050a9cf50 button.colab-df-convert');\n",
              "        buttonEl.style.display =\n",
              "          google.colab.kernel.accessAllowed ? 'block' : 'none';\n",
              "\n",
              "        async function convertToInteractive(key) {\n",
              "          const element = document.querySelector('#df-da5960b5-87ef-47d1-a79a-69b050a9cf50');\n",
              "          const dataTable =\n",
              "            await google.colab.kernel.invokeFunction('convertToInteractive',\n",
              "                                                     [key], {});\n",
              "          if (!dataTable) return;\n",
              "\n",
              "          const docLinkHtml = 'Like what you see? Visit the ' +\n",
              "            '<a target=\"_blank\" href=https://colab.research.google.com/notebooks/data_table.ipynb>data table notebook</a>'\n",
              "            + ' to learn more about interactive tables.';\n",
              "          element.innerHTML = '';\n",
              "          dataTable['output_type'] = 'display_data';\n",
              "          await google.colab.output.renderOutput(dataTable, element);\n",
              "          const docLink = document.createElement('div');\n",
              "          docLink.innerHTML = docLinkHtml;\n",
              "          element.appendChild(docLink);\n",
              "        }\n",
              "      </script>\n",
              "    </div>\n",
              "  </div>\n",
              "  "
            ]
          },
          "metadata": {},
          "execution_count": 157
        }
      ]
    },
    {
      "cell_type": "markdown",
      "source": [
        "### Настройте параметры линейной регрессии и сравните метрики качества (MSE и MAE) для полного датасета и усечённого"
      ],
      "metadata": {
        "id": "Dqy82mvQgvoF"
      }
    },
    {
      "cell_type": "code",
      "metadata": {
        "id": "PbTQGLKagJN5",
        "colab": {
          "base_uri": "https://localhost:8080/"
        },
        "outputId": "0dcc8fff-0002-421d-de55-be44f8d1197d"
      },
      "source": [
        "X_train, X_test, y_train, y_test = train_test_split(house_data.data, house_data.target, test_size = 0.7, random_state = 0)\n",
        "\n",
        "X_train_tr, X_test_tr, y_train_tr, y_test_tr = train_test_split(X_new.to_numpy(), house_data.target, train_size = 0.7, random_state = 0)\n",
        "\n",
        "#настройка модели для усеченного датасета\n",
        "linear_model_truncated = LinearRegression().fit(X_train_tr, y_train_tr) \n",
        "\n",
        "#настройка модели для полного датасета\n",
        "linear_model_full = LinearRegression().fit(X_train, y_train) \n",
        "\n",
        "#MSE и MAE\n",
        "y_pred_trun = linear_model_truncated.predict(X_test_tr)\n",
        "y_pred_full = linear_model_full.predict(X_test)\n",
        "\n",
        "print('Truncated MSE: ', mean_squared_error(y_test_tr, y_pred_trun))\n",
        "print('Full MSE: ', mean_squared_error(y_test, y_pred_full))\n",
        "print('Truncated MAE: ', mean_absolute_error(y_test_tr, y_pred_trun))\n",
        "print('Full MAE: ', mean_absolute_error(y_test, y_pred_full))"
      ],
      "execution_count": null,
      "outputs": [
        {
          "output_type": "stream",
          "name": "stdout",
          "text": [
            "Truncated MSE:  29.855053545070955\n",
            "Full MSE:  25.9182394047958\n",
            "Truncated MAE:  3.8391392570962104\n",
            "Full MAE:  3.6316112227167445\n"
          ]
        }
      ]
    }
  ]
}