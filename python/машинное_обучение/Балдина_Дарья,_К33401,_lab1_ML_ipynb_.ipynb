{
  "nbformat": 4,
  "nbformat_minor": 0,
  "metadata": {
    "colab": {
      "provenance": [],
      "collapsed_sections": [
        "BsNwjQDRfmLY",
        "75sxny1zSCbl",
        "efml9GzISC9Q",
        "L2NFz1rAR8qS"
      ]
    },
    "kernelspec": {
      "display_name": "Python 3",
      "language": "python",
      "name": "python3"
    },
    "language_info": {
      "codemirror_mode": {
        "name": "ipython",
        "version": 3
      },
      "file_extension": ".py",
      "mimetype": "text/x-python",
      "name": "python",
      "nbconvert_exporter": "python",
      "pygments_lexer": "ipython3",
      "version": "3.7.4"
    }
  },
  "cells": [
    {
      "cell_type": "code",
      "source": [
        "#импорты\n",
        "import numpy as np\n",
        "import matplotlib.pyplot as plt \n",
        "from math import sqrt, factorial"
      ],
      "metadata": {
        "id": "WzkWIXxlXBh_"
      },
      "execution_count": null,
      "outputs": []
    },
    {
      "cell_type": "markdown",
      "metadata": {
        "id": "BsNwjQDRfmLY"
      },
      "source": [
        "# Задание 1"
      ]
    },
    {
      "cell_type": "markdown",
      "metadata": {
        "id": "wu6r1-s7fmLe"
      },
      "source": [
        "---"
      ]
    },
    {
      "cell_type": "markdown",
      "metadata": {
        "id": "zxRIdPO9gYyX"
      },
      "source": [
        "Напишите программу, которая будет решать систему линейных уравнений вида:\n",
        "\n",
        "\\begin{matrix} a_{11}x+a_{12}y=b_{1}&(1) \\\\ a_{21}x+a_{22}y=b_{2} &(2) \\end{matrix}\n",
        "​\t\n",
        "На вход программа должна принимать 2 строки.\n",
        "\n",
        "Каждая строка содержит 3 действительных числа через пробел: коэффициенты a и b.\n",
        "\n",
        "На выходе программа должна выдавать значения x и y в одну строку через пробел.\n",
        " \n",
        "\n",
        "Примечание 1. Для разделения строки на отдельные элементы используйте функцию split()\n",
        "\n",
        "Примечание 2. В качестве разделителя между целой и дробной частью используйте точку, например 0.2"
      ]
    },
    {
      "cell_type": "code",
      "metadata": {
        "id": "6sxlcLbVlrjl",
        "colab": {
          "base_uri": "https://localhost:8080/"
        },
        "outputId": "b7bfed29-f9a9-4d94-9225-df03b776f23c"
      },
      "source": [
        "def linan():\n",
        "  a11, a12, b1 = map(float, input().split())\n",
        "  a21, a22, b2 = map(float, input().split())\n",
        "  \n",
        "  M1 = np.array([[a11, a12], [a21, a22]])\n",
        "  v1 = np.array([b1, b2])\n",
        "  \n",
        "  return np.linalg.solve(M1, v1)\n",
        "\n",
        "answer = linan()\n",
        "print(round(answer[0],2), round(answer[1],2))"
      ],
      "execution_count": null,
      "outputs": [
        {
          "output_type": "stream",
          "name": "stdout",
          "text": [
            "2.0 5.0 1.0\n",
            "1.0 -10.0 3.0\n",
            "1.0 -0.2\n"
          ]
        }
      ]
    },
    {
      "cell_type": "markdown",
      "metadata": {
        "id": "wLoVDMQnfmOv"
      },
      "source": [
        "# Задание 2"
      ]
    },
    {
      "cell_type": "markdown",
      "metadata": {
        "id": "6bmt_YF3fmOw"
      },
      "source": [
        "Напишите функцию `decorate_matrix`, которая получает на вход одно целое число больше единицы. Функция должна возвращать матрицу n на n, у которой на границах стоят единицы, а на всех остальных позициях(если остались позиции не на границах) стоят нули.\n",
        "\n",
        "Нужно сделать без использования  циклов.\n",
        "\n",
        "```\n",
        "# ожидаемый резальтат для аргумента 5\n",
        "array([[1., 1., 1., 1., 1.],\n",
        "[1., 0., 0., 0., 1.],\n",
        "[1., 0., 0., 0., 1.],\n",
        "[1., 0., 0., 0., 1.],\n",
        "[1., 1., 1., 1., 1.]])\n",
        "```\n",
        "\n"
      ]
    },
    {
      "cell_type": "code",
      "source": [
        "def decorate_matrix(n):\n",
        "  A = np.full((n, n), 1.0)\n",
        "  A[1:(n-1),1:(n-1)] = 0.0\n",
        "  return A\n",
        "\n",
        "number = int(input('Введите целое число > 1: '))\n",
        "print(decorate_matrix(number))"
      ],
      "metadata": {
        "id": "MGYHbqu-htgT",
        "colab": {
          "base_uri": "https://localhost:8080/"
        },
        "outputId": "fc02a363-e912-402b-f1ab-fad2b38cb13f"
      },
      "execution_count": null,
      "outputs": [
        {
          "output_type": "stream",
          "name": "stdout",
          "text": [
            "Введите целое число > 1: 5\n",
            "[[1. 1. 1. 1. 1.]\n",
            " [1. 0. 0. 0. 1.]\n",
            " [1. 0. 0. 0. 1.]\n",
            " [1. 0. 0. 0. 1.]\n",
            " [1. 1. 1. 1. 1.]]\n"
          ]
        }
      ]
    },
    {
      "cell_type": "markdown",
      "metadata": {
        "id": "75sxny1zSCbl"
      },
      "source": [
        "# Задание 3"
      ]
    },
    {
      "cell_type": "markdown",
      "metadata": {
        "id": "2Xq1tBBAS5UJ"
      },
      "source": [
        "1) реализуйте 2 функции:\n",
        "\n",
        "$f(x) = (x+a)^2 - b$ \n",
        "\n",
        "$g(x) = |f(x)|$\n",
        "\n",
        "2) Найдите аргументы, при которых достигается минимум функций $f(x)$ и $g(x)$\n",
        "\n",
        "Пример. \n",
        "Входные значение: $a=3$ и $b=4$\n",
        "\n",
        "Выходные значения:\n",
        "\n",
        "`-3.0 -1.0`"
      ]
    },
    {
      "cell_type": "markdown",
      "source": [
        "### Часть 1\n"
      ],
      "metadata": {
        "id": "DbOF_sUK8TZv"
      }
    },
    {
      "cell_type": "code",
      "source": [
        "def F(x,a,b):\n",
        "  return (x+a)**2-b\n",
        "def G(x,a,b):\n",
        "  return abs(F(x,a,b))"
      ],
      "metadata": {
        "id": "X3kuTkXu7lzf"
      },
      "execution_count": null,
      "outputs": []
    },
    {
      "cell_type": "markdown",
      "source": [
        "### Часть 2"
      ],
      "metadata": {
        "id": "XB6v6ozs8-3f"
      }
    },
    {
      "cell_type": "code",
      "source": [
        "def min_F(a,b): #минимум функции f(x)\n",
        "  return float(-a)\n",
        "def min_G(a,b):\n",
        "  if b < 0: #минимум функции g(x)\n",
        "    return 'нет минимума функции g(x)'\n",
        "  else: \n",
        "    return [float(sqrt(b)-a), float(-sqrt(b)-a)]\n",
        "\n",
        "a,b = map(int, input().split())\n",
        "mins = [min_F(a,b), min_G(a,b)]\n",
        "if b < 0:\n",
        "  print(mins[0], ' ', mins[1])\n",
        "else:\n",
        "  print(mins[0], mins[1][0], mins[1][1])"
      ],
      "metadata": {
        "id": "6pHAtSy8D9X4",
        "colab": {
          "base_uri": "https://localhost:8080/"
        },
        "outputId": "ed3dfb7c-7777-48d3-9ac2-ed30c2923681"
      },
      "execution_count": null,
      "outputs": [
        {
          "output_type": "stream",
          "name": "stdout",
          "text": [
            "3 4\n",
            "-3.0 -1.0 -5.0\n"
          ]
        }
      ]
    },
    {
      "cell_type": "markdown",
      "metadata": {
        "id": "efml9GzISC9Q"
      },
      "source": [
        "# Задание 4"
      ]
    },
    {
      "cell_type": "markdown",
      "metadata": {
        "id": "SDZvKcsTVbAW"
      },
      "source": [
        "Постройте графики для функций из предыдущего задания и отметьте другим цветом на графиках точки найденных минимумов."
      ]
    },
    {
      "cell_type": "code",
      "source": [
        "#f(x)\n",
        "x = np.arange(-10, 10, 0.5)\n",
        "y = []\n",
        "for i in range(len(x)):\n",
        "  y.append(F(x[i],a,b))\n",
        "\n",
        "plt.title('График функции f(x)')\n",
        "plt.plot(x, y)\n",
        "plt.ylabel(\"Y\")\n",
        "plt.xlabel(\"X\")\n",
        "plt.ylim([-10, 30])\n",
        "plt.scatter([min_F(a,b)], [F(min_F(a,b),a,b)], color = 'green')"
      ],
      "metadata": {
        "colab": {
          "base_uri": "https://localhost:8080/",
          "height": 312
        },
        "id": "e7u_Wa0Nz0Q5",
        "outputId": "4871acd3-6cf4-4f0c-97ca-3957503e011c"
      },
      "execution_count": null,
      "outputs": [
        {
          "output_type": "execute_result",
          "data": {
            "text/plain": [
              "<matplotlib.collections.PathCollection at 0x7fdb44ed0410>"
            ]
          },
          "metadata": {},
          "execution_count": 52
        },
        {
          "output_type": "display_data",
          "data": {
            "text/plain": [
              "<Figure size 432x288 with 1 Axes>"
            ],
            "image/png": "[encoded data removed]"
          },
          "metadata": {
            "needs_background": "light"
          }
        }
      ]
    },
    {
      "cell_type": "code",
      "source": [
        "#g(x)\n",
        "x = np.arange(-10, 10, 0.5)\n",
        "y = []\n",
        "for i in range(len(x)):\n",
        "  y.append(G(x[i],a,b))\n",
        "\n",
        "plt.title('График функции g(x)')\n",
        "plt.plot(x, y)\n",
        "plt.ylabel(\"Y\")\n",
        "plt.xlabel(\"X\")\n",
        "plt.ylim([-10, 30])\n",
        "if b >= 0:\n",
        "  plt.scatter([min_G(a,b)[0], min_G(a,b)[1]], [G(min_G(a,b)[0],a,b), G(min_G(a,b)[1],a,b)], color = 'green')"
      ],
      "metadata": {
        "colab": {
          "base_uri": "https://localhost:8080/",
          "height": 295
        },
        "id": "wV0sCE-NCF5U",
        "outputId": "2e6131bd-0d69-44e3-b273-d9c21d7eb07a"
      },
      "execution_count": null,
      "outputs": [
        {
          "output_type": "display_data",
          "data": {
            "text/plain": [
              "<Figure size 432x288 with 1 Axes>"
            ],
            "image/png": "[encoded data removed]"
          },
          "metadata": {
            "needs_background": "light"
          }
        }
      ]
    },
    {
      "cell_type": "markdown",
      "metadata": {
        "id": "mrby3EfiSDKJ"
      },
      "source": [
        "# Задание 5"
      ]
    },
    {
      "cell_type": "markdown",
      "metadata": {
        "id": "J6AZ8785VkQd"
      },
      "source": [
        "1000 человек бросают монетку. Каждый бросил 10 раз подряд.\n",
        "\n",
        " 1. Какова вероятность того, что хотя бы у одного человека монетка выпала 10 раз подряд той же самой стороной (орлом или решкой)? \n",
        " 2. Какова вероятность того, что хотя бы у одного человека монетка выпала 8 раз подряд той же самой стороной (орлом или решкой)? \n",
        " 3. Какова вероятность того, что ровно у троих человек из 1000 монетка выпала 10 раз подряд той же самой стороной (орлом или решкой)?"
      ]
    },
    {
      "cell_type": "markdown",
      "source": [
        "### Ответ на 1 вопрос"
      ],
      "metadata": {
        "id": "LSw13LL6vfA0"
      }
    },
    {
      "cell_type": "code",
      "source": [
        "n = 1000 #количество независимых событий \n",
        "k = 9 #количество значащих бросков, так как нам нужел либо орел, либо решка(то есть первый бросок не важен)\n",
        "p = 0.5 #вероятность выпадания орла или решки\n",
        "event1 = p**k #вероятность выпадания орла или решки подряд для конкретного бросающего\n",
        "q = 1-event1 #вероятность, что подряд не выпадет для конкретного бросающего\n",
        "nobody = q**n #вероятность, что ни у кого не выпадет подряд орел или решка\n",
        "print('Ответ: ', 1-nobody)"
      ],
      "metadata": {
        "colab": {
          "base_uri": "https://localhost:8080/"
        },
        "id": "LwK6C3-6QLyB",
        "outputId": "404eae24-7460-4553-ff26-f677a365f0a8"
      },
      "execution_count": null,
      "outputs": [
        {
          "output_type": "stream",
          "name": "stdout",
          "text": [
            "Ответ:  0.858440454732242\n"
          ]
        }
      ]
    },
    {
      "cell_type": "markdown",
      "source": [
        "### Ответ на 2 вопрос"
      ],
      "metadata": {
        "id": "1D9FOZy78HgS"
      }
    },
    {
      "cell_type": "code",
      "source": [
        "event2 = event1+p**(k-1)+p**(k-2) #вероятность выпадания 8 подряд и более орла или решки\n",
        "print('Ответ:', 1-(1-event2)**n)"
      ],
      "metadata": {
        "colab": {
          "base_uri": "https://localhost:8080/"
        },
        "id": "3OGAOQxa8GXs",
        "outputId": "8922ff95-2f71-4c19-bc5e-479e0f7c8123"
      },
      "execution_count": null,
      "outputs": [
        {
          "output_type": "stream",
          "name": "stdout",
          "text": [
            "Ответ: 0.9999989494489944\n"
          ]
        }
      ]
    },
    {
      "cell_type": "markdown",
      "source": [
        "### Ответ на 3 вопрос"
      ],
      "metadata": {
        "id": "L2NFz1rAR8qS"
      }
    },
    {
      "cell_type": "code",
      "source": [
        "def comb(n, k):\n",
        "  return factorial(n)/(factorial(k)*factorial(n-k))\n",
        "def Bernoulli(n, k, p):\n",
        "  return comb(n, k) * p ** k * (1-p) ** (n-k)\n",
        "\n",
        "people = 3 #количесвто бросающих\n",
        "print('Ответ: ', Bernoulli(n, people, event1))"
      ],
      "metadata": {
        "colab": {
          "base_uri": "https://localhost:8080/"
        },
        "id": "0WilKfjJR8P6",
        "outputId": "c49b11b4-26f3-4a4f-d6f5-b3fe301ccf72"
      },
      "execution_count": null,
      "outputs": [
        {
          "output_type": "stream",
          "name": "stdout",
          "text": [
            "Ответ:  0.1762873858121736\n"
          ]
        }
      ]
    }
  ]
}