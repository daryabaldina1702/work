{
  "nbformat": 4,
  "nbformat_minor": 0,
  "metadata": {
    "colab": {
      "provenance": [],
      "collapsed_sections": []
    },
    "kernelspec": {
      "name": "ir",
      "display_name": "R"
    },
    "language_info": {
      "name": "R"
    }
  },
  "cells": [
    {
      "cell_type": "markdown",
      "source": [
        "Для выполнения заданий возьмите данные из папки [data](https://drive.google.com/drive/folders/17E4vB5kWr5FNjLKRU4XGoJSVTxn1jkg4?usp=sharing) о продажах. Данные распределены по 4 папкам:\n",
        "* sales_train.csv - данные о продажах с января 2013 по октябрь 2015.\n",
        "** date - дата продажы\n",
        "** date_block_num - номер месяца по порядку следования\n",
        "** shop_id - идентификатор магазина\n",
        "** item_id - идентификатор товара\n",
        "** item_price - цена товара\n",
        "** item_cnt_day - количество проданного товара одного вида в день\n",
        "\n",
        "* items.csv - подробная информация о товарах\n",
        "** item_id - идентификатор товара\n",
        "** item_name - название товара\n",
        "** category_id - идентификатор категории товара\n",
        "\n",
        "* item_categories.csv - подробная информация о категориях товаров\n",
        "** item_category_id - идентификатор категории товара\n",
        "** category_name - название категории товара\n",
        "\n",
        "* shops.csv - подробная информация о магазинах\n",
        "** shop_id - идентификатор магазина\n",
        "** shop_name - название магазина\n"
      ],
      "metadata": {
        "id": "vkzKWsVzbMUL"
      }
    },
    {
      "cell_type": "markdown",
      "source": [
        "## Задание 1"
      ],
      "metadata": {
        "id": "IoAoQukbbIPU"
      }
    },
    {
      "cell_type": "markdown",
      "source": [
        "\n",
        "\n",
        "1.   Найдите топ-10 самых часто покупаемых товаров (не забудьте учесть столбец item_cnt_day).\n",
        "2.   Оставьте только те из них, которые покупали все три года (2013, 2014, 2015).\n",
        "\n"
      ],
      "metadata": {
        "id": "LSgbHf-xbbxI"
      }
    },
    {
      "cell_type": "code",
      "source": [
        "library(dplyr)\n",
        "sales <- read.csv(\"sales_train.csv\")\n",
        "fail_sale <- sales[sales$item_cnt_day > 0,]\n",
        "product <- fail_sale %>% group_by(item_id) %>% summarise(item_cnt_day = sum(item_cnt_day))\n",
        "head(product[order(product$item_cnt_day, decreasing=TRUE),], n=10)"
      ],
      "metadata": {
        "colab": {
          "base_uri": "https://localhost:8080/",
          "height": 655
        },
        "id": "oRJgtQcWbxmM",
        "outputId": "8f73c5cb-5ea9-49e1-93a7-b7e164ba9b5e"
      },
      "execution_count": null,
      "outputs": [
        {
          "output_type": "stream",
          "name": "stderr",
          "text": [
            "\n",
            "Attaching package: ‘dplyr’\n",
            "\n",
            "\n",
            "The following objects are masked from ‘package:stats’:\n",
            "\n",
            "    filter, lag\n",
            "\n",
            "\n",
            "The following objects are masked from ‘package:base’:\n",
            "\n",
            "    intersect, setdiff, setequal, union\n",
            "\n",
            "\n"
          ]
        },
        {
          "output_type": "display_data",
          "data": {
            "text/html": [
              "<table class=\"dataframe\">\n",
              "<caption>A tibble: 10 × 2</caption>\n",
              "<thead>\n",
              "\t<tr><th scope=col>item_id</th><th scope=col>item_cnt_day</th></tr>\n",
              "\t<tr><th scope=col>&lt;int&gt;</th><th scope=col>&lt;dbl&gt;</th></tr>\n",
              "</thead>\n",
              "<tbody>\n",
              "\t<tr><td>20949</td><td>187660</td></tr>\n",
              "\t<tr><td> 2808</td><td> 17255</td></tr>\n",
              "\t<tr><td> 3732</td><td> 16676</td></tr>\n",
              "\t<tr><td>17717</td><td> 15830</td></tr>\n",
              "\t<tr><td> 5822</td><td> 14522</td></tr>\n",
              "\t<tr><td> 3734</td><td> 11733</td></tr>\n",
              "\t<tr><td> 6675</td><td> 10315</td></tr>\n",
              "\t<tr><td> 3731</td><td> 10105</td></tr>\n",
              "\t<tr><td> 1855</td><td> 10041</td></tr>\n",
              "\t<tr><td>16787</td><td>  9255</td></tr>\n",
              "</tbody>\n",
              "</table>\n"
            ],
            "text/markdown": "\nA tibble: 10 × 2\n\n| item_id &lt;int&gt; | item_cnt_day &lt;dbl&gt; |\n|---|---|\n| 20949 | 187660 |\n|  2808 |  17255 |\n|  3732 |  16676 |\n| 17717 |  15830 |\n|  5822 |  14522 |\n|  3734 |  11733 |\n|  6675 |  10315 |\n|  3731 |  10105 |\n|  1855 |  10041 |\n| 16787 |   9255 |\n\n",
            "text/latex": "A tibble: 10 × 2\n\\begin{tabular}{ll}\n item\\_id & item\\_cnt\\_day\\\\\n <int> & <dbl>\\\\\n\\hline\n\t 20949 & 187660\\\\\n\t  2808 &  17255\\\\\n\t  3732 &  16676\\\\\n\t 17717 &  15830\\\\\n\t  5822 &  14522\\\\\n\t  3734 &  11733\\\\\n\t  6675 &  10315\\\\\n\t  3731 &  10105\\\\\n\t  1855 &  10041\\\\\n\t 16787 &   9255\\\\\n\\end{tabular}\n",
            "text/plain": [
              "   item_id item_cnt_day\n",
              "1  20949   187660      \n",
              "2   2808    17255      \n",
              "3   3732    16676      \n",
              "4  17717    15830      \n",
              "5   5822    14522      \n",
              "6   3734    11733      \n",
              "7   6675    10315      \n",
              "8   3731    10105      \n",
              "9   1855    10041      \n",
              "10 16787     9255      "
            ]
          },
          "metadata": {}
        }
      ]
    },
    {
      "cell_type": "code",
      "source": [
        "date_2013 <- fail_sale[fail_sale$date_block_num >= 0 & fail_sale$date_block_num <= 11,]\n",
        "date_2014 <- fail_sale[fail_sale$date_block_num >= 12 & fail_sale$date_block_num <= 23,]\n",
        "date_2015 <- fail_sale[fail_sale$date_block_num >= 24 & fail_sale$date_block_num <= 33,]\n",
        "valid_date <- date_2013[date_2013$item_id %in% c(date_2014$item_id ,date_2015$item_id ),]\n",
        "top <- product[product$item_id %in% (valid_date$item_id),]\n",
        "head(top[order(top$item_cnt_day, decreasing=TRUE),], n = 9)"
      ],
      "metadata": {
        "colab": {
          "base_uri": "https://localhost:8080/",
          "height": 380
        },
        "id": "zYdRzUdDcYaG",
        "outputId": "6f276230-e708-4558-c941-022abb043028"
      },
      "execution_count": null,
      "outputs": [
        {
          "output_type": "display_data",
          "data": {
            "text/html": [
              "<table class=\"dataframe\">\n",
              "<caption>A tibble: 9 × 2</caption>\n",
              "<thead>\n",
              "\t<tr><th scope=col>item_id</th><th scope=col>item_cnt_day</th></tr>\n",
              "\t<tr><th scope=col>&lt;int&gt;</th><th scope=col>&lt;dbl&gt;</th></tr>\n",
              "</thead>\n",
              "<tbody>\n",
              "\t<tr><td>20949</td><td>187660</td></tr>\n",
              "\t<tr><td> 2808</td><td> 17255</td></tr>\n",
              "\t<tr><td> 3732</td><td> 16676</td></tr>\n",
              "\t<tr><td>17717</td><td> 15830</td></tr>\n",
              "\t<tr><td> 5822</td><td> 14522</td></tr>\n",
              "\t<tr><td> 3734</td><td> 11733</td></tr>\n",
              "\t<tr><td> 6675</td><td> 10315</td></tr>\n",
              "\t<tr><td> 1855</td><td> 10041</td></tr>\n",
              "\t<tr><td>16787</td><td>  9255</td></tr>\n",
              "</tbody>\n",
              "</table>\n"
            ],
            "text/markdown": "\nA tibble: 9 × 2\n\n| item_id &lt;int&gt; | item_cnt_day &lt;dbl&gt; |\n|---|---|\n| 20949 | 187660 |\n|  2808 |  17255 |\n|  3732 |  16676 |\n| 17717 |  15830 |\n|  5822 |  14522 |\n|  3734 |  11733 |\n|  6675 |  10315 |\n|  1855 |  10041 |\n| 16787 |   9255 |\n\n",
            "text/latex": "A tibble: 9 × 2\n\\begin{tabular}{ll}\n item\\_id & item\\_cnt\\_day\\\\\n <int> & <dbl>\\\\\n\\hline\n\t 20949 & 187660\\\\\n\t  2808 &  17255\\\\\n\t  3732 &  16676\\\\\n\t 17717 &  15830\\\\\n\t  5822 &  14522\\\\\n\t  3734 &  11733\\\\\n\t  6675 &  10315\\\\\n\t  1855 &  10041\\\\\n\t 16787 &   9255\\\\\n\\end{tabular}\n",
            "text/plain": [
              "  item_id item_cnt_day\n",
              "1 20949   187660      \n",
              "2  2808    17255      \n",
              "3  3732    16676      \n",
              "4 17717    15830      \n",
              "5  5822    14522      \n",
              "6  3734    11733      \n",
              "7  6675    10315      \n",
              "8  1855    10041      \n",
              "9 16787     9255      "
            ]
          },
          "metadata": {}
        }
      ]
    },
    {
      "cell_type": "markdown",
      "source": [
        "## Задание 2"
      ],
      "metadata": {
        "id": "ywHu5mD8cZG8"
      }
    },
    {
      "cell_type": "markdown",
      "source": [
        "При выполнении на pandas не используйте merge().\n",
        "\n",
        " \n",
        "\n",
        "1.   Определите категорию товаров, в которой совершается минимальное число покупок. Выведите айди и название категории.\n",
        "2.   Определите категорию товаров, в которой совершается максимальное число покупок. Выведите айди и название категории.\n",
        "\n",
        "\n"
      ],
      "metadata": {
        "id": "-wruR0xzcfR8"
      }
    },
    {
      "cell_type": "code",
      "source": [
        "item  <- read.csv(\"items.csv\")\n",
        "category <- read.csv(\"item_categories.csv\")\n",
        "names(category)[2] <-'category_id'\n",
        "merge_sales_and_item <- merge(sales, item, by=\"item_id\")\n",
        "use_items <- merge(merge_sales_and_item, category, by=\"category_id\")\n",
        "use_items <- use_items[(use_items$item_cnt_day > 0),]\n",
        "min_category <- use_items %>% group_by(category_id, item_category_name) %>% summarise(item_cnt_day = sum(item_cnt_day))\n",
        "tail(min_category[order(min_category$item_cnt_day, decreasing=TRUE ),], n=1)"
      ],
      "metadata": {
        "colab": {
          "base_uri": "https://localhost:8080/",
          "height": 164
        },
        "id": "f_AnsEKncwSz",
        "outputId": "463a71cb-789e-4bc3-b865-c745453a984e"
      },
      "execution_count": null,
      "outputs": [
        {
          "output_type": "stream",
          "name": "stderr",
          "text": [
            "\u001b[1m\u001b[22m`summarise()` has grouped output by 'category_id'. You can override using the\n",
            "`.groups` argument.\n"
          ]
        },
        {
          "output_type": "display_data",
          "data": {
            "text/html": [
              "<table class=\"dataframe\">\n",
              "<caption>A grouped_df: 1 × 3</caption>\n",
              "<thead>\n",
              "\t<tr><th scope=col>category_id</th><th scope=col>item_category_name</th><th scope=col>item_cnt_day</th></tr>\n",
              "\t<tr><th scope=col>&lt;int&gt;</th><th scope=col>&lt;chr&gt;</th><th scope=col>&lt;dbl&gt;</th></tr>\n",
              "</thead>\n",
              "<tbody>\n",
              "\t<tr><td>51</td><td> Books - Cognitive literature</td><td>1</td></tr>\n",
              "</tbody>\n",
              "</table>\n"
            ],
            "text/markdown": "\nA grouped_df: 1 × 3\n\n| category_id &lt;int&gt; | item_category_name &lt;chr&gt; | item_cnt_day &lt;dbl&gt; |\n|---|---|---|\n| 51 |  Books - Cognitive literature | 1 |\n\n",
            "text/latex": "A grouped\\_df: 1 × 3\n\\begin{tabular}{lll}\n category\\_id & item\\_category\\_name & item\\_cnt\\_day\\\\\n <int> & <chr> & <dbl>\\\\\n\\hline\n\t 51 &  Books - Cognitive literature & 1\\\\\n\\end{tabular}\n",
            "text/plain": [
              "  category_id item_category_name            item_cnt_day\n",
              "1 51           Books - Cognitive literature 1           "
            ]
          },
          "metadata": {}
        }
      ]
    },
    {
      "cell_type": "code",
      "source": [
        "max_category <- use_items %>% group_by(category_id, item_category_name) %>% summarise(item_cnt_day = sum(item_cnt_day))\n",
        "head(max_category[order(max_category$item_cnt_day, decreasing=TRUE ),], n=1)"
      ],
      "metadata": {
        "colab": {
          "base_uri": "https://localhost:8080/",
          "height": 164
        },
        "id": "efg9kV7acwlO",
        "outputId": "077a2bcf-347b-4e33-de25-b49d0dac354a"
      },
      "execution_count": null,
      "outputs": [
        {
          "output_type": "stream",
          "name": "stderr",
          "text": [
            "\u001b[1m\u001b[22m`summarise()` has grouped output by 'category_id'. You can override using the\n",
            "`.groups` argument.\n"
          ]
        },
        {
          "output_type": "display_data",
          "data": {
            "text/html": [
              "<table class=\"dataframe\">\n",
              "<caption>A grouped_df: 1 × 3</caption>\n",
              "<thead>\n",
              "\t<tr><th scope=col>category_id</th><th scope=col>item_category_name</th><th scope=col>item_cnt_day</th></tr>\n",
              "\t<tr><th scope=col>&lt;int&gt;</th><th scope=col>&lt;chr&gt;</th><th scope=col>&lt;dbl&gt;</th></tr>\n",
              "</thead>\n",
              "<tbody>\n",
              "\t<tr><td>40</td><td> Cinema - DVD</td><td>634885</td></tr>\n",
              "</tbody>\n",
              "</table>\n"
            ],
            "text/markdown": "\nA grouped_df: 1 × 3\n\n| category_id &lt;int&gt; | item_category_name &lt;chr&gt; | item_cnt_day &lt;dbl&gt; |\n|---|---|---|\n| 40 |  Cinema - DVD | 634885 |\n\n",
            "text/latex": "A grouped\\_df: 1 × 3\n\\begin{tabular}{lll}\n category\\_id & item\\_category\\_name & item\\_cnt\\_day\\\\\n <int> & <chr> & <dbl>\\\\\n\\hline\n\t 40 &  Cinema - DVD & 634885\\\\\n\\end{tabular}\n",
            "text/plain": [
              "  category_id item_category_name item_cnt_day\n",
              "1 40           Cinema - DVD      634885      "
            ]
          },
          "metadata": {}
        }
      ]
    },
    {
      "cell_type": "markdown",
      "source": [
        "## Задание 3"
      ],
      "metadata": {
        "id": "NTux7eUucx5E"
      }
    },
    {
      "cell_type": "markdown",
      "source": [
        "\n",
        "\n",
        "1.   Для категорий из задания 2 найдите среднее количество продаж каждого товара категории в 5 магазинах с наибольшими продажами.\n",
        "2.   Найдите месяцы с минимальными и максимальными продажами для каждого товара из пункта 1.\n",
        "\n"
      ],
      "metadata": {
        "id": "XUiXNpZnc0F1"
      }
    },
    {
      "cell_type": "code",
      "source": [
        "use_categories <- use_items[(use_items$category_id == 51) | (use_items$category_id == 40),]\n",
        "top5_shops <- use_categories %>% group_by(shop_id) %>% summarise(item_cnt_day = sum(item_cnt_day))\n",
        "top5_shops <- head(top5_shops[order(top5_shops$item_cnt_day, decreasing=TRUE ),], n=5)\n",
        "category_sales <- use_categories[use_categories$shop_id %in% (top5_shops$shop_id),]\n",
        "category_sales %>% group_by(shop_id,item_id) %>% summarise(item_cnt_day = mean(item_cnt_day))"
      ],
      "metadata": {
        "id": "G7zP_9S4c6ev",
        "colab": {
          "base_uri": "https://localhost:8080/",
          "height": 1000
        },
        "outputId": "0f503afd-2504-4ff2-babb-3ea96075d8b4"
      },
      "execution_count": null,
      "outputs": [
        {
          "output_type": "stream",
          "name": "stderr",
          "text": [
            "\u001b[1m\u001b[22m`summarise()` has grouped output by 'shop_id'. You can override using the\n",
            "`.groups` argument.\n"
          ]
        },
        {
          "output_type": "display_data",
          "data": {
            "text/html": [
              "<table class=\"dataframe\">\n",
              "<caption>A grouped_df: 19534 × 3</caption>\n",
              "<thead>\n",
              "\t<tr><th scope=col>shop_id</th><th scope=col>item_id</th><th scope=col>item_cnt_day</th></tr>\n",
              "\t<tr><th scope=col>&lt;int&gt;</th><th scope=col>&lt;int&gt;</th><th scope=col>&lt;dbl&gt;</th></tr>\n",
              "</thead>\n",
              "<tbody>\n",
              "\t<tr><td>25</td><td> 18</td><td>1.000000</td></tr>\n",
              "\t<tr><td>25</td><td> 19</td><td>1.000000</td></tr>\n",
              "\t<tr><td>25</td><td> 30</td><td>1.480620</td></tr>\n",
              "\t<tr><td>25</td><td> 32</td><td>1.263158</td></tr>\n",
              "\t<tr><td>25</td><td> 34</td><td>1.000000</td></tr>\n",
              "\t<tr><td>25</td><td> 35</td><td>1.750000</td></tr>\n",
              "\t<tr><td>25</td><td> 37</td><td>1.000000</td></tr>\n",
              "\t<tr><td>25</td><td> 64</td><td>1.000000</td></tr>\n",
              "\t<tr><td>25</td><td> 67</td><td>1.050000</td></tr>\n",
              "\t<tr><td>25</td><td> 72</td><td>1.000000</td></tr>\n",
              "\t<tr><td>25</td><td> 73</td><td>1.000000</td></tr>\n",
              "\t<tr><td>25</td><td> 75</td><td>1.000000</td></tr>\n",
              "\t<tr><td>25</td><td> 77</td><td>1.196429</td></tr>\n",
              "\t<tr><td>25</td><td> 78</td><td>1.250000</td></tr>\n",
              "\t<tr><td>25</td><td> 79</td><td>1.000000</td></tr>\n",
              "\t<tr><td>25</td><td> 81</td><td>1.000000</td></tr>\n",
              "\t<tr><td>25</td><td> 86</td><td>1.000000</td></tr>\n",
              "\t<tr><td>25</td><td> 88</td><td>1.000000</td></tr>\n",
              "\t<tr><td>25</td><td> 89</td><td>1.000000</td></tr>\n",
              "\t<tr><td>25</td><td> 90</td><td>1.214286</td></tr>\n",
              "\t<tr><td>25</td><td> 95</td><td>1.000000</td></tr>\n",
              "\t<tr><td>25</td><td> 96</td><td>1.000000</td></tr>\n",
              "\t<tr><td>25</td><td> 97</td><td>1.000000</td></tr>\n",
              "\t<tr><td>25</td><td> 98</td><td>1.481481</td></tr>\n",
              "\t<tr><td>25</td><td>100</td><td>1.000000</td></tr>\n",
              "\t<tr><td>25</td><td>933</td><td>1.000000</td></tr>\n",
              "\t<tr><td>25</td><td>934</td><td>1.064516</td></tr>\n",
              "\t<tr><td>25</td><td>936</td><td>1.000000</td></tr>\n",
              "\t<tr><td>25</td><td>937</td><td>1.000000</td></tr>\n",
              "\t<tr><td>25</td><td>941</td><td>1.000000</td></tr>\n",
              "\t<tr><td>⋮</td><td>⋮</td><td>⋮</td></tr>\n",
              "\t<tr><td>57</td><td>22069</td><td>1.000000</td></tr>\n",
              "\t<tr><td>57</td><td>22070</td><td>1.333333</td></tr>\n",
              "\t<tr><td>57</td><td>22071</td><td>1.083333</td></tr>\n",
              "\t<tr><td>57</td><td>22072</td><td>1.433333</td></tr>\n",
              "\t<tr><td>57</td><td>22074</td><td>1.000000</td></tr>\n",
              "\t<tr><td>57</td><td>22075</td><td>1.000000</td></tr>\n",
              "\t<tr><td>57</td><td>22108</td><td>1.000000</td></tr>\n",
              "\t<tr><td>57</td><td>22114</td><td>1.000000</td></tr>\n",
              "\t<tr><td>57</td><td>22119</td><td>1.000000</td></tr>\n",
              "\t<tr><td>57</td><td>22120</td><td>1.000000</td></tr>\n",
              "\t<tr><td>57</td><td>22121</td><td>1.357143</td></tr>\n",
              "\t<tr><td>57</td><td>22123</td><td>1.000000</td></tr>\n",
              "\t<tr><td>57</td><td>22124</td><td>1.000000</td></tr>\n",
              "\t<tr><td>57</td><td>22126</td><td>1.192308</td></tr>\n",
              "\t<tr><td>57</td><td>22128</td><td>1.000000</td></tr>\n",
              "\t<tr><td>57</td><td>22130</td><td>1.000000</td></tr>\n",
              "\t<tr><td>57</td><td>22132</td><td>1.000000</td></tr>\n",
              "\t<tr><td>57</td><td>22133</td><td>1.000000</td></tr>\n",
              "\t<tr><td>57</td><td>22134</td><td>1.250000</td></tr>\n",
              "\t<tr><td>57</td><td>22136</td><td>1.200000</td></tr>\n",
              "\t<tr><td>57</td><td>22143</td><td>1.700000</td></tr>\n",
              "\t<tr><td>57</td><td>22147</td><td>1.000000</td></tr>\n",
              "\t<tr><td>57</td><td>22148</td><td>1.000000</td></tr>\n",
              "\t<tr><td>57</td><td>22149</td><td>1.000000</td></tr>\n",
              "\t<tr><td>57</td><td>22151</td><td>1.142857</td></tr>\n",
              "\t<tr><td>57</td><td>22152</td><td>1.100000</td></tr>\n",
              "\t<tr><td>57</td><td>22159</td><td>1.000000</td></tr>\n",
              "\t<tr><td>57</td><td>22160</td><td>1.000000</td></tr>\n",
              "\t<tr><td>57</td><td>22162</td><td>1.396226</td></tr>\n",
              "\t<tr><td>57</td><td>22163</td><td>1.000000</td></tr>\n",
              "</tbody>\n",
              "</table>\n"
            ],
            "text/markdown": "\nA grouped_df: 19534 × 3\n\n| shop_id &lt;int&gt; | item_id &lt;int&gt; | item_cnt_day &lt;dbl&gt; |\n|---|---|---|\n| 25 |  18 | 1.000000 |\n| 25 |  19 | 1.000000 |\n| 25 |  30 | 1.480620 |\n| 25 |  32 | 1.263158 |\n| 25 |  34 | 1.000000 |\n| 25 |  35 | 1.750000 |\n| 25 |  37 | 1.000000 |\n| 25 |  64 | 1.000000 |\n| 25 |  67 | 1.050000 |\n| 25 |  72 | 1.000000 |\n| 25 |  73 | 1.000000 |\n| 25 |  75 | 1.000000 |\n| 25 |  77 | 1.196429 |\n| 25 |  78 | 1.250000 |\n| 25 |  79 | 1.000000 |\n| 25 |  81 | 1.000000 |\n| 25 |  86 | 1.000000 |\n| 25 |  88 | 1.000000 |\n| 25 |  89 | 1.000000 |\n| 25 |  90 | 1.214286 |\n| 25 |  95 | 1.000000 |\n| 25 |  96 | 1.000000 |\n| 25 |  97 | 1.000000 |\n| 25 |  98 | 1.481481 |\n| 25 | 100 | 1.000000 |\n| 25 | 933 | 1.000000 |\n| 25 | 934 | 1.064516 |\n| 25 | 936 | 1.000000 |\n| 25 | 937 | 1.000000 |\n| 25 | 941 | 1.000000 |\n| ⋮ | ⋮ | ⋮ |\n| 57 | 22069 | 1.000000 |\n| 57 | 22070 | 1.333333 |\n| 57 | 22071 | 1.083333 |\n| 57 | 22072 | 1.433333 |\n| 57 | 22074 | 1.000000 |\n| 57 | 22075 | 1.000000 |\n| 57 | 22108 | 1.000000 |\n| 57 | 22114 | 1.000000 |\n| 57 | 22119 | 1.000000 |\n| 57 | 22120 | 1.000000 |\n| 57 | 22121 | 1.357143 |\n| 57 | 22123 | 1.000000 |\n| 57 | 22124 | 1.000000 |\n| 57 | 22126 | 1.192308 |\n| 57 | 22128 | 1.000000 |\n| 57 | 22130 | 1.000000 |\n| 57 | 22132 | 1.000000 |\n| 57 | 22133 | 1.000000 |\n| 57 | 22134 | 1.250000 |\n| 57 | 22136 | 1.200000 |\n| 57 | 22143 | 1.700000 |\n| 57 | 22147 | 1.000000 |\n| 57 | 22148 | 1.000000 |\n| 57 | 22149 | 1.000000 |\n| 57 | 22151 | 1.142857 |\n| 57 | 22152 | 1.100000 |\n| 57 | 22159 | 1.000000 |\n| 57 | 22160 | 1.000000 |\n| 57 | 22162 | 1.396226 |\n| 57 | 22163 | 1.000000 |\n\n",
            "text/latex": "A grouped\\_df: 19534 × 3\n\\begin{tabular}{lll}\n shop\\_id & item\\_id & item\\_cnt\\_day\\\\\n <int> & <int> & <dbl>\\\\\n\\hline\n\t 25 &  18 & 1.000000\\\\\n\t 25 &  19 & 1.000000\\\\\n\t 25 &  30 & 1.480620\\\\\n\t 25 &  32 & 1.263158\\\\\n\t 25 &  34 & 1.000000\\\\\n\t 25 &  35 & 1.750000\\\\\n\t 25 &  37 & 1.000000\\\\\n\t 25 &  64 & 1.000000\\\\\n\t 25 &  67 & 1.050000\\\\\n\t 25 &  72 & 1.000000\\\\\n\t 25 &  73 & 1.000000\\\\\n\t 25 &  75 & 1.000000\\\\\n\t 25 &  77 & 1.196429\\\\\n\t 25 &  78 & 1.250000\\\\\n\t 25 &  79 & 1.000000\\\\\n\t 25 &  81 & 1.000000\\\\\n\t 25 &  86 & 1.000000\\\\\n\t 25 &  88 & 1.000000\\\\\n\t 25 &  89 & 1.000000\\\\\n\t 25 &  90 & 1.214286\\\\\n\t 25 &  95 & 1.000000\\\\\n\t 25 &  96 & 1.000000\\\\\n\t 25 &  97 & 1.000000\\\\\n\t 25 &  98 & 1.481481\\\\\n\t 25 & 100 & 1.000000\\\\\n\t 25 & 933 & 1.000000\\\\\n\t 25 & 934 & 1.064516\\\\\n\t 25 & 936 & 1.000000\\\\\n\t 25 & 937 & 1.000000\\\\\n\t 25 & 941 & 1.000000\\\\\n\t ⋮ & ⋮ & ⋮\\\\\n\t 57 & 22069 & 1.000000\\\\\n\t 57 & 22070 & 1.333333\\\\\n\t 57 & 22071 & 1.083333\\\\\n\t 57 & 22072 & 1.433333\\\\\n\t 57 & 22074 & 1.000000\\\\\n\t 57 & 22075 & 1.000000\\\\\n\t 57 & 22108 & 1.000000\\\\\n\t 57 & 22114 & 1.000000\\\\\n\t 57 & 22119 & 1.000000\\\\\n\t 57 & 22120 & 1.000000\\\\\n\t 57 & 22121 & 1.357143\\\\\n\t 57 & 22123 & 1.000000\\\\\n\t 57 & 22124 & 1.000000\\\\\n\t 57 & 22126 & 1.192308\\\\\n\t 57 & 22128 & 1.000000\\\\\n\t 57 & 22130 & 1.000000\\\\\n\t 57 & 22132 & 1.000000\\\\\n\t 57 & 22133 & 1.000000\\\\\n\t 57 & 22134 & 1.250000\\\\\n\t 57 & 22136 & 1.200000\\\\\n\t 57 & 22143 & 1.700000\\\\\n\t 57 & 22147 & 1.000000\\\\\n\t 57 & 22148 & 1.000000\\\\\n\t 57 & 22149 & 1.000000\\\\\n\t 57 & 22151 & 1.142857\\\\\n\t 57 & 22152 & 1.100000\\\\\n\t 57 & 22159 & 1.000000\\\\\n\t 57 & 22160 & 1.000000\\\\\n\t 57 & 22162 & 1.396226\\\\\n\t 57 & 22163 & 1.000000\\\\\n\\end{tabular}\n",
            "text/plain": [
              "      shop_id item_id item_cnt_day\n",
              "1     25       18     1.000000    \n",
              "2     25       19     1.000000    \n",
              "3     25       30     1.480620    \n",
              "4     25       32     1.263158    \n",
              "5     25       34     1.000000    \n",
              "6     25       35     1.750000    \n",
              "7     25       37     1.000000    \n",
              "8     25       64     1.000000    \n",
              "9     25       67     1.050000    \n",
              "10    25       72     1.000000    \n",
              "11    25       73     1.000000    \n",
              "12    25       75     1.000000    \n",
              "13    25       77     1.196429    \n",
              "14    25       78     1.250000    \n",
              "15    25       79     1.000000    \n",
              "16    25       81     1.000000    \n",
              "17    25       86     1.000000    \n",
              "18    25       88     1.000000    \n",
              "19    25       89     1.000000    \n",
              "20    25       90     1.214286    \n",
              "21    25       95     1.000000    \n",
              "22    25       96     1.000000    \n",
              "23    25       97     1.000000    \n",
              "24    25       98     1.481481    \n",
              "25    25      100     1.000000    \n",
              "26    25      933     1.000000    \n",
              "27    25      934     1.064516    \n",
              "28    25      936     1.000000    \n",
              "29    25      937     1.000000    \n",
              "30    25      941     1.000000    \n",
              "⋮     ⋮       ⋮       ⋮           \n",
              "19505 57      22069   1.000000    \n",
              "19506 57      22070   1.333333    \n",
              "19507 57      22071   1.083333    \n",
              "19508 57      22072   1.433333    \n",
              "19509 57      22074   1.000000    \n",
              "19510 57      22075   1.000000    \n",
              "19511 57      22108   1.000000    \n",
              "19512 57      22114   1.000000    \n",
              "19513 57      22119   1.000000    \n",
              "19514 57      22120   1.000000    \n",
              "19515 57      22121   1.357143    \n",
              "19516 57      22123   1.000000    \n",
              "19517 57      22124   1.000000    \n",
              "19518 57      22126   1.192308    \n",
              "19519 57      22128   1.000000    \n",
              "19520 57      22130   1.000000    \n",
              "19521 57      22132   1.000000    \n",
              "19522 57      22133   1.000000    \n",
              "19523 57      22134   1.250000    \n",
              "19524 57      22136   1.200000    \n",
              "19525 57      22143   1.700000    \n",
              "19526 57      22147   1.000000    \n",
              "19527 57      22148   1.000000    \n",
              "19528 57      22149   1.000000    \n",
              "19529 57      22151   1.142857    \n",
              "19530 57      22152   1.100000    \n",
              "19531 57      22159   1.000000    \n",
              "19532 57      22160   1.000000    \n",
              "19533 57      22162   1.396226    \n",
              "19534 57      22163   1.000000    "
            ]
          },
          "metadata": {}
        }
      ]
    },
    {
      "cell_type": "code",
      "source": [
        "#c максимальными продажами\n",
        "month_sales <- use_items %>% group_by(date_block_num, date, item_id) %>% summarise(item_cnt_day = sum(item_cnt_day))\n",
        "month_sales_for_top5_shops <- month_sales[month_sales$item_id %in% (category_sales$item_id),]\n",
        "max_sale_for_item <- month_sales_for_top5_shops %>% group_by(item_id) %>% summarise_if(is.numeric, max)\n",
        "max_sale_for_item"
      ],
      "metadata": {
        "id": "2sWJrxFlc65o",
        "colab": {
          "base_uri": "https://localhost:8080/",
          "height": 1000
        },
        "outputId": "910e2687-e23e-477b-a5dc-9a318d66f547"
      },
      "execution_count": null,
      "outputs": [
        {
          "output_type": "stream",
          "name": "stderr",
          "text": [
            "\u001b[1m\u001b[22m`summarise()` has grouped output by 'date_block_num', 'date'. You can override\n",
            "using the `.groups` argument.\n"
          ]
        },
        {
          "output_type": "display_data",
          "data": {
            "text/html": [
              "<table class=\"dataframe\">\n",
              "<caption>A tibble: 4716 × 3</caption>\n",
              "<thead>\n",
              "\t<tr><th scope=col>item_id</th><th scope=col>date_block_num</th><th scope=col>item_cnt_day</th></tr>\n",
              "\t<tr><th scope=col>&lt;int&gt;</th><th scope=col>&lt;int&gt;</th><th scope=col>&lt;dbl&gt;</th></tr>\n",
              "</thead>\n",
              "<tbody>\n",
              "\t<tr><td> 0</td><td>20</td><td>  1</td></tr>\n",
              "\t<tr><td> 2</td><td>22</td><td>  1</td></tr>\n",
              "\t<tr><td> 3</td><td>19</td><td>  1</td></tr>\n",
              "\t<tr><td> 4</td><td>20</td><td>  1</td></tr>\n",
              "\t<tr><td> 5</td><td>23</td><td>  1</td></tr>\n",
              "\t<tr><td> 6</td><td>18</td><td>  1</td></tr>\n",
              "\t<tr><td> 7</td><td>23</td><td>  1</td></tr>\n",
              "\t<tr><td> 8</td><td>20</td><td>  1</td></tr>\n",
              "\t<tr><td> 9</td><td>19</td><td>  1</td></tr>\n",
              "\t<tr><td>10</td><td>24</td><td>  1</td></tr>\n",
              "\t<tr><td>11</td><td>22</td><td>  1</td></tr>\n",
              "\t<tr><td>13</td><td>20</td><td>  1</td></tr>\n",
              "\t<tr><td>14</td><td>23</td><td>  1</td></tr>\n",
              "\t<tr><td>15</td><td>22</td><td>  1</td></tr>\n",
              "\t<tr><td>18</td><td>19</td><td>  1</td></tr>\n",
              "\t<tr><td>19</td><td> 0</td><td>  1</td></tr>\n",
              "\t<tr><td>20</td><td>19</td><td>  1</td></tr>\n",
              "\t<tr><td>21</td><td>20</td><td>  1</td></tr>\n",
              "\t<tr><td>22</td><td>27</td><td>  1</td></tr>\n",
              "\t<tr><td>23</td><td>25</td><td>  1</td></tr>\n",
              "\t<tr><td>24</td><td>27</td><td>  1</td></tr>\n",
              "\t<tr><td>25</td><td>19</td><td>  1</td></tr>\n",
              "\t<tr><td>26</td><td>21</td><td>  1</td></tr>\n",
              "\t<tr><td>30</td><td>33</td><td>118</td></tr>\n",
              "\t<tr><td>32</td><td>33</td><td> 31</td></tr>\n",
              "\t<tr><td>34</td><td>18</td><td>  4</td></tr>\n",
              "\t<tr><td>35</td><td>20</td><td> 25</td></tr>\n",
              "\t<tr><td>37</td><td>23</td><td>  5</td></tr>\n",
              "\t<tr><td>43</td><td> 7</td><td>  1</td></tr>\n",
              "\t<tr><td>63</td><td> 6</td><td>  2</td></tr>\n",
              "\t<tr><td>⋮</td><td>⋮</td><td>⋮</td></tr>\n",
              "\t<tr><td>22075</td><td>12</td><td> 2</td></tr>\n",
              "\t<tr><td>22108</td><td> 6</td><td> 1</td></tr>\n",
              "\t<tr><td>22114</td><td>28</td><td> 4</td></tr>\n",
              "\t<tr><td>22116</td><td>11</td><td> 1</td></tr>\n",
              "\t<tr><td>22119</td><td>26</td><td> 2</td></tr>\n",
              "\t<tr><td>22120</td><td>25</td><td> 2</td></tr>\n",
              "\t<tr><td>22121</td><td>10</td><td>18</td></tr>\n",
              "\t<tr><td>22123</td><td>17</td><td> 3</td></tr>\n",
              "\t<tr><td>22124</td><td> 4</td><td> 2</td></tr>\n",
              "\t<tr><td>22126</td><td>19</td><td>15</td></tr>\n",
              "\t<tr><td>22128</td><td>14</td><td> 1</td></tr>\n",
              "\t<tr><td>22129</td><td> 7</td><td> 1</td></tr>\n",
              "\t<tr><td>22130</td><td> 2</td><td>23</td></tr>\n",
              "\t<tr><td>22132</td><td>16</td><td> 3</td></tr>\n",
              "\t<tr><td>22133</td><td>26</td><td> 2</td></tr>\n",
              "\t<tr><td>22134</td><td>14</td><td>22</td></tr>\n",
              "\t<tr><td>22136</td><td>17</td><td> 3</td></tr>\n",
              "\t<tr><td>22141</td><td>16</td><td> 6</td></tr>\n",
              "\t<tr><td>22143</td><td>22</td><td>56</td></tr>\n",
              "\t<tr><td>22147</td><td>20</td><td> 3</td></tr>\n",
              "\t<tr><td>22148</td><td> 6</td><td> 1</td></tr>\n",
              "\t<tr><td>22149</td><td>13</td><td> 2</td></tr>\n",
              "\t<tr><td>22151</td><td> 6</td><td>31</td></tr>\n",
              "\t<tr><td>22152</td><td>13</td><td> 3</td></tr>\n",
              "\t<tr><td>22156</td><td>12</td><td> 1</td></tr>\n",
              "\t<tr><td>22157</td><td> 8</td><td> 1</td></tr>\n",
              "\t<tr><td>22159</td><td>29</td><td> 2</td></tr>\n",
              "\t<tr><td>22160</td><td>17</td><td> 2</td></tr>\n",
              "\t<tr><td>22162</td><td>33</td><td>33</td></tr>\n",
              "\t<tr><td>22163</td><td>33</td><td> 4</td></tr>\n",
              "</tbody>\n",
              "</table>\n"
            ],
            "text/markdown": "\nA tibble: 4716 × 3\n\n| item_id &lt;int&gt; | date_block_num &lt;int&gt; | item_cnt_day &lt;dbl&gt; |\n|---|---|---|\n|  0 | 20 |   1 |\n|  2 | 22 |   1 |\n|  3 | 19 |   1 |\n|  4 | 20 |   1 |\n|  5 | 23 |   1 |\n|  6 | 18 |   1 |\n|  7 | 23 |   1 |\n|  8 | 20 |   1 |\n|  9 | 19 |   1 |\n| 10 | 24 |   1 |\n| 11 | 22 |   1 |\n| 13 | 20 |   1 |\n| 14 | 23 |   1 |\n| 15 | 22 |   1 |\n| 18 | 19 |   1 |\n| 19 |  0 |   1 |\n| 20 | 19 |   1 |\n| 21 | 20 |   1 |\n| 22 | 27 |   1 |\n| 23 | 25 |   1 |\n| 24 | 27 |   1 |\n| 25 | 19 |   1 |\n| 26 | 21 |   1 |\n| 30 | 33 | 118 |\n| 32 | 33 |  31 |\n| 34 | 18 |   4 |\n| 35 | 20 |  25 |\n| 37 | 23 |   5 |\n| 43 |  7 |   1 |\n| 63 |  6 |   2 |\n| ⋮ | ⋮ | ⋮ |\n| 22075 | 12 |  2 |\n| 22108 |  6 |  1 |\n| 22114 | 28 |  4 |\n| 22116 | 11 |  1 |\n| 22119 | 26 |  2 |\n| 22120 | 25 |  2 |\n| 22121 | 10 | 18 |\n| 22123 | 17 |  3 |\n| 22124 |  4 |  2 |\n| 22126 | 19 | 15 |\n| 22128 | 14 |  1 |\n| 22129 |  7 |  1 |\n| 22130 |  2 | 23 |\n| 22132 | 16 |  3 |\n| 22133 | 26 |  2 |\n| 22134 | 14 | 22 |\n| 22136 | 17 |  3 |\n| 22141 | 16 |  6 |\n| 22143 | 22 | 56 |\n| 22147 | 20 |  3 |\n| 22148 |  6 |  1 |\n| 22149 | 13 |  2 |\n| 22151 |  6 | 31 |\n| 22152 | 13 |  3 |\n| 22156 | 12 |  1 |\n| 22157 |  8 |  1 |\n| 22159 | 29 |  2 |\n| 22160 | 17 |  2 |\n| 22162 | 33 | 33 |\n| 22163 | 33 |  4 |\n\n",
            "text/latex": "A tibble: 4716 × 3\n\\begin{tabular}{lll}\n item\\_id & date\\_block\\_num & item\\_cnt\\_day\\\\\n <int> & <int> & <dbl>\\\\\n\\hline\n\t  0 & 20 &   1\\\\\n\t  2 & 22 &   1\\\\\n\t  3 & 19 &   1\\\\\n\t  4 & 20 &   1\\\\\n\t  5 & 23 &   1\\\\\n\t  6 & 18 &   1\\\\\n\t  7 & 23 &   1\\\\\n\t  8 & 20 &   1\\\\\n\t  9 & 19 &   1\\\\\n\t 10 & 24 &   1\\\\\n\t 11 & 22 &   1\\\\\n\t 13 & 20 &   1\\\\\n\t 14 & 23 &   1\\\\\n\t 15 & 22 &   1\\\\\n\t 18 & 19 &   1\\\\\n\t 19 &  0 &   1\\\\\n\t 20 & 19 &   1\\\\\n\t 21 & 20 &   1\\\\\n\t 22 & 27 &   1\\\\\n\t 23 & 25 &   1\\\\\n\t 24 & 27 &   1\\\\\n\t 25 & 19 &   1\\\\\n\t 26 & 21 &   1\\\\\n\t 30 & 33 & 118\\\\\n\t 32 & 33 &  31\\\\\n\t 34 & 18 &   4\\\\\n\t 35 & 20 &  25\\\\\n\t 37 & 23 &   5\\\\\n\t 43 &  7 &   1\\\\\n\t 63 &  6 &   2\\\\\n\t ⋮ & ⋮ & ⋮\\\\\n\t 22075 & 12 &  2\\\\\n\t 22108 &  6 &  1\\\\\n\t 22114 & 28 &  4\\\\\n\t 22116 & 11 &  1\\\\\n\t 22119 & 26 &  2\\\\\n\t 22120 & 25 &  2\\\\\n\t 22121 & 10 & 18\\\\\n\t 22123 & 17 &  3\\\\\n\t 22124 &  4 &  2\\\\\n\t 22126 & 19 & 15\\\\\n\t 22128 & 14 &  1\\\\\n\t 22129 &  7 &  1\\\\\n\t 22130 &  2 & 23\\\\\n\t 22132 & 16 &  3\\\\\n\t 22133 & 26 &  2\\\\\n\t 22134 & 14 & 22\\\\\n\t 22136 & 17 &  3\\\\\n\t 22141 & 16 &  6\\\\\n\t 22143 & 22 & 56\\\\\n\t 22147 & 20 &  3\\\\\n\t 22148 &  6 &  1\\\\\n\t 22149 & 13 &  2\\\\\n\t 22151 &  6 & 31\\\\\n\t 22152 & 13 &  3\\\\\n\t 22156 & 12 &  1\\\\\n\t 22157 &  8 &  1\\\\\n\t 22159 & 29 &  2\\\\\n\t 22160 & 17 &  2\\\\\n\t 22162 & 33 & 33\\\\\n\t 22163 & 33 &  4\\\\\n\\end{tabular}\n",
            "text/plain": [
              "     item_id date_block_num item_cnt_day\n",
              "1     0      20               1         \n",
              "2     2      22               1         \n",
              "3     3      19               1         \n",
              "4     4      20               1         \n",
              "5     5      23               1         \n",
              "6     6      18               1         \n",
              "7     7      23               1         \n",
              "8     8      20               1         \n",
              "9     9      19               1         \n",
              "10   10      24               1         \n",
              "11   11      22               1         \n",
              "12   13      20               1         \n",
              "13   14      23               1         \n",
              "14   15      22               1         \n",
              "15   18      19               1         \n",
              "16   19       0               1         \n",
              "17   20      19               1         \n",
              "18   21      20               1         \n",
              "19   22      27               1         \n",
              "20   23      25               1         \n",
              "21   24      27               1         \n",
              "22   25      19               1         \n",
              "23   26      21               1         \n",
              "24   30      33             118         \n",
              "25   32      33              31         \n",
              "26   34      18               4         \n",
              "27   35      20              25         \n",
              "28   37      23               5         \n",
              "29   43       7               1         \n",
              "30   63       6               2         \n",
              "⋮    ⋮       ⋮              ⋮           \n",
              "4687 22075   12              2          \n",
              "4688 22108    6              1          \n",
              "4689 22114   28              4          \n",
              "4690 22116   11              1          \n",
              "4691 22119   26              2          \n",
              "4692 22120   25              2          \n",
              "4693 22121   10             18          \n",
              "4694 22123   17              3          \n",
              "4695 22124    4              2          \n",
              "4696 22126   19             15          \n",
              "4697 22128   14              1          \n",
              "4698 22129    7              1          \n",
              "4699 22130    2             23          \n",
              "4700 22132   16              3          \n",
              "4701 22133   26              2          \n",
              "4702 22134   14             22          \n",
              "4703 22136   17              3          \n",
              "4704 22141   16              6          \n",
              "4705 22143   22             56          \n",
              "4706 22147   20              3          \n",
              "4707 22148    6              1          \n",
              "4708 22149   13              2          \n",
              "4709 22151    6             31          \n",
              "4710 22152   13              3          \n",
              "4711 22156   12              1          \n",
              "4712 22157    8              1          \n",
              "4713 22159   29              2          \n",
              "4714 22160   17              2          \n",
              "4715 22162   33             33          \n",
              "4716 22163   33              4          "
            ]
          },
          "metadata": {}
        }
      ]
    },
    {
      "cell_type": "code",
      "source": [
        "min_sale_for_item <- month_sales_for_top5_shops %>% group_by(item_id) %>% summarise_if(is.numeric, min)\n",
        "min_sale_for_item"
      ],
      "metadata": {
        "id": "HN1T3nJNc7DR",
        "colab": {
          "base_uri": "https://localhost:8080/",
          "height": 1000
        },
        "outputId": "83648a00-00a7-4ee4-bb30-bae647e173d8"
      },
      "execution_count": null,
      "outputs": [
        {
          "output_type": "display_data",
          "data": {
            "text/html": [
              "<table class=\"dataframe\">\n",
              "<caption>A tibble: 4716 × 3</caption>\n",
              "<thead>\n",
              "\t<tr><th scope=col>item_id</th><th scope=col>date_block_num</th><th scope=col>item_cnt_day</th></tr>\n",
              "\t<tr><th scope=col>&lt;int&gt;</th><th scope=col>&lt;int&gt;</th><th scope=col>&lt;dbl&gt;</th></tr>\n",
              "</thead>\n",
              "<tbody>\n",
              "\t<tr><td> 0</td><td>20</td><td>1</td></tr>\n",
              "\t<tr><td> 2</td><td>19</td><td>1</td></tr>\n",
              "\t<tr><td> 3</td><td>18</td><td>1</td></tr>\n",
              "\t<tr><td> 4</td><td>20</td><td>1</td></tr>\n",
              "\t<tr><td> 5</td><td>23</td><td>1</td></tr>\n",
              "\t<tr><td> 6</td><td>18</td><td>1</td></tr>\n",
              "\t<tr><td> 7</td><td>23</td><td>1</td></tr>\n",
              "\t<tr><td> 8</td><td>19</td><td>1</td></tr>\n",
              "\t<tr><td> 9</td><td>19</td><td>1</td></tr>\n",
              "\t<tr><td>10</td><td>24</td><td>1</td></tr>\n",
              "\t<tr><td>11</td><td>22</td><td>1</td></tr>\n",
              "\t<tr><td>13</td><td>20</td><td>1</td></tr>\n",
              "\t<tr><td>14</td><td>23</td><td>1</td></tr>\n",
              "\t<tr><td>15</td><td>22</td><td>1</td></tr>\n",
              "\t<tr><td>18</td><td>19</td><td>1</td></tr>\n",
              "\t<tr><td>19</td><td> 0</td><td>1</td></tr>\n",
              "\t<tr><td>20</td><td>19</td><td>1</td></tr>\n",
              "\t<tr><td>21</td><td>20</td><td>1</td></tr>\n",
              "\t<tr><td>22</td><td>27</td><td>1</td></tr>\n",
              "\t<tr><td>23</td><td>25</td><td>1</td></tr>\n",
              "\t<tr><td>24</td><td>27</td><td>1</td></tr>\n",
              "\t<tr><td>25</td><td>19</td><td>1</td></tr>\n",
              "\t<tr><td>26</td><td>21</td><td>1</td></tr>\n",
              "\t<tr><td>30</td><td> 1</td><td>1</td></tr>\n",
              "\t<tr><td>32</td><td> 0</td><td>1</td></tr>\n",
              "\t<tr><td>34</td><td> 0</td><td>1</td></tr>\n",
              "\t<tr><td>35</td><td> 0</td><td>1</td></tr>\n",
              "\t<tr><td>37</td><td> 2</td><td>1</td></tr>\n",
              "\t<tr><td>43</td><td> 0</td><td>1</td></tr>\n",
              "\t<tr><td>63</td><td> 0</td><td>1</td></tr>\n",
              "\t<tr><td>⋮</td><td>⋮</td><td>⋮</td></tr>\n",
              "\t<tr><td>22075</td><td> 0</td><td>1</td></tr>\n",
              "\t<tr><td>22108</td><td> 0</td><td>1</td></tr>\n",
              "\t<tr><td>22114</td><td> 3</td><td>1</td></tr>\n",
              "\t<tr><td>22116</td><td> 0</td><td>1</td></tr>\n",
              "\t<tr><td>22119</td><td> 0</td><td>1</td></tr>\n",
              "\t<tr><td>22120</td><td> 3</td><td>1</td></tr>\n",
              "\t<tr><td>22121</td><td> 6</td><td>1</td></tr>\n",
              "\t<tr><td>22123</td><td> 9</td><td>1</td></tr>\n",
              "\t<tr><td>22124</td><td> 0</td><td>1</td></tr>\n",
              "\t<tr><td>22126</td><td> 9</td><td>1</td></tr>\n",
              "\t<tr><td>22128</td><td> 0</td><td>1</td></tr>\n",
              "\t<tr><td>22129</td><td> 0</td><td>1</td></tr>\n",
              "\t<tr><td>22130</td><td> 0</td><td>1</td></tr>\n",
              "\t<tr><td>22132</td><td> 2</td><td>1</td></tr>\n",
              "\t<tr><td>22133</td><td>13</td><td>1</td></tr>\n",
              "\t<tr><td>22134</td><td> 0</td><td>1</td></tr>\n",
              "\t<tr><td>22136</td><td> 2</td><td>1</td></tr>\n",
              "\t<tr><td>22141</td><td>13</td><td>1</td></tr>\n",
              "\t<tr><td>22143</td><td>14</td><td>1</td></tr>\n",
              "\t<tr><td>22147</td><td> 0</td><td>1</td></tr>\n",
              "\t<tr><td>22148</td><td> 5</td><td>1</td></tr>\n",
              "\t<tr><td>22149</td><td> 0</td><td>1</td></tr>\n",
              "\t<tr><td>22151</td><td> 0</td><td>1</td></tr>\n",
              "\t<tr><td>22152</td><td> 2</td><td>1</td></tr>\n",
              "\t<tr><td>22156</td><td> 2</td><td>1</td></tr>\n",
              "\t<tr><td>22157</td><td> 1</td><td>1</td></tr>\n",
              "\t<tr><td>22159</td><td>28</td><td>1</td></tr>\n",
              "\t<tr><td>22160</td><td> 0</td><td>1</td></tr>\n",
              "\t<tr><td>22162</td><td>18</td><td>1</td></tr>\n",
              "\t<tr><td>22163</td><td>31</td><td>1</td></tr>\n",
              "</tbody>\n",
              "</table>\n"
            ],
            "text/markdown": "\nA tibble: 4716 × 3\n\n| item_id &lt;int&gt; | date_block_num &lt;int&gt; | item_cnt_day &lt;dbl&gt; |\n|---|---|---|\n|  0 | 20 | 1 |\n|  2 | 19 | 1 |\n|  3 | 18 | 1 |\n|  4 | 20 | 1 |\n|  5 | 23 | 1 |\n|  6 | 18 | 1 |\n|  7 | 23 | 1 |\n|  8 | 19 | 1 |\n|  9 | 19 | 1 |\n| 10 | 24 | 1 |\n| 11 | 22 | 1 |\n| 13 | 20 | 1 |\n| 14 | 23 | 1 |\n| 15 | 22 | 1 |\n| 18 | 19 | 1 |\n| 19 |  0 | 1 |\n| 20 | 19 | 1 |\n| 21 | 20 | 1 |\n| 22 | 27 | 1 |\n| 23 | 25 | 1 |\n| 24 | 27 | 1 |\n| 25 | 19 | 1 |\n| 26 | 21 | 1 |\n| 30 |  1 | 1 |\n| 32 |  0 | 1 |\n| 34 |  0 | 1 |\n| 35 |  0 | 1 |\n| 37 |  2 | 1 |\n| 43 |  0 | 1 |\n| 63 |  0 | 1 |\n| ⋮ | ⋮ | ⋮ |\n| 22075 |  0 | 1 |\n| 22108 |  0 | 1 |\n| 22114 |  3 | 1 |\n| 22116 |  0 | 1 |\n| 22119 |  0 | 1 |\n| 22120 |  3 | 1 |\n| 22121 |  6 | 1 |\n| 22123 |  9 | 1 |\n| 22124 |  0 | 1 |\n| 22126 |  9 | 1 |\n| 22128 |  0 | 1 |\n| 22129 |  0 | 1 |\n| 22130 |  0 | 1 |\n| 22132 |  2 | 1 |\n| 22133 | 13 | 1 |\n| 22134 |  0 | 1 |\n| 22136 |  2 | 1 |\n| 22141 | 13 | 1 |\n| 22143 | 14 | 1 |\n| 22147 |  0 | 1 |\n| 22148 |  5 | 1 |\n| 22149 |  0 | 1 |\n| 22151 |  0 | 1 |\n| 22152 |  2 | 1 |\n| 22156 |  2 | 1 |\n| 22157 |  1 | 1 |\n| 22159 | 28 | 1 |\n| 22160 |  0 | 1 |\n| 22162 | 18 | 1 |\n| 22163 | 31 | 1 |\n\n",
            "text/latex": "A tibble: 4716 × 3\n\\begin{tabular}{lll}\n item\\_id & date\\_block\\_num & item\\_cnt\\_day\\\\\n <int> & <int> & <dbl>\\\\\n\\hline\n\t  0 & 20 & 1\\\\\n\t  2 & 19 & 1\\\\\n\t  3 & 18 & 1\\\\\n\t  4 & 20 & 1\\\\\n\t  5 & 23 & 1\\\\\n\t  6 & 18 & 1\\\\\n\t  7 & 23 & 1\\\\\n\t  8 & 19 & 1\\\\\n\t  9 & 19 & 1\\\\\n\t 10 & 24 & 1\\\\\n\t 11 & 22 & 1\\\\\n\t 13 & 20 & 1\\\\\n\t 14 & 23 & 1\\\\\n\t 15 & 22 & 1\\\\\n\t 18 & 19 & 1\\\\\n\t 19 &  0 & 1\\\\\n\t 20 & 19 & 1\\\\\n\t 21 & 20 & 1\\\\\n\t 22 & 27 & 1\\\\\n\t 23 & 25 & 1\\\\\n\t 24 & 27 & 1\\\\\n\t 25 & 19 & 1\\\\\n\t 26 & 21 & 1\\\\\n\t 30 &  1 & 1\\\\\n\t 32 &  0 & 1\\\\\n\t 34 &  0 & 1\\\\\n\t 35 &  0 & 1\\\\\n\t 37 &  2 & 1\\\\\n\t 43 &  0 & 1\\\\\n\t 63 &  0 & 1\\\\\n\t ⋮ & ⋮ & ⋮\\\\\n\t 22075 &  0 & 1\\\\\n\t 22108 &  0 & 1\\\\\n\t 22114 &  3 & 1\\\\\n\t 22116 &  0 & 1\\\\\n\t 22119 &  0 & 1\\\\\n\t 22120 &  3 & 1\\\\\n\t 22121 &  6 & 1\\\\\n\t 22123 &  9 & 1\\\\\n\t 22124 &  0 & 1\\\\\n\t 22126 &  9 & 1\\\\\n\t 22128 &  0 & 1\\\\\n\t 22129 &  0 & 1\\\\\n\t 22130 &  0 & 1\\\\\n\t 22132 &  2 & 1\\\\\n\t 22133 & 13 & 1\\\\\n\t 22134 &  0 & 1\\\\\n\t 22136 &  2 & 1\\\\\n\t 22141 & 13 & 1\\\\\n\t 22143 & 14 & 1\\\\\n\t 22147 &  0 & 1\\\\\n\t 22148 &  5 & 1\\\\\n\t 22149 &  0 & 1\\\\\n\t 22151 &  0 & 1\\\\\n\t 22152 &  2 & 1\\\\\n\t 22156 &  2 & 1\\\\\n\t 22157 &  1 & 1\\\\\n\t 22159 & 28 & 1\\\\\n\t 22160 &  0 & 1\\\\\n\t 22162 & 18 & 1\\\\\n\t 22163 & 31 & 1\\\\\n\\end{tabular}\n",
            "text/plain": [
              "     item_id date_block_num item_cnt_day\n",
              "1     0      20             1           \n",
              "2     2      19             1           \n",
              "3     3      18             1           \n",
              "4     4      20             1           \n",
              "5     5      23             1           \n",
              "6     6      18             1           \n",
              "7     7      23             1           \n",
              "8     8      19             1           \n",
              "9     9      19             1           \n",
              "10   10      24             1           \n",
              "11   11      22             1           \n",
              "12   13      20             1           \n",
              "13   14      23             1           \n",
              "14   15      22             1           \n",
              "15   18      19             1           \n",
              "16   19       0             1           \n",
              "17   20      19             1           \n",
              "18   21      20             1           \n",
              "19   22      27             1           \n",
              "20   23      25             1           \n",
              "21   24      27             1           \n",
              "22   25      19             1           \n",
              "23   26      21             1           \n",
              "24   30       1             1           \n",
              "25   32       0             1           \n",
              "26   34       0             1           \n",
              "27   35       0             1           \n",
              "28   37       2             1           \n",
              "29   43       0             1           \n",
              "30   63       0             1           \n",
              "⋮    ⋮       ⋮              ⋮           \n",
              "4687 22075    0             1           \n",
              "4688 22108    0             1           \n",
              "4689 22114    3             1           \n",
              "4690 22116    0             1           \n",
              "4691 22119    0             1           \n",
              "4692 22120    3             1           \n",
              "4693 22121    6             1           \n",
              "4694 22123    9             1           \n",
              "4695 22124    0             1           \n",
              "4696 22126    9             1           \n",
              "4697 22128    0             1           \n",
              "4698 22129    0             1           \n",
              "4699 22130    0             1           \n",
              "4700 22132    2             1           \n",
              "4701 22133   13             1           \n",
              "4702 22134    0             1           \n",
              "4703 22136    2             1           \n",
              "4704 22141   13             1           \n",
              "4705 22143   14             1           \n",
              "4706 22147    0             1           \n",
              "4707 22148    5             1           \n",
              "4708 22149    0             1           \n",
              "4709 22151    0             1           \n",
              "4710 22152    2             1           \n",
              "4711 22156    2             1           \n",
              "4712 22157    1             1           \n",
              "4713 22159   28             1           \n",
              "4714 22160    0             1           \n",
              "4715 22162   18             1           \n",
              "4716 22163   31             1           "
            ]
          },
          "metadata": {}
        }
      ]
    },
    {
      "cell_type": "markdown",
      "source": [
        "## Задание 4"
      ],
      "metadata": {
        "id": "fvqPZ5I-c7wa"
      }
    },
    {
      "cell_type": "markdown",
      "source": [
        "\n",
        "\n",
        "1.  Для категорий из задания 2 найдите среднюю и медианную цену по категории в пределах каждого месяца.\n",
        "2.   В каждом году найдите месяцы, в которых средняя цена меньше, чем в предыдущем и следующем месяце.\n",
        "\n"
      ],
      "metadata": {
        "id": "jYdBqYWjdMqL"
      }
    },
    {
      "cell_type": "code",
      "source": [
        "month_table_for_category %>% group_by(category_id, date_block_num) %>% summarise(item_price = mean(item_price))"
      ],
      "metadata": {
        "id": "TYsoCWRAdU4o",
        "colab": {
          "base_uri": "https://localhost:8080/",
          "height": 1000
        },
        "outputId": "0980e176-c545-4cf5-8f70-57a916958a20"
      },
      "execution_count": null,
      "outputs": [
        {
          "output_type": "stream",
          "name": "stderr",
          "text": [
            "\u001b[1m\u001b[22m`summarise()` has grouped output by 'category_id'. You can override using the\n",
            "`.groups` argument.\n"
          ]
        },
        {
          "output_type": "display_data",
          "data": {
            "text/html": [
              "<table class=\"dataframe\">\n",
              "<caption>A grouped_df: 35 × 3</caption>\n",
              "<thead>\n",
              "\t<tr><th scope=col>category_id</th><th scope=col>date_block_num</th><th scope=col>item_price</th></tr>\n",
              "\t<tr><th scope=col>&lt;int&gt;</th><th scope=col>&lt;int&gt;</th><th scope=col>&lt;dbl&gt;</th></tr>\n",
              "</thead>\n",
              "<tbody>\n",
              "\t<tr><td>40</td><td> 0</td><td>244.4742</td></tr>\n",
              "\t<tr><td>40</td><td> 1</td><td>252.1489</td></tr>\n",
              "\t<tr><td>40</td><td> 2</td><td>260.6641</td></tr>\n",
              "\t<tr><td>40</td><td> 3</td><td>254.8437</td></tr>\n",
              "\t<tr><td>40</td><td> 4</td><td>247.6041</td></tr>\n",
              "\t<tr><td>40</td><td> 5</td><td>245.8342</td></tr>\n",
              "\t<tr><td>40</td><td> 6</td><td>236.7503</td></tr>\n",
              "\t<tr><td>40</td><td> 7</td><td>234.4335</td></tr>\n",
              "\t<tr><td>40</td><td> 8</td><td>241.7959</td></tr>\n",
              "\t<tr><td>40</td><td> 9</td><td>247.5179</td></tr>\n",
              "\t<tr><td>40</td><td>10</td><td>253.1830</td></tr>\n",
              "\t<tr><td>40</td><td>11</td><td>257.7787</td></tr>\n",
              "\t<tr><td>40</td><td>12</td><td>252.9500</td></tr>\n",
              "\t<tr><td>40</td><td>13</td><td>261.3154</td></tr>\n",
              "\t<tr><td>40</td><td>14</td><td>262.3982</td></tr>\n",
              "\t<tr><td>40</td><td>15</td><td>268.4337</td></tr>\n",
              "\t<tr><td>40</td><td>16</td><td>254.4454</td></tr>\n",
              "\t<tr><td>40</td><td>17</td><td>255.2208</td></tr>\n",
              "\t<tr><td>40</td><td>18</td><td>257.4106</td></tr>\n",
              "\t<tr><td>40</td><td>19</td><td>264.0734</td></tr>\n",
              "\t<tr><td>40</td><td>20</td><td>265.3047</td></tr>\n",
              "\t<tr><td>40</td><td>21</td><td>263.8743</td></tr>\n",
              "\t<tr><td>40</td><td>22</td><td>264.1288</td></tr>\n",
              "\t<tr><td>40</td><td>23</td><td>261.9266</td></tr>\n",
              "\t<tr><td>40</td><td>24</td><td>263.3718</td></tr>\n",
              "\t<tr><td>40</td><td>25</td><td>256.3778</td></tr>\n",
              "\t<tr><td>40</td><td>26</td><td>258.2126</td></tr>\n",
              "\t<tr><td>40</td><td>27</td><td>281.6108</td></tr>\n",
              "\t<tr><td>40</td><td>28</td><td>286.6400</td></tr>\n",
              "\t<tr><td>40</td><td>29</td><td>279.0772</td></tr>\n",
              "\t<tr><td>40</td><td>30</td><td>273.3118</td></tr>\n",
              "\t<tr><td>40</td><td>31</td><td>273.1805</td></tr>\n",
              "\t<tr><td>40</td><td>32</td><td>279.3695</td></tr>\n",
              "\t<tr><td>40</td><td>33</td><td>281.0384</td></tr>\n",
              "\t<tr><td>51</td><td>18</td><td>129.0000</td></tr>\n",
              "</tbody>\n",
              "</table>\n"
            ],
            "text/markdown": "\nA grouped_df: 35 × 3\n\n| category_id &lt;int&gt; | date_block_num &lt;int&gt; | item_price &lt;dbl&gt; |\n|---|---|---|\n| 40 |  0 | 244.4742 |\n| 40 |  1 | 252.1489 |\n| 40 |  2 | 260.6641 |\n| 40 |  3 | 254.8437 |\n| 40 |  4 | 247.6041 |\n| 40 |  5 | 245.8342 |\n| 40 |  6 | 236.7503 |\n| 40 |  7 | 234.4335 |\n| 40 |  8 | 241.7959 |\n| 40 |  9 | 247.5179 |\n| 40 | 10 | 253.1830 |\n| 40 | 11 | 257.7787 |\n| 40 | 12 | 252.9500 |\n| 40 | 13 | 261.3154 |\n| 40 | 14 | 262.3982 |\n| 40 | 15 | 268.4337 |\n| 40 | 16 | 254.4454 |\n| 40 | 17 | 255.2208 |\n| 40 | 18 | 257.4106 |\n| 40 | 19 | 264.0734 |\n| 40 | 20 | 265.3047 |\n| 40 | 21 | 263.8743 |\n| 40 | 22 | 264.1288 |\n| 40 | 23 | 261.9266 |\n| 40 | 24 | 263.3718 |\n| 40 | 25 | 256.3778 |\n| 40 | 26 | 258.2126 |\n| 40 | 27 | 281.6108 |\n| 40 | 28 | 286.6400 |\n| 40 | 29 | 279.0772 |\n| 40 | 30 | 273.3118 |\n| 40 | 31 | 273.1805 |\n| 40 | 32 | 279.3695 |\n| 40 | 33 | 281.0384 |\n| 51 | 18 | 129.0000 |\n\n",
            "text/latex": "A grouped\\_df: 35 × 3\n\\begin{tabular}{lll}\n category\\_id & date\\_block\\_num & item\\_price\\\\\n <int> & <int> & <dbl>\\\\\n\\hline\n\t 40 &  0 & 244.4742\\\\\n\t 40 &  1 & 252.1489\\\\\n\t 40 &  2 & 260.6641\\\\\n\t 40 &  3 & 254.8437\\\\\n\t 40 &  4 & 247.6041\\\\\n\t 40 &  5 & 245.8342\\\\\n\t 40 &  6 & 236.7503\\\\\n\t 40 &  7 & 234.4335\\\\\n\t 40 &  8 & 241.7959\\\\\n\t 40 &  9 & 247.5179\\\\\n\t 40 & 10 & 253.1830\\\\\n\t 40 & 11 & 257.7787\\\\\n\t 40 & 12 & 252.9500\\\\\n\t 40 & 13 & 261.3154\\\\\n\t 40 & 14 & 262.3982\\\\\n\t 40 & 15 & 268.4337\\\\\n\t 40 & 16 & 254.4454\\\\\n\t 40 & 17 & 255.2208\\\\\n\t 40 & 18 & 257.4106\\\\\n\t 40 & 19 & 264.0734\\\\\n\t 40 & 20 & 265.3047\\\\\n\t 40 & 21 & 263.8743\\\\\n\t 40 & 22 & 264.1288\\\\\n\t 40 & 23 & 261.9266\\\\\n\t 40 & 24 & 263.3718\\\\\n\t 40 & 25 & 256.3778\\\\\n\t 40 & 26 & 258.2126\\\\\n\t 40 & 27 & 281.6108\\\\\n\t 40 & 28 & 286.6400\\\\\n\t 40 & 29 & 279.0772\\\\\n\t 40 & 30 & 273.3118\\\\\n\t 40 & 31 & 273.1805\\\\\n\t 40 & 32 & 279.3695\\\\\n\t 40 & 33 & 281.0384\\\\\n\t 51 & 18 & 129.0000\\\\\n\\end{tabular}\n",
            "text/plain": [
              "   category_id date_block_num item_price\n",
              "1  40           0             244.4742  \n",
              "2  40           1             252.1489  \n",
              "3  40           2             260.6641  \n",
              "4  40           3             254.8437  \n",
              "5  40           4             247.6041  \n",
              "6  40           5             245.8342  \n",
              "7  40           6             236.7503  \n",
              "8  40           7             234.4335  \n",
              "9  40           8             241.7959  \n",
              "10 40           9             247.5179  \n",
              "11 40          10             253.1830  \n",
              "12 40          11             257.7787  \n",
              "13 40          12             252.9500  \n",
              "14 40          13             261.3154  \n",
              "15 40          14             262.3982  \n",
              "16 40          15             268.4337  \n",
              "17 40          16             254.4454  \n",
              "18 40          17             255.2208  \n",
              "19 40          18             257.4106  \n",
              "20 40          19             264.0734  \n",
              "21 40          20             265.3047  \n",
              "22 40          21             263.8743  \n",
              "23 40          22             264.1288  \n",
              "24 40          23             261.9266  \n",
              "25 40          24             263.3718  \n",
              "26 40          25             256.3778  \n",
              "27 40          26             258.2126  \n",
              "28 40          27             281.6108  \n",
              "29 40          28             286.6400  \n",
              "30 40          29             279.0772  \n",
              "31 40          30             273.3118  \n",
              "32 40          31             273.1805  \n",
              "33 40          32             279.3695  \n",
              "34 40          33             281.0384  \n",
              "35 51          18             129.0000  "
            ]
          },
          "metadata": {}
        }
      ]
    },
    {
      "cell_type": "code",
      "source": [
        "month_table_for_category %>% group_by(category_id, date_block_num) %>% summarise(item_price = median(item_price))"
      ],
      "metadata": {
        "id": "eQnrLnQZdVHf",
        "colab": {
          "base_uri": "https://localhost:8080/",
          "height": 1000
        },
        "outputId": "5aefda9e-406e-4b7b-bf5f-a7b2f9f63d1e"
      },
      "execution_count": null,
      "outputs": [
        {
          "output_type": "stream",
          "name": "stderr",
          "text": [
            "\u001b[1m\u001b[22m`summarise()` has grouped output by 'category_id'. You can override using the\n",
            "`.groups` argument.\n"
          ]
        },
        {
          "output_type": "display_data",
          "data": {
            "text/html": [
              "<table class=\"dataframe\">\n",
              "<caption>A grouped_df: 35 × 3</caption>\n",
              "<thead>\n",
              "\t<tr><th scope=col>category_id</th><th scope=col>date_block_num</th><th scope=col>item_price</th></tr>\n",
              "\t<tr><th scope=col>&lt;int&gt;</th><th scope=col>&lt;int&gt;</th><th scope=col>&lt;dbl&gt;</th></tr>\n",
              "</thead>\n",
              "<tbody>\n",
              "\t<tr><td>40</td><td> 0</td><td>199.00</td></tr>\n",
              "\t<tr><td>40</td><td> 1</td><td>203.00</td></tr>\n",
              "\t<tr><td>40</td><td> 2</td><td>231.00</td></tr>\n",
              "\t<tr><td>40</td><td> 3</td><td>199.00</td></tr>\n",
              "\t<tr><td>40</td><td> 4</td><td>199.00</td></tr>\n",
              "\t<tr><td>40</td><td> 5</td><td>199.00</td></tr>\n",
              "\t<tr><td>40</td><td> 6</td><td>149.00</td></tr>\n",
              "\t<tr><td>40</td><td> 7</td><td>149.00</td></tr>\n",
              "\t<tr><td>40</td><td> 8</td><td>198.00</td></tr>\n",
              "\t<tr><td>40</td><td> 9</td><td>199.00</td></tr>\n",
              "\t<tr><td>40</td><td>10</td><td>199.00</td></tr>\n",
              "\t<tr><td>40</td><td>11</td><td>237.00</td></tr>\n",
              "\t<tr><td>40</td><td>12</td><td>199.00</td></tr>\n",
              "\t<tr><td>40</td><td>13</td><td>249.00</td></tr>\n",
              "\t<tr><td>40</td><td>14</td><td>251.00</td></tr>\n",
              "\t<tr><td>40</td><td>15</td><td>249.00</td></tr>\n",
              "\t<tr><td>40</td><td>16</td><td>199.00</td></tr>\n",
              "\t<tr><td>40</td><td>17</td><td>199.00</td></tr>\n",
              "\t<tr><td>40</td><td>18</td><td>199.00</td></tr>\n",
              "\t<tr><td>40</td><td>19</td><td>199.00</td></tr>\n",
              "\t<tr><td>40</td><td>20</td><td>240.00</td></tr>\n",
              "\t<tr><td>40</td><td>21</td><td>199.00</td></tr>\n",
              "\t<tr><td>40</td><td>22</td><td>199.00</td></tr>\n",
              "\t<tr><td>40</td><td>23</td><td>199.00</td></tr>\n",
              "\t<tr><td>40</td><td>24</td><td>200.78</td></tr>\n",
              "\t<tr><td>40</td><td>25</td><td>199.00</td></tr>\n",
              "\t<tr><td>40</td><td>26</td><td>169.00</td></tr>\n",
              "\t<tr><td>40</td><td>27</td><td>299.00</td></tr>\n",
              "\t<tr><td>40</td><td>28</td><td>299.00</td></tr>\n",
              "\t<tr><td>40</td><td>29</td><td>249.00</td></tr>\n",
              "\t<tr><td>40</td><td>30</td><td>199.00</td></tr>\n",
              "\t<tr><td>40</td><td>31</td><td>249.00</td></tr>\n",
              "\t<tr><td>40</td><td>32</td><td>249.00</td></tr>\n",
              "\t<tr><td>40</td><td>33</td><td>249.00</td></tr>\n",
              "\t<tr><td>51</td><td>18</td><td>129.00</td></tr>\n",
              "</tbody>\n",
              "</table>\n"
            ],
            "text/markdown": "\nA grouped_df: 35 × 3\n\n| category_id &lt;int&gt; | date_block_num &lt;int&gt; | item_price &lt;dbl&gt; |\n|---|---|---|\n| 40 |  0 | 199.00 |\n| 40 |  1 | 203.00 |\n| 40 |  2 | 231.00 |\n| 40 |  3 | 199.00 |\n| 40 |  4 | 199.00 |\n| 40 |  5 | 199.00 |\n| 40 |  6 | 149.00 |\n| 40 |  7 | 149.00 |\n| 40 |  8 | 198.00 |\n| 40 |  9 | 199.00 |\n| 40 | 10 | 199.00 |\n| 40 | 11 | 237.00 |\n| 40 | 12 | 199.00 |\n| 40 | 13 | 249.00 |\n| 40 | 14 | 251.00 |\n| 40 | 15 | 249.00 |\n| 40 | 16 | 199.00 |\n| 40 | 17 | 199.00 |\n| 40 | 18 | 199.00 |\n| 40 | 19 | 199.00 |\n| 40 | 20 | 240.00 |\n| 40 | 21 | 199.00 |\n| 40 | 22 | 199.00 |\n| 40 | 23 | 199.00 |\n| 40 | 24 | 200.78 |\n| 40 | 25 | 199.00 |\n| 40 | 26 | 169.00 |\n| 40 | 27 | 299.00 |\n| 40 | 28 | 299.00 |\n| 40 | 29 | 249.00 |\n| 40 | 30 | 199.00 |\n| 40 | 31 | 249.00 |\n| 40 | 32 | 249.00 |\n| 40 | 33 | 249.00 |\n| 51 | 18 | 129.00 |\n\n",
            "text/latex": "A grouped\\_df: 35 × 3\n\\begin{tabular}{lll}\n category\\_id & date\\_block\\_num & item\\_price\\\\\n <int> & <int> & <dbl>\\\\\n\\hline\n\t 40 &  0 & 199.00\\\\\n\t 40 &  1 & 203.00\\\\\n\t 40 &  2 & 231.00\\\\\n\t 40 &  3 & 199.00\\\\\n\t 40 &  4 & 199.00\\\\\n\t 40 &  5 & 199.00\\\\\n\t 40 &  6 & 149.00\\\\\n\t 40 &  7 & 149.00\\\\\n\t 40 &  8 & 198.00\\\\\n\t 40 &  9 & 199.00\\\\\n\t 40 & 10 & 199.00\\\\\n\t 40 & 11 & 237.00\\\\\n\t 40 & 12 & 199.00\\\\\n\t 40 & 13 & 249.00\\\\\n\t 40 & 14 & 251.00\\\\\n\t 40 & 15 & 249.00\\\\\n\t 40 & 16 & 199.00\\\\\n\t 40 & 17 & 199.00\\\\\n\t 40 & 18 & 199.00\\\\\n\t 40 & 19 & 199.00\\\\\n\t 40 & 20 & 240.00\\\\\n\t 40 & 21 & 199.00\\\\\n\t 40 & 22 & 199.00\\\\\n\t 40 & 23 & 199.00\\\\\n\t 40 & 24 & 200.78\\\\\n\t 40 & 25 & 199.00\\\\\n\t 40 & 26 & 169.00\\\\\n\t 40 & 27 & 299.00\\\\\n\t 40 & 28 & 299.00\\\\\n\t 40 & 29 & 249.00\\\\\n\t 40 & 30 & 199.00\\\\\n\t 40 & 31 & 249.00\\\\\n\t 40 & 32 & 249.00\\\\\n\t 40 & 33 & 249.00\\\\\n\t 51 & 18 & 129.00\\\\\n\\end{tabular}\n",
            "text/plain": [
              "   category_id date_block_num item_price\n",
              "1  40           0             199.00    \n",
              "2  40           1             203.00    \n",
              "3  40           2             231.00    \n",
              "4  40           3             199.00    \n",
              "5  40           4             199.00    \n",
              "6  40           5             199.00    \n",
              "7  40           6             149.00    \n",
              "8  40           7             149.00    \n",
              "9  40           8             198.00    \n",
              "10 40           9             199.00    \n",
              "11 40          10             199.00    \n",
              "12 40          11             237.00    \n",
              "13 40          12             199.00    \n",
              "14 40          13             249.00    \n",
              "15 40          14             251.00    \n",
              "16 40          15             249.00    \n",
              "17 40          16             199.00    \n",
              "18 40          17             199.00    \n",
              "19 40          18             199.00    \n",
              "20 40          19             199.00    \n",
              "21 40          20             240.00    \n",
              "22 40          21             199.00    \n",
              "23 40          22             199.00    \n",
              "24 40          23             199.00    \n",
              "25 40          24             200.78    \n",
              "26 40          25             199.00    \n",
              "27 40          26             169.00    \n",
              "28 40          27             299.00    \n",
              "29 40          28             299.00    \n",
              "30 40          29             249.00    \n",
              "31 40          30             199.00    \n",
              "32 40          31             249.00    \n",
              "33 40          32             249.00    \n",
              "34 40          33             249.00    \n",
              "35 51          18             129.00    "
            ]
          },
          "metadata": {}
        }
      ]
    },
    {
      "cell_type": "code",
      "source": [
        "mean_table_for_category <- use_categories %>% group_by(category_id, date_block_num) %>% summarise(item_price = mean(item_price))\n",
        "mean_table_for_category "
      ],
      "metadata": {
        "id": "sP2Ba7YgdVQg",
        "colab": {
          "base_uri": "https://localhost:8080/",
          "height": 1000
        },
        "outputId": "6de41999-aea3-470d-d032-42b98eeac759"
      },
      "execution_count": null,
      "outputs": [
        {
          "output_type": "stream",
          "name": "stderr",
          "text": [
            "\u001b[1m\u001b[22m`summarise()` has grouped output by 'category_id'. You can override using the\n",
            "`.groups` argument.\n"
          ]
        },
        {
          "output_type": "display_data",
          "data": {
            "text/html": [
              "<table class=\"dataframe\">\n",
              "<caption>A grouped_df: 35 × 3</caption>\n",
              "<thead>\n",
              "\t<tr><th scope=col>category_id</th><th scope=col>date_block_num</th><th scope=col>item_price</th></tr>\n",
              "\t<tr><th scope=col>&lt;int&gt;</th><th scope=col>&lt;int&gt;</th><th scope=col>&lt;dbl&gt;</th></tr>\n",
              "</thead>\n",
              "<tbody>\n",
              "\t<tr><td>40</td><td> 0</td><td>244.4742</td></tr>\n",
              "\t<tr><td>40</td><td> 1</td><td>252.1489</td></tr>\n",
              "\t<tr><td>40</td><td> 2</td><td>260.6641</td></tr>\n",
              "\t<tr><td>40</td><td> 3</td><td>254.8437</td></tr>\n",
              "\t<tr><td>40</td><td> 4</td><td>247.6041</td></tr>\n",
              "\t<tr><td>40</td><td> 5</td><td>245.8342</td></tr>\n",
              "\t<tr><td>40</td><td> 6</td><td>236.7503</td></tr>\n",
              "\t<tr><td>40</td><td> 7</td><td>234.4335</td></tr>\n",
              "\t<tr><td>40</td><td> 8</td><td>241.7959</td></tr>\n",
              "\t<tr><td>40</td><td> 9</td><td>247.5179</td></tr>\n",
              "\t<tr><td>40</td><td>10</td><td>253.1830</td></tr>\n",
              "\t<tr><td>40</td><td>11</td><td>257.7787</td></tr>\n",
              "\t<tr><td>40</td><td>12</td><td>252.9500</td></tr>\n",
              "\t<tr><td>40</td><td>13</td><td>261.3154</td></tr>\n",
              "\t<tr><td>40</td><td>14</td><td>262.3982</td></tr>\n",
              "\t<tr><td>40</td><td>15</td><td>268.4337</td></tr>\n",
              "\t<tr><td>40</td><td>16</td><td>254.4454</td></tr>\n",
              "\t<tr><td>40</td><td>17</td><td>255.2208</td></tr>\n",
              "\t<tr><td>40</td><td>18</td><td>257.4106</td></tr>\n",
              "\t<tr><td>40</td><td>19</td><td>264.0734</td></tr>\n",
              "\t<tr><td>40</td><td>20</td><td>265.3047</td></tr>\n",
              "\t<tr><td>40</td><td>21</td><td>263.8743</td></tr>\n",
              "\t<tr><td>40</td><td>22</td><td>264.1288</td></tr>\n",
              "\t<tr><td>40</td><td>23</td><td>261.9266</td></tr>\n",
              "\t<tr><td>40</td><td>24</td><td>263.3718</td></tr>\n",
              "\t<tr><td>40</td><td>25</td><td>256.3778</td></tr>\n",
              "\t<tr><td>40</td><td>26</td><td>258.2126</td></tr>\n",
              "\t<tr><td>40</td><td>27</td><td>281.6108</td></tr>\n",
              "\t<tr><td>40</td><td>28</td><td>286.6400</td></tr>\n",
              "\t<tr><td>40</td><td>29</td><td>279.0772</td></tr>\n",
              "\t<tr><td>40</td><td>30</td><td>273.3118</td></tr>\n",
              "\t<tr><td>40</td><td>31</td><td>273.1805</td></tr>\n",
              "\t<tr><td>40</td><td>32</td><td>279.3695</td></tr>\n",
              "\t<tr><td>40</td><td>33</td><td>281.0384</td></tr>\n",
              "\t<tr><td>51</td><td>18</td><td>129.0000</td></tr>\n",
              "</tbody>\n",
              "</table>\n"
            ],
            "text/markdown": "\nA grouped_df: 35 × 3\n\n| category_id &lt;int&gt; | date_block_num &lt;int&gt; | item_price &lt;dbl&gt; |\n|---|---|---|\n| 40 |  0 | 244.4742 |\n| 40 |  1 | 252.1489 |\n| 40 |  2 | 260.6641 |\n| 40 |  3 | 254.8437 |\n| 40 |  4 | 247.6041 |\n| 40 |  5 | 245.8342 |\n| 40 |  6 | 236.7503 |\n| 40 |  7 | 234.4335 |\n| 40 |  8 | 241.7959 |\n| 40 |  9 | 247.5179 |\n| 40 | 10 | 253.1830 |\n| 40 | 11 | 257.7787 |\n| 40 | 12 | 252.9500 |\n| 40 | 13 | 261.3154 |\n| 40 | 14 | 262.3982 |\n| 40 | 15 | 268.4337 |\n| 40 | 16 | 254.4454 |\n| 40 | 17 | 255.2208 |\n| 40 | 18 | 257.4106 |\n| 40 | 19 | 264.0734 |\n| 40 | 20 | 265.3047 |\n| 40 | 21 | 263.8743 |\n| 40 | 22 | 264.1288 |\n| 40 | 23 | 261.9266 |\n| 40 | 24 | 263.3718 |\n| 40 | 25 | 256.3778 |\n| 40 | 26 | 258.2126 |\n| 40 | 27 | 281.6108 |\n| 40 | 28 | 286.6400 |\n| 40 | 29 | 279.0772 |\n| 40 | 30 | 273.3118 |\n| 40 | 31 | 273.1805 |\n| 40 | 32 | 279.3695 |\n| 40 | 33 | 281.0384 |\n| 51 | 18 | 129.0000 |\n\n",
            "text/latex": "A grouped\\_df: 35 × 3\n\\begin{tabular}{lll}\n category\\_id & date\\_block\\_num & item\\_price\\\\\n <int> & <int> & <dbl>\\\\\n\\hline\n\t 40 &  0 & 244.4742\\\\\n\t 40 &  1 & 252.1489\\\\\n\t 40 &  2 & 260.6641\\\\\n\t 40 &  3 & 254.8437\\\\\n\t 40 &  4 & 247.6041\\\\\n\t 40 &  5 & 245.8342\\\\\n\t 40 &  6 & 236.7503\\\\\n\t 40 &  7 & 234.4335\\\\\n\t 40 &  8 & 241.7959\\\\\n\t 40 &  9 & 247.5179\\\\\n\t 40 & 10 & 253.1830\\\\\n\t 40 & 11 & 257.7787\\\\\n\t 40 & 12 & 252.9500\\\\\n\t 40 & 13 & 261.3154\\\\\n\t 40 & 14 & 262.3982\\\\\n\t 40 & 15 & 268.4337\\\\\n\t 40 & 16 & 254.4454\\\\\n\t 40 & 17 & 255.2208\\\\\n\t 40 & 18 & 257.4106\\\\\n\t 40 & 19 & 264.0734\\\\\n\t 40 & 20 & 265.3047\\\\\n\t 40 & 21 & 263.8743\\\\\n\t 40 & 22 & 264.1288\\\\\n\t 40 & 23 & 261.9266\\\\\n\t 40 & 24 & 263.3718\\\\\n\t 40 & 25 & 256.3778\\\\\n\t 40 & 26 & 258.2126\\\\\n\t 40 & 27 & 281.6108\\\\\n\t 40 & 28 & 286.6400\\\\\n\t 40 & 29 & 279.0772\\\\\n\t 40 & 30 & 273.3118\\\\\n\t 40 & 31 & 273.1805\\\\\n\t 40 & 32 & 279.3695\\\\\n\t 40 & 33 & 281.0384\\\\\n\t 51 & 18 & 129.0000\\\\\n\\end{tabular}\n",
            "text/plain": [
              "   category_id date_block_num item_price\n",
              "1  40           0             244.4742  \n",
              "2  40           1             252.1489  \n",
              "3  40           2             260.6641  \n",
              "4  40           3             254.8437  \n",
              "5  40           4             247.6041  \n",
              "6  40           5             245.8342  \n",
              "7  40           6             236.7503  \n",
              "8  40           7             234.4335  \n",
              "9  40           8             241.7959  \n",
              "10 40           9             247.5179  \n",
              "11 40          10             253.1830  \n",
              "12 40          11             257.7787  \n",
              "13 40          12             252.9500  \n",
              "14 40          13             261.3154  \n",
              "15 40          14             262.3982  \n",
              "16 40          15             268.4337  \n",
              "17 40          16             254.4454  \n",
              "18 40          17             255.2208  \n",
              "19 40          18             257.4106  \n",
              "20 40          19             264.0734  \n",
              "21 40          20             265.3047  \n",
              "22 40          21             263.8743  \n",
              "23 40          22             264.1288  \n",
              "24 40          23             261.9266  \n",
              "25 40          24             263.3718  \n",
              "26 40          25             256.3778  \n",
              "27 40          26             258.2126  \n",
              "28 40          27             281.6108  \n",
              "29 40          28             286.6400  \n",
              "30 40          29             279.0772  \n",
              "31 40          30             273.3118  \n",
              "32 40          31             273.1805  \n",
              "33 40          32             279.3695  \n",
              "34 40          33             281.0384  \n",
              "35 51          18             129.0000  "
            ]
          },
          "metadata": {}
        }
      ]
    },
    {
      "cell_type": "code",
      "source": [
        "#2013\n",
        "use_year_2013 <- mean_table_for_category[mean_table_for_category$date_block_num >= 0 & mean_table_for_category$date_block_num <= 11,]\n",
        "table_for_2013 <- data.frame()\n",
        "for (i in 2:11){\n",
        "  if(use_year_2013$item_price[i] < use_year_2013$item_price[i-1] & use_year_2013$item_price[i]<use_year_2013$item_price[i+1]){\n",
        "     categori_id <- c(use_year_2013$category_id[i])\n",
        "     item_price <- c(use_year_2013$item_price[i])\n",
        "     month <- c(use_year_2013$date_block_num[i])\n",
        "     new_row <- data.frame(Categori_id=categori_id, Item_price = item_price, Month = month)\n",
        "     table_for_2013 <- rbind(table_for_2013,new_row)\n",
        "  }\n",
        "}\n",
        "table_for_2013"
      ],
      "metadata": {
        "colab": {
          "base_uri": "https://localhost:8080/",
          "height": 129
        },
        "id": "hHYBq6QMr-Zf",
        "outputId": "6bda443d-e016-4122-96bc-cc08d41018b8"
      },
      "execution_count": null,
      "outputs": [
        {
          "output_type": "display_data",
          "data": {
            "text/html": [
              "<table class=\"dataframe\">\n",
              "<caption>A data.frame: 1 × 3</caption>\n",
              "<thead>\n",
              "\t<tr><th scope=col>Categori_id</th><th scope=col>Item_price</th><th scope=col>Month</th></tr>\n",
              "\t<tr><th scope=col>&lt;int&gt;</th><th scope=col>&lt;dbl&gt;</th><th scope=col>&lt;int&gt;</th></tr>\n",
              "</thead>\n",
              "<tbody>\n",
              "\t<tr><td>40</td><td>234.4335</td><td>7</td></tr>\n",
              "</tbody>\n",
              "</table>\n"
            ],
            "text/markdown": "\nA data.frame: 1 × 3\n\n| Categori_id &lt;int&gt; | Item_price &lt;dbl&gt; | Month &lt;int&gt; |\n|---|---|---|\n| 40 | 234.4335 | 7 |\n\n",
            "text/latex": "A data.frame: 1 × 3\n\\begin{tabular}{lll}\n Categori\\_id & Item\\_price & Month\\\\\n <int> & <dbl> & <int>\\\\\n\\hline\n\t 40 & 234.4335 & 7\\\\\n\\end{tabular}\n",
            "text/plain": [
              "  Categori_id Item_price Month\n",
              "1 40          234.4335   7    "
            ]
          },
          "metadata": {}
        }
      ]
    },
    {
      "cell_type": "code",
      "source": [
        "#2014\n",
        "use_year_2014 <- mean_table_for_category[mean_table_for_category$date_block_num >= 12 & mean_table_for_category$date_block_num <= 23,]\n",
        "table_for_2014 <- data.frame()\n",
        "for (i in 2:11){\n",
        "  if(use_year_2014$item_price[i] < use_year_2014$item_price[i-1] & use_year_2014$item_price[i]<use_year_2014$item_price[i+1]){\n",
        "     categori_id <- c(use_year_2014$category_id[i])\n",
        "     item_price <- c(use_year_2014$item_price[i])\n",
        "     month <- c(use_year_2014$date_block_num[i])\n",
        "     new_row <- data.frame(Categori_id=categori_id, Item_price = item_price, Month = month)\n",
        "     table_for_2014 <- rbind(table_for_2014,new_row)\n",
        "  }\n",
        "}\n",
        "table_for_2014"
      ],
      "metadata": {
        "colab": {
          "base_uri": "https://localhost:8080/",
          "height": 161
        },
        "id": "NWxrMBub_phM",
        "outputId": "2c77a097-26f0-4320-c490-40f117b02904"
      },
      "execution_count": null,
      "outputs": [
        {
          "output_type": "display_data",
          "data": {
            "text/html": [
              "<table class=\"dataframe\">\n",
              "<caption>A data.frame: 2 × 3</caption>\n",
              "<thead>\n",
              "\t<tr><th scope=col>Categori_id</th><th scope=col>Item_price</th><th scope=col>Month</th></tr>\n",
              "\t<tr><th scope=col>&lt;int&gt;</th><th scope=col>&lt;dbl&gt;</th><th scope=col>&lt;int&gt;</th></tr>\n",
              "</thead>\n",
              "<tbody>\n",
              "\t<tr><td>40</td><td>254.4454</td><td>16</td></tr>\n",
              "\t<tr><td>40</td><td>263.8743</td><td>21</td></tr>\n",
              "</tbody>\n",
              "</table>\n"
            ],
            "text/markdown": "\nA data.frame: 2 × 3\n\n| Categori_id &lt;int&gt; | Item_price &lt;dbl&gt; | Month &lt;int&gt; |\n|---|---|---|\n| 40 | 254.4454 | 16 |\n| 40 | 263.8743 | 21 |\n\n",
            "text/latex": "A data.frame: 2 × 3\n\\begin{tabular}{lll}\n Categori\\_id & Item\\_price & Month\\\\\n <int> & <dbl> & <int>\\\\\n\\hline\n\t 40 & 254.4454 & 16\\\\\n\t 40 & 263.8743 & 21\\\\\n\\end{tabular}\n",
            "text/plain": [
              "  Categori_id Item_price Month\n",
              "1 40          254.4454   16   \n",
              "2 40          263.8743   21   "
            ]
          },
          "metadata": {}
        }
      ]
    },
    {
      "cell_type": "code",
      "source": [
        "#2015\n",
        "use_year_2015 <- mean_table_for_category[mean_table_for_category$date_block_num >= 24 & mean_table_for_category$date_block_num <= 33,]\n",
        "#use_year_2015\n",
        "table_for_2015 <- data.frame()\n",
        "for (i in 2:9){\n",
        "  if(use_year_2015$item_price[i] < use_year_2015$item_price[i-1] & use_year_2015$item_price[i]<use_year_2015$item_price[i+1]){\n",
        "     categori_id <- c(use_year_2015$category_id[i])\n",
        "     item_price <- c(use_year_2015$item_price[i])\n",
        "     month <- c(use_year_2015$date_block_num[i])\n",
        "     new_row <- data.frame(Categori_id=categori_id, Item_price = item_price, Month = month)\n",
        "     table_for_2015 <- rbind(table_for_2015,new_row)\n",
        "  }\n",
        "}\n",
        "table_for_2015"
      ],
      "metadata": {
        "colab": {
          "base_uri": "https://localhost:8080/",
          "height": 161
        },
        "id": "6LM1tUl8_8Rc",
        "outputId": "b95e9d41-02ac-4f08-d426-ad6280c023cf"
      },
      "execution_count": null,
      "outputs": [
        {
          "output_type": "display_data",
          "data": {
            "text/html": [
              "<table class=\"dataframe\">\n",
              "<caption>A data.frame: 2 × 3</caption>\n",
              "<thead>\n",
              "\t<tr><th scope=col>Categori_id</th><th scope=col>Item_price</th><th scope=col>Month</th></tr>\n",
              "\t<tr><th scope=col>&lt;int&gt;</th><th scope=col>&lt;dbl&gt;</th><th scope=col>&lt;int&gt;</th></tr>\n",
              "</thead>\n",
              "<tbody>\n",
              "\t<tr><td>40</td><td>256.3778</td><td>25</td></tr>\n",
              "\t<tr><td>40</td><td>273.1805</td><td>31</td></tr>\n",
              "</tbody>\n",
              "</table>\n"
            ],
            "text/markdown": "\nA data.frame: 2 × 3\n\n| Categori_id &lt;int&gt; | Item_price &lt;dbl&gt; | Month &lt;int&gt; |\n|---|---|---|\n| 40 | 256.3778 | 25 |\n| 40 | 273.1805 | 31 |\n\n",
            "text/latex": "A data.frame: 2 × 3\n\\begin{tabular}{lll}\n Categori\\_id & Item\\_price & Month\\\\\n <int> & <dbl> & <int>\\\\\n\\hline\n\t 40 & 256.3778 & 25\\\\\n\t 40 & 273.1805 & 31\\\\\n\\end{tabular}\n",
            "text/plain": [
              "  Categori_id Item_price Month\n",
              "1 40          256.3778   25   \n",
              "2 40          273.1805   31   "
            ]
          },
          "metadata": {}
        }
      ]
    }
  ]
}