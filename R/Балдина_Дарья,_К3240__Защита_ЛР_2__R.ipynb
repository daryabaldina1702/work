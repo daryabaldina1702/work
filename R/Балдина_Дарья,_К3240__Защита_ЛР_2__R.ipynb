{
  "nbformat": 4,
  "nbformat_minor": 0,
  "metadata": {
    "colab": {
      "provenance": []
    },
    "kernelspec": {
      "name": "ir",
      "display_name": "R"
    },
    "language_info": {
      "name": "R"
    }
  },
  "cells": [
    {
      "cell_type": "markdown",
      "source": [
        "## Вариант 5"
      ],
      "metadata": {
        "id": "xBe4L_hjSfV9"
      }
    },
    {
      "cell_type": "markdown",
      "source": [
        "# Задание 1"
      ],
      "metadata": {
        "id": "77Vaet4XSl7O"
      }
    },
    {
      "cell_type": "markdown",
      "source": [
        "Возьмем стандартный датасет из `seaborn` - `taxis`. Необходимо выполнить одну визуализацию на `pandas` и одну на `R`. Для визуализации на `R` данные возьмите отсюда: https://github.com/mwaskom/seaborn-data/blob/master/taxis.csv."
      ],
      "metadata": {
        "id": "FEajzdCiSoZC"
      }
    },
    {
      "cell_type": "markdown",
      "source": [
        "Датасет содержит данные о поездках на такси в Нью-Йорке за 2019 год. Столбцы следующие (возможны опечатки, будьте внимательны):\n",
        "* `pickup` – время начала поездки\n",
        "* `dropoff` – время окончания поездки\n",
        "* `passengers` – количество пассажиров\n",
        "* `distance` – расстояние поездки\n",
        "* `fare` – стоимость поездки\n",
        "* `tip` – чаевые\n",
        "* `tolls` – штраф\n",
        "* `total` – общая стоимость поездки\n",
        "* `color` – цвет такси\n",
        "* `payment` – способ оплаты\n",
        "* `pickup_zone` – район начала поездки\n",
        "* `dropoff_zone` – район окончания поездки\n",
        "* `pickup_borough` – боро начала поездки\n",
        "* `dropoff_borough` – боро окончания поездки\n",
        "\n",
        "Подробнее про данные: https://www1.nyc.gov/site/tlc/about/tlc-trip-record-data.page"
      ],
      "metadata": {
        "id": "tj1-bQVjTqhZ"
      }
    },
    {
      "cell_type": "code",
      "source": [
        "#импорты\n",
        "library(dplyr)\n",
        "library(ggplot2)"
      ],
      "metadata": {
        "id": "XYTDTI9o0Kf6"
      },
      "execution_count": null,
      "outputs": []
    },
    {
      "cell_type": "code",
      "execution_count": null,
      "metadata": {
        "colab": {
          "base_uri": "https://localhost:8080/",
          "height": 390
        },
        "id": "rc2b57U9SEOS",
        "outputId": "d13fdff6-44d2-4631-b664-d97ee1f9ec89"
      },
      "outputs": [
        {
          "output_type": "display_data",
          "data": {
            "text/html": [
              "<table class=\"dataframe\">\n",
              "<caption>A data.frame: 6 × 14</caption>\n",
              "<thead>\n",
              "\t<tr><th></th><th scope=col>pickup</th><th scope=col>dropoff</th><th scope=col>passengers</th><th scope=col>distance</th><th scope=col>fare</th><th scope=col>tip</th><th scope=col>tolls</th><th scope=col>total</th><th scope=col>color</th><th scope=col>payment</th><th scope=col>pickup_zone</th><th scope=col>dropoff_zone</th><th scope=col>pickup_borough</th><th scope=col>dropoff_borough</th></tr>\n",
              "\t<tr><th></th><th scope=col>&lt;chr&gt;</th><th scope=col>&lt;chr&gt;</th><th scope=col>&lt;int&gt;</th><th scope=col>&lt;dbl&gt;</th><th scope=col>&lt;dbl&gt;</th><th scope=col>&lt;dbl&gt;</th><th scope=col>&lt;dbl&gt;</th><th scope=col>&lt;dbl&gt;</th><th scope=col>&lt;chr&gt;</th><th scope=col>&lt;chr&gt;</th><th scope=col>&lt;chr&gt;</th><th scope=col>&lt;chr&gt;</th><th scope=col>&lt;chr&gt;</th><th scope=col>&lt;chr&gt;</th></tr>\n",
              "</thead>\n",
              "<tbody>\n",
              "\t<tr><th scope=row>1</th><td>2019-03-23 20:21:09</td><td>2019-03-23 20:27:24</td><td>1</td><td>1.60</td><td> 7.0</td><td>2.15</td><td>0</td><td>12.95</td><td>yellow</td><td>credit card</td><td>Lenox Hill West          </td><td>UN/Turtle Bay South  </td><td>Manhattan</td><td>Manhattan</td></tr>\n",
              "\t<tr><th scope=row>2</th><td>2019-03-04 16:11:55</td><td>2019-03-04 16:19:00</td><td>1</td><td>0.79</td><td> 5.0</td><td>0.00</td><td>0</td><td> 9.30</td><td>yellow</td><td>cash       </td><td>Upper West Side South    </td><td>Upper West Side South</td><td>Manhattan</td><td>Manhattan</td></tr>\n",
              "\t<tr><th scope=row>3</th><td>2019-03-27 17:53:01</td><td>2019-03-27 18:00:25</td><td>1</td><td>1.37</td><td> 7.5</td><td>2.36</td><td>0</td><td>14.16</td><td>yellow</td><td>credit card</td><td>Alphabet City            </td><td>West Village         </td><td>Manhattan</td><td>Manhattan</td></tr>\n",
              "\t<tr><th scope=row>4</th><td>2019-03-10 01:23:59</td><td>2019-03-10 01:49:51</td><td>1</td><td>7.70</td><td>27.0</td><td>6.15</td><td>0</td><td>36.95</td><td>yellow</td><td>credit card</td><td>Hudson Sq                </td><td>Yorkville West       </td><td>Manhattan</td><td>Manhattan</td></tr>\n",
              "\t<tr><th scope=row>5</th><td>2019-03-30 13:27:42</td><td>2019-03-30 13:37:14</td><td>3</td><td>2.16</td><td> 9.0</td><td>1.10</td><td>0</td><td>13.40</td><td>yellow</td><td>credit card</td><td>Midtown East             </td><td>Yorkville West       </td><td>Manhattan</td><td>Manhattan</td></tr>\n",
              "\t<tr><th scope=row>6</th><td>2019-03-11 10:37:23</td><td>2019-03-11 10:47:31</td><td>1</td><td>0.49</td><td> 7.5</td><td>2.16</td><td>0</td><td>12.96</td><td>yellow</td><td>credit card</td><td>Times Sq/Theatre District</td><td>Midtown East         </td><td>Manhattan</td><td>Manhattan</td></tr>\n",
              "</tbody>\n",
              "</table>\n"
            ],
            "text/markdown": "\nA data.frame: 6 × 14\n\n| <!--/--> | pickup &lt;chr&gt; | dropoff &lt;chr&gt; | passengers &lt;int&gt; | distance &lt;dbl&gt; | fare &lt;dbl&gt; | tip &lt;dbl&gt; | tolls &lt;dbl&gt; | total &lt;dbl&gt; | color &lt;chr&gt; | payment &lt;chr&gt; | pickup_zone &lt;chr&gt; | dropoff_zone &lt;chr&gt; | pickup_borough &lt;chr&gt; | dropoff_borough &lt;chr&gt; |\n|---|---|---|---|---|---|---|---|---|---|---|---|---|---|---|\n| 1 | 2019-03-23 20:21:09 | 2019-03-23 20:27:24 | 1 | 1.60 |  7.0 | 2.15 | 0 | 12.95 | yellow | credit card | Lenox Hill West           | UN/Turtle Bay South   | Manhattan | Manhattan |\n| 2 | 2019-03-04 16:11:55 | 2019-03-04 16:19:00 | 1 | 0.79 |  5.0 | 0.00 | 0 |  9.30 | yellow | cash        | Upper West Side South     | Upper West Side South | Manhattan | Manhattan |\n| 3 | 2019-03-27 17:53:01 | 2019-03-27 18:00:25 | 1 | 1.37 |  7.5 | 2.36 | 0 | 14.16 | yellow | credit card | Alphabet City             | West Village          | Manhattan | Manhattan |\n| 4 | 2019-03-10 01:23:59 | 2019-03-10 01:49:51 | 1 | 7.70 | 27.0 | 6.15 | 0 | 36.95 | yellow | credit card | Hudson Sq                 | Yorkville West        | Manhattan | Manhattan |\n| 5 | 2019-03-30 13:27:42 | 2019-03-30 13:37:14 | 3 | 2.16 |  9.0 | 1.10 | 0 | 13.40 | yellow | credit card | Midtown East              | Yorkville West        | Manhattan | Manhattan |\n| 6 | 2019-03-11 10:37:23 | 2019-03-11 10:47:31 | 1 | 0.49 |  7.5 | 2.16 | 0 | 12.96 | yellow | credit card | Times Sq/Theatre District | Midtown East          | Manhattan | Manhattan |\n\n",
            "text/latex": "A data.frame: 6 × 14\n\\begin{tabular}{r|llllllllllllll}\n  & pickup & dropoff & passengers & distance & fare & tip & tolls & total & color & payment & pickup\\_zone & dropoff\\_zone & pickup\\_borough & dropoff\\_borough\\\\\n  & <chr> & <chr> & <int> & <dbl> & <dbl> & <dbl> & <dbl> & <dbl> & <chr> & <chr> & <chr> & <chr> & <chr> & <chr>\\\\\n\\hline\n\t1 & 2019-03-23 20:21:09 & 2019-03-23 20:27:24 & 1 & 1.60 &  7.0 & 2.15 & 0 & 12.95 & yellow & credit card & Lenox Hill West           & UN/Turtle Bay South   & Manhattan & Manhattan\\\\\n\t2 & 2019-03-04 16:11:55 & 2019-03-04 16:19:00 & 1 & 0.79 &  5.0 & 0.00 & 0 &  9.30 & yellow & cash        & Upper West Side South     & Upper West Side South & Manhattan & Manhattan\\\\\n\t3 & 2019-03-27 17:53:01 & 2019-03-27 18:00:25 & 1 & 1.37 &  7.5 & 2.36 & 0 & 14.16 & yellow & credit card & Alphabet City             & West Village          & Manhattan & Manhattan\\\\\n\t4 & 2019-03-10 01:23:59 & 2019-03-10 01:49:51 & 1 & 7.70 & 27.0 & 6.15 & 0 & 36.95 & yellow & credit card & Hudson Sq                 & Yorkville West        & Manhattan & Manhattan\\\\\n\t5 & 2019-03-30 13:27:42 & 2019-03-30 13:37:14 & 3 & 2.16 &  9.0 & 1.10 & 0 & 13.40 & yellow & credit card & Midtown East              & Yorkville West        & Manhattan & Manhattan\\\\\n\t6 & 2019-03-11 10:37:23 & 2019-03-11 10:47:31 & 1 & 0.49 &  7.5 & 2.16 & 0 & 12.96 & yellow & credit card & Times Sq/Theatre District & Midtown East          & Manhattan & Manhattan\\\\\n\\end{tabular}\n",
            "text/plain": [
              "  pickup              dropoff             passengers distance fare tip  tolls\n",
              "1 2019-03-23 20:21:09 2019-03-23 20:27:24 1          1.60      7.0 2.15 0    \n",
              "2 2019-03-04 16:11:55 2019-03-04 16:19:00 1          0.79      5.0 0.00 0    \n",
              "3 2019-03-27 17:53:01 2019-03-27 18:00:25 1          1.37      7.5 2.36 0    \n",
              "4 2019-03-10 01:23:59 2019-03-10 01:49:51 1          7.70     27.0 6.15 0    \n",
              "5 2019-03-30 13:27:42 2019-03-30 13:37:14 3          2.16      9.0 1.10 0    \n",
              "6 2019-03-11 10:37:23 2019-03-11 10:47:31 1          0.49      7.5 2.16 0    \n",
              "  total color  payment     pickup_zone               dropoff_zone         \n",
              "1 12.95 yellow credit card Lenox Hill West           UN/Turtle Bay South  \n",
              "2  9.30 yellow cash        Upper West Side South     Upper West Side South\n",
              "3 14.16 yellow credit card Alphabet City             West Village         \n",
              "4 36.95 yellow credit card Hudson Sq                 Yorkville West       \n",
              "5 13.40 yellow credit card Midtown East              Yorkville West       \n",
              "6 12.96 yellow credit card Times Sq/Theatre District Midtown East         \n",
              "  pickup_borough dropoff_borough\n",
              "1 Manhattan      Manhattan      \n",
              "2 Manhattan      Manhattan      \n",
              "3 Manhattan      Manhattan      \n",
              "4 Manhattan      Manhattan      \n",
              "5 Manhattan      Manhattan      \n",
              "6 Manhattan      Manhattan      "
            ]
          },
          "metadata": {}
        }
      ],
      "source": [
        "#наша таблица\n",
        "taxis <- read.csv('https://raw.githubusercontent.com/mwaskom/seaborn-data/master/taxis.csv')\n",
        "head(taxis)"
      ]
    },
    {
      "cell_type": "markdown",
      "source": [
        "8. Покажите топ-3 самых популярных маршрутов внутри каждого боро. Направление маршрута не учитывыаем. Разместите графики в одном окне вывода."
      ],
      "metadata": {
        "id": "V0Yr9lpET-KZ"
      }
    },
    {
      "cell_type": "code",
      "source": [
        "#отбираем нужные боро\n",
        "boro <- taxis[taxis$pickup_borough == taxis$dropoff_borough,]\n",
        "boro <- boro[, c(11,12,13)]\n",
        "names(boro)[names(boro) == \"pickup_borough\"] <- \"boro\"\n",
        "#считаем маршруты внутри каждого боро\n",
        "trips <- boro %>% group_by(pickup_zone, dropoff_zone) %>% count(boro)\n",
        "trips <- trips[-1,]\n",
        "trips"
      ],
      "metadata": {
        "colab": {
          "base_uri": "https://localhost:8080/",
          "height": 1000
        },
        "id": "DN13HF1uUAQK",
        "outputId": "787df4ae-e0fa-4e00-cc8a-baf94b776784"
      },
      "execution_count": null,
      "outputs": [
        {
          "output_type": "display_data",
          "data": {
            "text/html": [
              "<table class=\"dataframe\">\n",
              "<caption>A grouped_df: 2127 × 4</caption>\n",
              "<thead>\n",
              "\t<tr><th scope=col>pickup_zone</th><th scope=col>dropoff_zone</th><th scope=col>boro</th><th scope=col>n</th></tr>\n",
              "\t<tr><th scope=col>&lt;chr&gt;</th><th scope=col>&lt;chr&gt;</th><th scope=col>&lt;chr&gt;</th><th scope=col>&lt;int&gt;</th></tr>\n",
              "</thead>\n",
              "<tbody>\n",
              "\t<tr><td>Allerton/Pelham Gardens</td><td>Co-Op City                    </td><td>Bronx    </td><td> 1</td></tr>\n",
              "\t<tr><td>Alphabet City          </td><td>East Village                  </td><td>Manhattan</td><td> 1</td></tr>\n",
              "\t<tr><td>Alphabet City          </td><td>Greenwich Village North       </td><td>Manhattan</td><td> 1</td></tr>\n",
              "\t<tr><td>Alphabet City          </td><td>Greenwich Village South       </td><td>Manhattan</td><td> 1</td></tr>\n",
              "\t<tr><td>Alphabet City          </td><td>Kips Bay                      </td><td>Manhattan</td><td> 1</td></tr>\n",
              "\t<tr><td>Alphabet City          </td><td>Stuy Town/Peter Cooper Village</td><td>Manhattan</td><td> 1</td></tr>\n",
              "\t<tr><td>Alphabet City          </td><td>West Village                  </td><td>Manhattan</td><td> 1</td></tr>\n",
              "\t<tr><td>Astoria                </td><td>Astoria                       </td><td>Queens   </td><td>24</td></tr>\n",
              "\t<tr><td>Astoria                </td><td>East Elmhurst                 </td><td>Queens   </td><td> 2</td></tr>\n",
              "\t<tr><td>Astoria                </td><td>Jackson Heights               </td><td>Queens   </td><td> 1</td></tr>\n",
              "\t<tr><td>Astoria                </td><td>LaGuardia Airport             </td><td>Queens   </td><td> 3</td></tr>\n",
              "\t<tr><td>Astoria                </td><td>Middle Village                </td><td>Queens   </td><td> 1</td></tr>\n",
              "\t<tr><td>Astoria                </td><td>Old Astoria                   </td><td>Queens   </td><td> 9</td></tr>\n",
              "\t<tr><td>Astoria                </td><td>Queensbridge/Ravenswood       </td><td>Queens   </td><td> 5</td></tr>\n",
              "\t<tr><td>Astoria                </td><td>Steinway                      </td><td>Queens   </td><td> 7</td></tr>\n",
              "\t<tr><td>Astoria                </td><td>Sunnyside                     </td><td>Queens   </td><td> 4</td></tr>\n",
              "\t<tr><td>Astoria                </td><td>Woodside                      </td><td>Queens   </td><td> 5</td></tr>\n",
              "\t<tr><td>Auburndale             </td><td>Woodside                      </td><td>Queens   </td><td> 1</td></tr>\n",
              "\t<tr><td>Battery Park           </td><td>Union Sq                      </td><td>Manhattan</td><td> 1</td></tr>\n",
              "\t<tr><td>Battery Park City      </td><td>Chinatown                     </td><td>Manhattan</td><td> 1</td></tr>\n",
              "\t<tr><td>Battery Park City      </td><td>East Chelsea                  </td><td>Manhattan</td><td> 3</td></tr>\n",
              "\t<tr><td>Battery Park City      </td><td>East Village                  </td><td>Manhattan</td><td> 1</td></tr>\n",
              "\t<tr><td>Battery Park City      </td><td>Financial District North      </td><td>Manhattan</td><td> 4</td></tr>\n",
              "\t<tr><td>Battery Park City      </td><td>Financial District South      </td><td>Manhattan</td><td> 1</td></tr>\n",
              "\t<tr><td>Battery Park City      </td><td>Flatiron                      </td><td>Manhattan</td><td> 1</td></tr>\n",
              "\t<tr><td>Battery Park City      </td><td>Garment District              </td><td>Manhattan</td><td> 2</td></tr>\n",
              "\t<tr><td>Battery Park City      </td><td>Greenwich Village North       </td><td>Manhattan</td><td> 1</td></tr>\n",
              "\t<tr><td>Battery Park City      </td><td>Hudson Sq                     </td><td>Manhattan</td><td> 2</td></tr>\n",
              "\t<tr><td>Battery Park City      </td><td>Lincoln Square West           </td><td>Manhattan</td><td> 1</td></tr>\n",
              "\t<tr><td>Battery Park City      </td><td>Little Italy/NoLiTa           </td><td>Manhattan</td><td> 1</td></tr>\n",
              "\t<tr><td>⋮</td><td>⋮</td><td>⋮</td><td>⋮</td></tr>\n",
              "\t<tr><td>Yorkville East</td><td>Yorkville West               </td><td>Manhattan</td><td> 8</td></tr>\n",
              "\t<tr><td>Yorkville West</td><td>Alphabet City                </td><td>Manhattan</td><td> 2</td></tr>\n",
              "\t<tr><td>Yorkville West</td><td>Central Harlem               </td><td>Manhattan</td><td> 1</td></tr>\n",
              "\t<tr><td>Yorkville West</td><td>Central Park                 </td><td>Manhattan</td><td> 3</td></tr>\n",
              "\t<tr><td>Yorkville West</td><td>East Harlem North            </td><td>Manhattan</td><td> 2</td></tr>\n",
              "\t<tr><td>Yorkville West</td><td>East Harlem South            </td><td>Manhattan</td><td> 5</td></tr>\n",
              "\t<tr><td>Yorkville West</td><td>Gramercy                     </td><td>Manhattan</td><td> 3</td></tr>\n",
              "\t<tr><td>Yorkville West</td><td>Greenwich Village South      </td><td>Manhattan</td><td> 2</td></tr>\n",
              "\t<tr><td>Yorkville West</td><td>Kips Bay                     </td><td>Manhattan</td><td> 1</td></tr>\n",
              "\t<tr><td>Yorkville West</td><td>Lenox Hill East              </td><td>Manhattan</td><td> 3</td></tr>\n",
              "\t<tr><td>Yorkville West</td><td>Lenox Hill West              </td><td>Manhattan</td><td>13</td></tr>\n",
              "\t<tr><td>Yorkville West</td><td>Lincoln Square East          </td><td>Manhattan</td><td> 7</td></tr>\n",
              "\t<tr><td>Yorkville West</td><td>Lincoln Square West          </td><td>Manhattan</td><td> 2</td></tr>\n",
              "\t<tr><td>Yorkville West</td><td>Manhattan Valley             </td><td>Manhattan</td><td> 1</td></tr>\n",
              "\t<tr><td>Yorkville West</td><td>Midtown Center               </td><td>Manhattan</td><td> 4</td></tr>\n",
              "\t<tr><td>Yorkville West</td><td>Midtown East                 </td><td>Manhattan</td><td> 6</td></tr>\n",
              "\t<tr><td>Yorkville West</td><td>Midtown North                </td><td>Manhattan</td><td> 1</td></tr>\n",
              "\t<tr><td>Yorkville West</td><td>Midtown South                </td><td>Manhattan</td><td> 1</td></tr>\n",
              "\t<tr><td>Yorkville West</td><td>Murray Hill                  </td><td>Manhattan</td><td> 1</td></tr>\n",
              "\t<tr><td>Yorkville West</td><td>Penn Station/Madison Sq West </td><td>Manhattan</td><td> 1</td></tr>\n",
              "\t<tr><td>Yorkville West</td><td>Sutton Place/Turtle Bay North</td><td>Manhattan</td><td> 3</td></tr>\n",
              "\t<tr><td>Yorkville West</td><td>Times Sq/Theatre District    </td><td>Manhattan</td><td> 1</td></tr>\n",
              "\t<tr><td>Yorkville West</td><td>UN/Turtle Bay South          </td><td>Manhattan</td><td> 1</td></tr>\n",
              "\t<tr><td>Yorkville West</td><td>Upper East Side North        </td><td>Manhattan</td><td>13</td></tr>\n",
              "\t<tr><td>Yorkville West</td><td>Upper East Side South        </td><td>Manhattan</td><td> 7</td></tr>\n",
              "\t<tr><td>Yorkville West</td><td>Upper West Side North        </td><td>Manhattan</td><td> 2</td></tr>\n",
              "\t<tr><td>Yorkville West</td><td>Upper West Side South        </td><td>Manhattan</td><td> 3</td></tr>\n",
              "\t<tr><td>Yorkville West</td><td>West Chelsea/Hudson Yards    </td><td>Manhattan</td><td> 1</td></tr>\n",
              "\t<tr><td>Yorkville West</td><td>Yorkville East               </td><td>Manhattan</td><td> 1</td></tr>\n",
              "\t<tr><td>Yorkville West</td><td>Yorkville West               </td><td>Manhattan</td><td> 8</td></tr>\n",
              "</tbody>\n",
              "</table>\n"
            ],
            "text/markdown": "\nA grouped_df: 2127 × 4\n\n| pickup_zone &lt;chr&gt; | dropoff_zone &lt;chr&gt; | boro &lt;chr&gt; | n &lt;int&gt; |\n|---|---|---|---|\n| Allerton/Pelham Gardens | Co-Op City                     | Bronx     |  1 |\n| Alphabet City           | East Village                   | Manhattan |  1 |\n| Alphabet City           | Greenwich Village North        | Manhattan |  1 |\n| Alphabet City           | Greenwich Village South        | Manhattan |  1 |\n| Alphabet City           | Kips Bay                       | Manhattan |  1 |\n| Alphabet City           | Stuy Town/Peter Cooper Village | Manhattan |  1 |\n| Alphabet City           | West Village                   | Manhattan |  1 |\n| Astoria                 | Astoria                        | Queens    | 24 |\n| Astoria                 | East Elmhurst                  | Queens    |  2 |\n| Astoria                 | Jackson Heights                | Queens    |  1 |\n| Astoria                 | LaGuardia Airport              | Queens    |  3 |\n| Astoria                 | Middle Village                 | Queens    |  1 |\n| Astoria                 | Old Astoria                    | Queens    |  9 |\n| Astoria                 | Queensbridge/Ravenswood        | Queens    |  5 |\n| Astoria                 | Steinway                       | Queens    |  7 |\n| Astoria                 | Sunnyside                      | Queens    |  4 |\n| Astoria                 | Woodside                       | Queens    |  5 |\n| Auburndale              | Woodside                       | Queens    |  1 |\n| Battery Park            | Union Sq                       | Manhattan |  1 |\n| Battery Park City       | Chinatown                      | Manhattan |  1 |\n| Battery Park City       | East Chelsea                   | Manhattan |  3 |\n| Battery Park City       | East Village                   | Manhattan |  1 |\n| Battery Park City       | Financial District North       | Manhattan |  4 |\n| Battery Park City       | Financial District South       | Manhattan |  1 |\n| Battery Park City       | Flatiron                       | Manhattan |  1 |\n| Battery Park City       | Garment District               | Manhattan |  2 |\n| Battery Park City       | Greenwich Village North        | Manhattan |  1 |\n| Battery Park City       | Hudson Sq                      | Manhattan |  2 |\n| Battery Park City       | Lincoln Square West            | Manhattan |  1 |\n| Battery Park City       | Little Italy/NoLiTa            | Manhattan |  1 |\n| ⋮ | ⋮ | ⋮ | ⋮ |\n| Yorkville East | Yorkville West                | Manhattan |  8 |\n| Yorkville West | Alphabet City                 | Manhattan |  2 |\n| Yorkville West | Central Harlem                | Manhattan |  1 |\n| Yorkville West | Central Park                  | Manhattan |  3 |\n| Yorkville West | East Harlem North             | Manhattan |  2 |\n| Yorkville West | East Harlem South             | Manhattan |  5 |\n| Yorkville West | Gramercy                      | Manhattan |  3 |\n| Yorkville West | Greenwich Village South       | Manhattan |  2 |\n| Yorkville West | Kips Bay                      | Manhattan |  1 |\n| Yorkville West | Lenox Hill East               | Manhattan |  3 |\n| Yorkville West | Lenox Hill West               | Manhattan | 13 |\n| Yorkville West | Lincoln Square East           | Manhattan |  7 |\n| Yorkville West | Lincoln Square West           | Manhattan |  2 |\n| Yorkville West | Manhattan Valley              | Manhattan |  1 |\n| Yorkville West | Midtown Center                | Manhattan |  4 |\n| Yorkville West | Midtown East                  | Manhattan |  6 |\n| Yorkville West | Midtown North                 | Manhattan |  1 |\n| Yorkville West | Midtown South                 | Manhattan |  1 |\n| Yorkville West | Murray Hill                   | Manhattan |  1 |\n| Yorkville West | Penn Station/Madison Sq West  | Manhattan |  1 |\n| Yorkville West | Sutton Place/Turtle Bay North | Manhattan |  3 |\n| Yorkville West | Times Sq/Theatre District     | Manhattan |  1 |\n| Yorkville West | UN/Turtle Bay South           | Manhattan |  1 |\n| Yorkville West | Upper East Side North         | Manhattan | 13 |\n| Yorkville West | Upper East Side South         | Manhattan |  7 |\n| Yorkville West | Upper West Side North         | Manhattan |  2 |\n| Yorkville West | Upper West Side South         | Manhattan |  3 |\n| Yorkville West | West Chelsea/Hudson Yards     | Manhattan |  1 |\n| Yorkville West | Yorkville East                | Manhattan |  1 |\n| Yorkville West | Yorkville West                | Manhattan |  8 |\n\n",
            "text/latex": "A grouped\\_df: 2127 × 4\n\\begin{tabular}{llll}\n pickup\\_zone & dropoff\\_zone & boro & n\\\\\n <chr> & <chr> & <chr> & <int>\\\\\n\\hline\n\t Allerton/Pelham Gardens & Co-Op City                     & Bronx     &  1\\\\\n\t Alphabet City           & East Village                   & Manhattan &  1\\\\\n\t Alphabet City           & Greenwich Village North        & Manhattan &  1\\\\\n\t Alphabet City           & Greenwich Village South        & Manhattan &  1\\\\\n\t Alphabet City           & Kips Bay                       & Manhattan &  1\\\\\n\t Alphabet City           & Stuy Town/Peter Cooper Village & Manhattan &  1\\\\\n\t Alphabet City           & West Village                   & Manhattan &  1\\\\\n\t Astoria                 & Astoria                        & Queens    & 24\\\\\n\t Astoria                 & East Elmhurst                  & Queens    &  2\\\\\n\t Astoria                 & Jackson Heights                & Queens    &  1\\\\\n\t Astoria                 & LaGuardia Airport              & Queens    &  3\\\\\n\t Astoria                 & Middle Village                 & Queens    &  1\\\\\n\t Astoria                 & Old Astoria                    & Queens    &  9\\\\\n\t Astoria                 & Queensbridge/Ravenswood        & Queens    &  5\\\\\n\t Astoria                 & Steinway                       & Queens    &  7\\\\\n\t Astoria                 & Sunnyside                      & Queens    &  4\\\\\n\t Astoria                 & Woodside                       & Queens    &  5\\\\\n\t Auburndale              & Woodside                       & Queens    &  1\\\\\n\t Battery Park            & Union Sq                       & Manhattan &  1\\\\\n\t Battery Park City       & Chinatown                      & Manhattan &  1\\\\\n\t Battery Park City       & East Chelsea                   & Manhattan &  3\\\\\n\t Battery Park City       & East Village                   & Manhattan &  1\\\\\n\t Battery Park City       & Financial District North       & Manhattan &  4\\\\\n\t Battery Park City       & Financial District South       & Manhattan &  1\\\\\n\t Battery Park City       & Flatiron                       & Manhattan &  1\\\\\n\t Battery Park City       & Garment District               & Manhattan &  2\\\\\n\t Battery Park City       & Greenwich Village North        & Manhattan &  1\\\\\n\t Battery Park City       & Hudson Sq                      & Manhattan &  2\\\\\n\t Battery Park City       & Lincoln Square West            & Manhattan &  1\\\\\n\t Battery Park City       & Little Italy/NoLiTa            & Manhattan &  1\\\\\n\t ⋮ & ⋮ & ⋮ & ⋮\\\\\n\t Yorkville East & Yorkville West                & Manhattan &  8\\\\\n\t Yorkville West & Alphabet City                 & Manhattan &  2\\\\\n\t Yorkville West & Central Harlem                & Manhattan &  1\\\\\n\t Yorkville West & Central Park                  & Manhattan &  3\\\\\n\t Yorkville West & East Harlem North             & Manhattan &  2\\\\\n\t Yorkville West & East Harlem South             & Manhattan &  5\\\\\n\t Yorkville West & Gramercy                      & Manhattan &  3\\\\\n\t Yorkville West & Greenwich Village South       & Manhattan &  2\\\\\n\t Yorkville West & Kips Bay                      & Manhattan &  1\\\\\n\t Yorkville West & Lenox Hill East               & Manhattan &  3\\\\\n\t Yorkville West & Lenox Hill West               & Manhattan & 13\\\\\n\t Yorkville West & Lincoln Square East           & Manhattan &  7\\\\\n\t Yorkville West & Lincoln Square West           & Manhattan &  2\\\\\n\t Yorkville West & Manhattan Valley              & Manhattan &  1\\\\\n\t Yorkville West & Midtown Center                & Manhattan &  4\\\\\n\t Yorkville West & Midtown East                  & Manhattan &  6\\\\\n\t Yorkville West & Midtown North                 & Manhattan &  1\\\\\n\t Yorkville West & Midtown South                 & Manhattan &  1\\\\\n\t Yorkville West & Murray Hill                   & Manhattan &  1\\\\\n\t Yorkville West & Penn Station/Madison Sq West  & Manhattan &  1\\\\\n\t Yorkville West & Sutton Place/Turtle Bay North & Manhattan &  3\\\\\n\t Yorkville West & Times Sq/Theatre District     & Manhattan &  1\\\\\n\t Yorkville West & UN/Turtle Bay South           & Manhattan &  1\\\\\n\t Yorkville West & Upper East Side North         & Manhattan & 13\\\\\n\t Yorkville West & Upper East Side South         & Manhattan &  7\\\\\n\t Yorkville West & Upper West Side North         & Manhattan &  2\\\\\n\t Yorkville West & Upper West Side South         & Manhattan &  3\\\\\n\t Yorkville West & West Chelsea/Hudson Yards     & Manhattan &  1\\\\\n\t Yorkville West & Yorkville East                & Manhattan &  1\\\\\n\t Yorkville West & Yorkville West                & Manhattan &  8\\\\\n\\end{tabular}\n",
            "text/plain": [
              "     pickup_zone             dropoff_zone                   boro      n \n",
              "1    Allerton/Pelham Gardens Co-Op City                     Bronx      1\n",
              "2    Alphabet City           East Village                   Manhattan  1\n",
              "3    Alphabet City           Greenwich Village North        Manhattan  1\n",
              "4    Alphabet City           Greenwich Village South        Manhattan  1\n",
              "5    Alphabet City           Kips Bay                       Manhattan  1\n",
              "6    Alphabet City           Stuy Town/Peter Cooper Village Manhattan  1\n",
              "7    Alphabet City           West Village                   Manhattan  1\n",
              "8    Astoria                 Astoria                        Queens    24\n",
              "9    Astoria                 East Elmhurst                  Queens     2\n",
              "10   Astoria                 Jackson Heights                Queens     1\n",
              "11   Astoria                 LaGuardia Airport              Queens     3\n",
              "12   Astoria                 Middle Village                 Queens     1\n",
              "13   Astoria                 Old Astoria                    Queens     9\n",
              "14   Astoria                 Queensbridge/Ravenswood        Queens     5\n",
              "15   Astoria                 Steinway                       Queens     7\n",
              "16   Astoria                 Sunnyside                      Queens     4\n",
              "17   Astoria                 Woodside                       Queens     5\n",
              "18   Auburndale              Woodside                       Queens     1\n",
              "19   Battery Park            Union Sq                       Manhattan  1\n",
              "20   Battery Park City       Chinatown                      Manhattan  1\n",
              "21   Battery Park City       East Chelsea                   Manhattan  3\n",
              "22   Battery Park City       East Village                   Manhattan  1\n",
              "23   Battery Park City       Financial District North       Manhattan  4\n",
              "24   Battery Park City       Financial District South       Manhattan  1\n",
              "25   Battery Park City       Flatiron                       Manhattan  1\n",
              "26   Battery Park City       Garment District               Manhattan  2\n",
              "27   Battery Park City       Greenwich Village North        Manhattan  1\n",
              "28   Battery Park City       Hudson Sq                      Manhattan  2\n",
              "29   Battery Park City       Lincoln Square West            Manhattan  1\n",
              "30   Battery Park City       Little Italy/NoLiTa            Manhattan  1\n",
              "⋮    ⋮                       ⋮                              ⋮         ⋮ \n",
              "2098 Yorkville East          Yorkville West                 Manhattan  8\n",
              "2099 Yorkville West          Alphabet City                  Manhattan  2\n",
              "2100 Yorkville West          Central Harlem                 Manhattan  1\n",
              "2101 Yorkville West          Central Park                   Manhattan  3\n",
              "2102 Yorkville West          East Harlem North              Manhattan  2\n",
              "2103 Yorkville West          East Harlem South              Manhattan  5\n",
              "2104 Yorkville West          Gramercy                       Manhattan  3\n",
              "2105 Yorkville West          Greenwich Village South        Manhattan  2\n",
              "2106 Yorkville West          Kips Bay                       Manhattan  1\n",
              "2107 Yorkville West          Lenox Hill East                Manhattan  3\n",
              "2108 Yorkville West          Lenox Hill West                Manhattan 13\n",
              "2109 Yorkville West          Lincoln Square East            Manhattan  7\n",
              "2110 Yorkville West          Lincoln Square West            Manhattan  2\n",
              "2111 Yorkville West          Manhattan Valley               Manhattan  1\n",
              "2112 Yorkville West          Midtown Center                 Manhattan  4\n",
              "2113 Yorkville West          Midtown East                   Manhattan  6\n",
              "2114 Yorkville West          Midtown North                  Manhattan  1\n",
              "2115 Yorkville West          Midtown South                  Manhattan  1\n",
              "2116 Yorkville West          Murray Hill                    Manhattan  1\n",
              "2117 Yorkville West          Penn Station/Madison Sq West   Manhattan  1\n",
              "2118 Yorkville West          Sutton Place/Turtle Bay North  Manhattan  3\n",
              "2119 Yorkville West          Times Sq/Theatre District      Manhattan  1\n",
              "2120 Yorkville West          UN/Turtle Bay South            Manhattan  1\n",
              "2121 Yorkville West          Upper East Side North          Manhattan 13\n",
              "2122 Yorkville West          Upper East Side South          Manhattan  7\n",
              "2123 Yorkville West          Upper West Side North          Manhattan  2\n",
              "2124 Yorkville West          Upper West Side South          Manhattan  3\n",
              "2125 Yorkville West          West Chelsea/Hudson Yards      Manhattan  1\n",
              "2126 Yorkville West          Yorkville East                 Manhattan  1\n",
              "2127 Yorkville West          Yorkville West                 Manhattan  8"
            ]
          },
          "metadata": {}
        }
      ]
    },
    {
      "cell_type": "code",
      "source": [
        "#список всех боро\n",
        "unique(trips$boro)"
      ],
      "metadata": {
        "colab": {
          "base_uri": "https://localhost:8080/",
          "height": 35
        },
        "id": "bMo_uMJI02f7",
        "outputId": "d4ff5cea-8ecd-40b7-a093-d05eff9d0607"
      },
      "execution_count": null,
      "outputs": [
        {
          "output_type": "display_data",
          "data": {
            "text/html": [
              "<style>\n",
              ".list-inline {list-style: none; margin:0; padding: 0}\n",
              ".list-inline>li {display: inline-block}\n",
              ".list-inline>li:not(:last-child)::after {content: \"\\00b7\"; padding: 0 .5ex}\n",
              "</style>\n",
              "<ol class=list-inline><li>'Bronx'</li><li>'Manhattan'</li><li>'Queens'</li><li>'Brooklyn'</li></ol>\n"
            ],
            "text/markdown": "1. 'Bronx'\n2. 'Manhattan'\n3. 'Queens'\n4. 'Brooklyn'\n\n\n",
            "text/latex": "\\begin{enumerate*}\n\\item 'Bronx'\n\\item 'Manhattan'\n\\item 'Queens'\n\\item 'Brooklyn'\n\\end{enumerate*}\n",
            "text/plain": [
              "[1] \"Bronx\"     \"Manhattan\" \"Queens\"    \"Brooklyn\" "
            ]
          },
          "metadata": {}
        }
      ]
    },
    {
      "cell_type": "code",
      "source": [
        "#топ-3 в Manhattan\n",
        "trips_manhattan <- trips[trips$boro == 'Manhattan',]\n",
        "top3_manh_trips <- head(trips_manhattan[order(trips_manhattan$n, decreasing=TRUE),], n = 4)\n",
        "top3_manh_trips <- top3_manh_trips[-3,] #убираем повторяющийся маршрут\n",
        "#топ-3 в Bronx\n",
        "trips_bronx <- trips[trips$boro == 'Bronx',]\n",
        "top3_bronx_trips <- head(trips_bronx[order(trips_bronx$n, decreasing=TRUE),], n = 3)\n",
        "#топ-3 в Queens\n",
        "trips_queens <- trips[trips$boro == 'Queens',]\n",
        "top3_queens_trips <- head(trips_queens[order(trips_queens$n, decreasing=TRUE),], n = 3)\n",
        "#топ-3 в Brooklyn\n",
        "trips_brooklyn <- trips[trips$boro == 'Brooklyn',]\n",
        "top3_brooklyn_trips <- head(trips_brooklyn[order(trips_brooklyn$n, decreasing=TRUE),], n = 3)\n",
        "#делаем одну таблицу с лучшими маршрутами\n",
        "top_df <- top3_manh_trips\n",
        "new_row1 <- top3_bronx_trips[c(1,2,3),]\n",
        "new_row2 <- top3_queens_trips[c(1,2,3),]\n",
        "new_row3 <- top3_brooklyn_trips[c(1,2,3),]\n",
        "top_df <- rbind(top_df, new_row1)\n",
        "top_df <- rbind(top_df, new_row2)\n",
        "top_df <- rbind(top_df, new_row3)\n",
        "top_df"
      ],
      "metadata": {
        "colab": {
          "base_uri": "https://localhost:8080/",
          "height": 474
        },
        "id": "HQCLiYHt1efM",
        "outputId": "9a4200b4-6a28-4dd3-f661-556c57b4e38f"
      },
      "execution_count": null,
      "outputs": [
        {
          "output_type": "display_data",
          "data": {
            "text/html": [
              "<table class=\"dataframe\">\n",
              "<caption>A grouped_df: 12 × 4</caption>\n",
              "<thead>\n",
              "\t<tr><th scope=col>pickup_zone</th><th scope=col>dropoff_zone</th><th scope=col>boro</th><th scope=col>n</th></tr>\n",
              "\t<tr><th scope=col>&lt;chr&gt;</th><th scope=col>&lt;chr&gt;</th><th scope=col>&lt;chr&gt;</th><th scope=col>&lt;int&gt;</th></tr>\n",
              "</thead>\n",
              "<tbody>\n",
              "\t<tr><td>Upper East Side North           </td><td>Upper East Side North           </td><td>Manhattan</td><td>38</td></tr>\n",
              "\t<tr><td>Upper East Side South           </td><td>Upper East Side North           </td><td>Manhattan</td><td>30</td></tr>\n",
              "\t<tr><td>Central Harlem                  </td><td>Central Harlem North            </td><td>Manhattan</td><td>20</td></tr>\n",
              "\t<tr><td>East Concourse/Concourse Village</td><td>West Concourse                  </td><td>Bronx    </td><td> 2</td></tr>\n",
              "\t<tr><td>East Concourse/Concourse Village</td><td>Westchester Village/Unionport   </td><td>Bronx    </td><td> 2</td></tr>\n",
              "\t<tr><td>Melrose South                   </td><td>East Concourse/Concourse Village</td><td>Bronx    </td><td> 2</td></tr>\n",
              "\t<tr><td>Astoria                         </td><td>Astoria                         </td><td>Queens   </td><td>24</td></tr>\n",
              "\t<tr><td>JFK Airport                     </td><td>JFK Airport                     </td><td>Queens   </td><td>10</td></tr>\n",
              "\t<tr><td>Astoria                         </td><td>Old Astoria                     </td><td>Queens   </td><td> 9</td></tr>\n",
              "\t<tr><td>Boerum Hill                     </td><td>Park Slope                      </td><td>Brooklyn </td><td> 4</td></tr>\n",
              "\t<tr><td>Downtown Brooklyn/MetroTech     </td><td>Fort Greene                     </td><td>Brooklyn </td><td> 4</td></tr>\n",
              "\t<tr><td>Fort Greene                     </td><td>Fort Greene                     </td><td>Brooklyn </td><td> 4</td></tr>\n",
              "</tbody>\n",
              "</table>\n"
            ],
            "text/markdown": "\nA grouped_df: 12 × 4\n\n| pickup_zone &lt;chr&gt; | dropoff_zone &lt;chr&gt; | boro &lt;chr&gt; | n &lt;int&gt; |\n|---|---|---|---|\n| Upper East Side North            | Upper East Side North            | Manhattan | 38 |\n| Upper East Side South            | Upper East Side North            | Manhattan | 30 |\n| Central Harlem                   | Central Harlem North             | Manhattan | 20 |\n| East Concourse/Concourse Village | West Concourse                   | Bronx     |  2 |\n| East Concourse/Concourse Village | Westchester Village/Unionport    | Bronx     |  2 |\n| Melrose South                    | East Concourse/Concourse Village | Bronx     |  2 |\n| Astoria                          | Astoria                          | Queens    | 24 |\n| JFK Airport                      | JFK Airport                      | Queens    | 10 |\n| Astoria                          | Old Astoria                      | Queens    |  9 |\n| Boerum Hill                      | Park Slope                       | Brooklyn  |  4 |\n| Downtown Brooklyn/MetroTech      | Fort Greene                      | Brooklyn  |  4 |\n| Fort Greene                      | Fort Greene                      | Brooklyn  |  4 |\n\n",
            "text/latex": "A grouped\\_df: 12 × 4\n\\begin{tabular}{llll}\n pickup\\_zone & dropoff\\_zone & boro & n\\\\\n <chr> & <chr> & <chr> & <int>\\\\\n\\hline\n\t Upper East Side North            & Upper East Side North            & Manhattan & 38\\\\\n\t Upper East Side South            & Upper East Side North            & Manhattan & 30\\\\\n\t Central Harlem                   & Central Harlem North             & Manhattan & 20\\\\\n\t East Concourse/Concourse Village & West Concourse                   & Bronx     &  2\\\\\n\t East Concourse/Concourse Village & Westchester Village/Unionport    & Bronx     &  2\\\\\n\t Melrose South                    & East Concourse/Concourse Village & Bronx     &  2\\\\\n\t Astoria                          & Astoria                          & Queens    & 24\\\\\n\t JFK Airport                      & JFK Airport                      & Queens    & 10\\\\\n\t Astoria                          & Old Astoria                      & Queens    &  9\\\\\n\t Boerum Hill                      & Park Slope                       & Brooklyn  &  4\\\\\n\t Downtown Brooklyn/MetroTech      & Fort Greene                      & Brooklyn  &  4\\\\\n\t Fort Greene                      & Fort Greene                      & Brooklyn  &  4\\\\\n\\end{tabular}\n",
            "text/plain": [
              "   pickup_zone                      dropoff_zone                     boro     \n",
              "1  Upper East Side North            Upper East Side North            Manhattan\n",
              "2  Upper East Side South            Upper East Side North            Manhattan\n",
              "3  Central Harlem                   Central Harlem North             Manhattan\n",
              "4  East Concourse/Concourse Village West Concourse                   Bronx    \n",
              "5  East Concourse/Concourse Village Westchester Village/Unionport    Bronx    \n",
              "6  Melrose South                    East Concourse/Concourse Village Bronx    \n",
              "7  Astoria                          Astoria                          Queens   \n",
              "8  JFK Airport                      JFK Airport                      Queens   \n",
              "9  Astoria                          Old Astoria                      Queens   \n",
              "10 Boerum Hill                      Park Slope                       Brooklyn \n",
              "11 Downtown Brooklyn/MetroTech      Fort Greene                      Brooklyn \n",
              "12 Fort Greene                      Fort Greene                      Brooklyn \n",
              "   n \n",
              "1  38\n",
              "2  30\n",
              "3  20\n",
              "4   2\n",
              "5   2\n",
              "6   2\n",
              "7  24\n",
              "8  10\n",
              "9   9\n",
              "10  4\n",
              "11  4\n",
              "12  4"
            ]
          },
          "metadata": {}
        }
      ]
    },
    {
      "cell_type": "code",
      "source": [
        "#визуализация\n",
        "ggplot(top_df, aes(fill=pickup_zone, y=n, x=boro)) + \n",
        "    geom_bar(position=\"dodge\", stat=\"identity\")"
      ],
      "metadata": {
        "colab": {
          "base_uri": "https://localhost:8080/",
          "height": 437
        },
        "id": "1RGs7BGa5yry",
        "outputId": "3bd93ba9-cb5e-4b3a-cd1a-bbc5da956f55"
      },
      "execution_count": null,
      "outputs": [
        {
          "output_type": "display_data",
          "data": {
            "text/plain": [
              "plot without title"
            ],
            "image/png": "[encoded data removed]"
          },
          "metadata": {
            "image/png": {
              "width": 420,
              "height": 420
            }
          }
        }
      ]
    },
    {
      "cell_type": "markdown",
      "source": [
        "# Задание 2"
      ],
      "metadata": {
        "id": "iSytIBeyUFzF"
      }
    },
    {
      "cell_type": "markdown",
      "source": [
        "\n",
        "Воспользуемся стандартным датасетом `titanic`. Загрузим его из модуля `seaborn`. Необходимо выполнить одну визуализацию на `pandas` и одну на `R`. Для визуализации на `R` данные возьмите отсюда: https://github.com/mwaskom/seaborn-data/blob/master/titanic.csv"
      ],
      "metadata": {
        "id": "BzZ9LhqNULYI"
      }
    },
    {
      "cell_type": "code",
      "source": [
        "#наша таблица\n",
        "titanic <- read.csv('https://raw.githubusercontent.com/mwaskom/seaborn-data/master/titanic.csv')\n",
        "head(titanic)"
      ],
      "metadata": {
        "colab": {
          "base_uri": "https://localhost:8080/",
          "height": 286
        },
        "id": "LA-5GUZBUXsC",
        "outputId": "f677359c-2e5c-4692-b0ba-75ad7ec4141e"
      },
      "execution_count": null,
      "outputs": [
        {
          "output_type": "display_data",
          "data": {
            "text/html": [
              "<table class=\"dataframe\">\n",
              "<caption>A data.frame: 6 × 15</caption>\n",
              "<thead>\n",
              "\t<tr><th></th><th scope=col>survived</th><th scope=col>pclass</th><th scope=col>sex</th><th scope=col>age</th><th scope=col>sibsp</th><th scope=col>parch</th><th scope=col>fare</th><th scope=col>embarked</th><th scope=col>class</th><th scope=col>who</th><th scope=col>adult_male</th><th scope=col>deck</th><th scope=col>embark_town</th><th scope=col>alive</th><th scope=col>alone</th></tr>\n",
              "\t<tr><th></th><th scope=col>&lt;int&gt;</th><th scope=col>&lt;int&gt;</th><th scope=col>&lt;chr&gt;</th><th scope=col>&lt;dbl&gt;</th><th scope=col>&lt;int&gt;</th><th scope=col>&lt;int&gt;</th><th scope=col>&lt;dbl&gt;</th><th scope=col>&lt;chr&gt;</th><th scope=col>&lt;chr&gt;</th><th scope=col>&lt;chr&gt;</th><th scope=col>&lt;chr&gt;</th><th scope=col>&lt;chr&gt;</th><th scope=col>&lt;chr&gt;</th><th scope=col>&lt;chr&gt;</th><th scope=col>&lt;chr&gt;</th></tr>\n",
              "</thead>\n",
              "<tbody>\n",
              "\t<tr><th scope=row>1</th><td>0</td><td>3</td><td>male  </td><td>22</td><td>1</td><td>0</td><td> 7.2500</td><td>S</td><td>Third</td><td>man  </td><td>True </td><td> </td><td>Southampton</td><td>no </td><td>False</td></tr>\n",
              "\t<tr><th scope=row>2</th><td>1</td><td>1</td><td>female</td><td>38</td><td>1</td><td>0</td><td>71.2833</td><td>C</td><td>First</td><td>woman</td><td>False</td><td>C</td><td>Cherbourg  </td><td>yes</td><td>False</td></tr>\n",
              "\t<tr><th scope=row>3</th><td>1</td><td>3</td><td>female</td><td>26</td><td>0</td><td>0</td><td> 7.9250</td><td>S</td><td>Third</td><td>woman</td><td>False</td><td> </td><td>Southampton</td><td>yes</td><td>True </td></tr>\n",
              "\t<tr><th scope=row>4</th><td>1</td><td>1</td><td>female</td><td>35</td><td>1</td><td>0</td><td>53.1000</td><td>S</td><td>First</td><td>woman</td><td>False</td><td>C</td><td>Southampton</td><td>yes</td><td>False</td></tr>\n",
              "\t<tr><th scope=row>5</th><td>0</td><td>3</td><td>male  </td><td>35</td><td>0</td><td>0</td><td> 8.0500</td><td>S</td><td>Third</td><td>man  </td><td>True </td><td> </td><td>Southampton</td><td>no </td><td>True </td></tr>\n",
              "\t<tr><th scope=row>6</th><td>0</td><td>3</td><td>male  </td><td>NA</td><td>0</td><td>0</td><td> 8.4583</td><td>Q</td><td>Third</td><td>man  </td><td>True </td><td> </td><td>Queenstown </td><td>no </td><td>True </td></tr>\n",
              "</tbody>\n",
              "</table>\n"
            ],
            "text/markdown": "\nA data.frame: 6 × 15\n\n| <!--/--> | survived &lt;int&gt; | pclass &lt;int&gt; | sex &lt;chr&gt; | age &lt;dbl&gt; | sibsp &lt;int&gt; | parch &lt;int&gt; | fare &lt;dbl&gt; | embarked &lt;chr&gt; | class &lt;chr&gt; | who &lt;chr&gt; | adult_male &lt;chr&gt; | deck &lt;chr&gt; | embark_town &lt;chr&gt; | alive &lt;chr&gt; | alone &lt;chr&gt; |\n|---|---|---|---|---|---|---|---|---|---|---|---|---|---|---|---|\n| 1 | 0 | 3 | male   | 22 | 1 | 0 |  7.2500 | S | Third | man   | True  | <!----> | Southampton | no  | False |\n| 2 | 1 | 1 | female | 38 | 1 | 0 | 71.2833 | C | First | woman | False | C | Cherbourg   | yes | False |\n| 3 | 1 | 3 | female | 26 | 0 | 0 |  7.9250 | S | Third | woman | False | <!----> | Southampton | yes | True  |\n| 4 | 1 | 1 | female | 35 | 1 | 0 | 53.1000 | S | First | woman | False | C | Southampton | yes | False |\n| 5 | 0 | 3 | male   | 35 | 0 | 0 |  8.0500 | S | Third | man   | True  | <!----> | Southampton | no  | True  |\n| 6 | 0 | 3 | male   | NA | 0 | 0 |  8.4583 | Q | Third | man   | True  | <!----> | Queenstown  | no  | True  |\n\n",
            "text/latex": "A data.frame: 6 × 15\n\\begin{tabular}{r|lllllllllllllll}\n  & survived & pclass & sex & age & sibsp & parch & fare & embarked & class & who & adult\\_male & deck & embark\\_town & alive & alone\\\\\n  & <int> & <int> & <chr> & <dbl> & <int> & <int> & <dbl> & <chr> & <chr> & <chr> & <chr> & <chr> & <chr> & <chr> & <chr>\\\\\n\\hline\n\t1 & 0 & 3 & male   & 22 & 1 & 0 &  7.2500 & S & Third & man   & True  &   & Southampton & no  & False\\\\\n\t2 & 1 & 1 & female & 38 & 1 & 0 & 71.2833 & C & First & woman & False & C & Cherbourg   & yes & False\\\\\n\t3 & 1 & 3 & female & 26 & 0 & 0 &  7.9250 & S & Third & woman & False &   & Southampton & yes & True \\\\\n\t4 & 1 & 1 & female & 35 & 1 & 0 & 53.1000 & S & First & woman & False & C & Southampton & yes & False\\\\\n\t5 & 0 & 3 & male   & 35 & 0 & 0 &  8.0500 & S & Third & man   & True  &   & Southampton & no  & True \\\\\n\t6 & 0 & 3 & male   & NA & 0 & 0 &  8.4583 & Q & Third & man   & True  &   & Queenstown  & no  & True \\\\\n\\end{tabular}\n",
            "text/plain": [
              "  survived pclass sex    age sibsp parch fare    embarked class who  \n",
              "1 0        3      male   22  1     0      7.2500 S        Third man  \n",
              "2 1        1      female 38  1     0     71.2833 C        First woman\n",
              "3 1        3      female 26  0     0      7.9250 S        Third woman\n",
              "4 1        1      female 35  1     0     53.1000 S        First woman\n",
              "5 0        3      male   35  0     0      8.0500 S        Third man  \n",
              "6 0        3      male   NA  0     0      8.4583 Q        Third man  \n",
              "  adult_male deck embark_town alive alone\n",
              "1 True            Southampton no    False\n",
              "2 False      C    Cherbourg   yes   False\n",
              "3 False           Southampton yes   True \n",
              "4 False      C    Southampton yes   False\n",
              "5 True            Southampton no    True \n",
              "6 True            Queenstown  no    True "
            ]
          },
          "metadata": {}
        }
      ]
    },
    {
      "cell_type": "markdown",
      "source": [
        "3. На диаграмме с группировкой покажите, кого было больше в каждой возрастной группе: выживших или погибших? Возрастной группой считаем каждые десять лет: 0-10, 11-20, 21-30 и т.д."
      ],
      "metadata": {
        "id": "XvsygCbOUrbr"
      }
    },
    {
      "cell_type": "code",
      "source": [
        "#отбираем нужные данные\n",
        "titanic_stat <- titanic[,c(3,4,14)]\n",
        "titanic_stat <- na.omit(titanic_stat) #удаляем нулевые значения\n",
        "#классификация категорий\n",
        "titanic_stat['age_category'] <- 0\n",
        "for (i in 1:length(titanic_stat$age)){\n",
        "  if  (0 <= titanic_stat$age[i]  & titanic_stat$age[i] <= 10) {\n",
        "      titanic_stat$age_category[i] <- 1\n",
        "  } else if (11 <= titanic_stat$age[i]  & titanic_stat$age[i] <= 20){\n",
        "      titanic_stat$age_category[i] <- 2\n",
        "  } else if (21 <= titanic_stat$age[i]  & titanic_stat$age[i] <= 30){\n",
        "      titanic_stat$age_category[i] <- 3 \n",
        "  } else if (31 <= titanic_stat$age[i]  & titanic_stat$age[i] <= 40){\n",
        "      titanic_stat$age_category[i] <- 4\n",
        "  } else if (41 <= titanic_stat$age[i]  & titanic_stat$age[i] <= 50){\n",
        "      titanic_stat$age_category[i] <- 5\n",
        "  } else if (51 <= titanic_stat$age[i]  & titanic_stat$age[i] <= 60){\n",
        "      titanic_stat$age_category[i] <- 6\n",
        "  } else if (61 <= titanic_stat$age[i]  & titanic_stat$age[i] <= 70){\n",
        "      titanic_stat$age_category[i] <- 7\n",
        "  } else{\n",
        "     titanic_stat$age_category[i] <- 8\n",
        "  }\n",
        "}\n",
        "head(titanic_stat)"
      ],
      "metadata": {
        "colab": {
          "base_uri": "https://localhost:8080/",
          "height": 286
        },
        "id": "QfXMNjePUuQn",
        "outputId": "b7864c13-533c-4054-87db-dd83d32e8081"
      },
      "execution_count": null,
      "outputs": [
        {
          "output_type": "display_data",
          "data": {
            "text/html": [
              "<table class=\"dataframe\">\n",
              "<caption>A data.frame: 6 × 4</caption>\n",
              "<thead>\n",
              "\t<tr><th></th><th scope=col>sex</th><th scope=col>age</th><th scope=col>alive</th><th scope=col>age_category</th></tr>\n",
              "\t<tr><th></th><th scope=col>&lt;chr&gt;</th><th scope=col>&lt;dbl&gt;</th><th scope=col>&lt;chr&gt;</th><th scope=col>&lt;dbl&gt;</th></tr>\n",
              "</thead>\n",
              "<tbody>\n",
              "\t<tr><th scope=row>1</th><td>male  </td><td>22</td><td>no </td><td>3</td></tr>\n",
              "\t<tr><th scope=row>2</th><td>female</td><td>38</td><td>yes</td><td>4</td></tr>\n",
              "\t<tr><th scope=row>3</th><td>female</td><td>26</td><td>yes</td><td>3</td></tr>\n",
              "\t<tr><th scope=row>4</th><td>female</td><td>35</td><td>yes</td><td>4</td></tr>\n",
              "\t<tr><th scope=row>5</th><td>male  </td><td>35</td><td>no </td><td>4</td></tr>\n",
              "\t<tr><th scope=row>7</th><td>male  </td><td>54</td><td>no </td><td>6</td></tr>\n",
              "</tbody>\n",
              "</table>\n"
            ],
            "text/markdown": "\nA data.frame: 6 × 4\n\n| <!--/--> | sex &lt;chr&gt; | age &lt;dbl&gt; | alive &lt;chr&gt; | age_category &lt;dbl&gt; |\n|---|---|---|---|---|\n| 1 | male   | 22 | no  | 3 |\n| 2 | female | 38 | yes | 4 |\n| 3 | female | 26 | yes | 3 |\n| 4 | female | 35 | yes | 4 |\n| 5 | male   | 35 | no  | 4 |\n| 7 | male   | 54 | no  | 6 |\n\n",
            "text/latex": "A data.frame: 6 × 4\n\\begin{tabular}{r|llll}\n  & sex & age & alive & age\\_category\\\\\n  & <chr> & <dbl> & <chr> & <dbl>\\\\\n\\hline\n\t1 & male   & 22 & no  & 3\\\\\n\t2 & female & 38 & yes & 4\\\\\n\t3 & female & 26 & yes & 3\\\\\n\t4 & female & 35 & yes & 4\\\\\n\t5 & male   & 35 & no  & 4\\\\\n\t7 & male   & 54 & no  & 6\\\\\n\\end{tabular}\n",
            "text/plain": [
              "  sex    age alive age_category\n",
              "1 male   22  no    3           \n",
              "2 female 38  yes   4           \n",
              "3 female 26  yes   3           \n",
              "4 female 35  yes   4           \n",
              "5 male   35  no    4           \n",
              "7 male   54  no    6           "
            ]
          },
          "metadata": {}
        }
      ]
    },
    {
      "cell_type": "code",
      "source": [
        "#таблица для визуализации\n",
        "alive <- titanic_stat[titanic_stat$alive == 'yes',]\n",
        "no_alive <- titanic_stat[titanic_stat$alive == 'no',]\n",
        "df_alive <- alive %>% group_by(age_category) %>% count(alive)\n",
        "df_no_alive <- no_alive %>% group_by(age_category) %>% count(alive)\n",
        "new_row <- df_no_alive[c(1,2,3,4,5,6,7,8),]\n",
        "df_alive <- rbind(df, new_row)\n",
        "names(df_alive)[names(df_alive) == \"n\"] <- \"number\"\n",
        "df_alive"
      ],
      "metadata": {
        "colab": {
          "base_uri": "https://localhost:8080/",
          "height": 851
        },
        "id": "dJ2EPx-tHP5d",
        "outputId": "070df633-5038-44d3-8700-36172b5bd463"
      },
      "execution_count": null,
      "outputs": [
        {
          "output_type": "display_data",
          "data": {
            "text/html": [
              "<table class=\"dataframe\">\n",
              "<caption>A grouped_df: 24 × 3</caption>\n",
              "<thead>\n",
              "\t<tr><th scope=col>age_category</th><th scope=col>alive</th><th scope=col>number</th></tr>\n",
              "\t<tr><th scope=col>&lt;dbl&gt;</th><th scope=col>&lt;chr&gt;</th><th scope=col>&lt;int&gt;</th></tr>\n",
              "</thead>\n",
              "<tbody>\n",
              "\t<tr><td>1</td><td>yes</td><td> 38</td></tr>\n",
              "\t<tr><td>2</td><td>yes</td><td> 44</td></tr>\n",
              "\t<tr><td>3</td><td>yes</td><td> 84</td></tr>\n",
              "\t<tr><td>4</td><td>yes</td><td> 69</td></tr>\n",
              "\t<tr><td>5</td><td>yes</td><td> 33</td></tr>\n",
              "\t<tr><td>6</td><td>yes</td><td> 17</td></tr>\n",
              "\t<tr><td>7</td><td>yes</td><td>  4</td></tr>\n",
              "\t<tr><td>8</td><td>yes</td><td>  1</td></tr>\n",
              "\t<tr><td>1</td><td>no </td><td> 26</td></tr>\n",
              "\t<tr><td>2</td><td>no </td><td> 71</td></tr>\n",
              "\t<tr><td>3</td><td>no </td><td>145</td></tr>\n",
              "\t<tr><td>4</td><td>no </td><td> 84</td></tr>\n",
              "\t<tr><td>5</td><td>no </td><td> 51</td></tr>\n",
              "\t<tr><td>6</td><td>no </td><td> 25</td></tr>\n",
              "\t<tr><td>7</td><td>no </td><td> 13</td></tr>\n",
              "\t<tr><td>8</td><td>no </td><td>  9</td></tr>\n",
              "\t<tr><td>1</td><td>no </td><td> 26</td></tr>\n",
              "\t<tr><td>2</td><td>no </td><td> 71</td></tr>\n",
              "\t<tr><td>3</td><td>no </td><td>145</td></tr>\n",
              "\t<tr><td>4</td><td>no </td><td> 84</td></tr>\n",
              "\t<tr><td>5</td><td>no </td><td> 51</td></tr>\n",
              "\t<tr><td>6</td><td>no </td><td> 25</td></tr>\n",
              "\t<tr><td>7</td><td>no </td><td> 13</td></tr>\n",
              "\t<tr><td>8</td><td>no </td><td>  9</td></tr>\n",
              "</tbody>\n",
              "</table>\n"
            ],
            "text/markdown": "\nA grouped_df: 24 × 3\n\n| age_category &lt;dbl&gt; | alive &lt;chr&gt; | number &lt;int&gt; |\n|---|---|---|\n| 1 | yes |  38 |\n| 2 | yes |  44 |\n| 3 | yes |  84 |\n| 4 | yes |  69 |\n| 5 | yes |  33 |\n| 6 | yes |  17 |\n| 7 | yes |   4 |\n| 8 | yes |   1 |\n| 1 | no  |  26 |\n| 2 | no  |  71 |\n| 3 | no  | 145 |\n| 4 | no  |  84 |\n| 5 | no  |  51 |\n| 6 | no  |  25 |\n| 7 | no  |  13 |\n| 8 | no  |   9 |\n| 1 | no  |  26 |\n| 2 | no  |  71 |\n| 3 | no  | 145 |\n| 4 | no  |  84 |\n| 5 | no  |  51 |\n| 6 | no  |  25 |\n| 7 | no  |  13 |\n| 8 | no  |   9 |\n\n",
            "text/latex": "A grouped\\_df: 24 × 3\n\\begin{tabular}{lll}\n age\\_category & alive & number\\\\\n <dbl> & <chr> & <int>\\\\\n\\hline\n\t 1 & yes &  38\\\\\n\t 2 & yes &  44\\\\\n\t 3 & yes &  84\\\\\n\t 4 & yes &  69\\\\\n\t 5 & yes &  33\\\\\n\t 6 & yes &  17\\\\\n\t 7 & yes &   4\\\\\n\t 8 & yes &   1\\\\\n\t 1 & no  &  26\\\\\n\t 2 & no  &  71\\\\\n\t 3 & no  & 145\\\\\n\t 4 & no  &  84\\\\\n\t 5 & no  &  51\\\\\n\t 6 & no  &  25\\\\\n\t 7 & no  &  13\\\\\n\t 8 & no  &   9\\\\\n\t 1 & no  &  26\\\\\n\t 2 & no  &  71\\\\\n\t 3 & no  & 145\\\\\n\t 4 & no  &  84\\\\\n\t 5 & no  &  51\\\\\n\t 6 & no  &  25\\\\\n\t 7 & no  &  13\\\\\n\t 8 & no  &   9\\\\\n\\end{tabular}\n",
            "text/plain": [
              "   age_category alive number\n",
              "1  1            yes    38   \n",
              "2  2            yes    44   \n",
              "3  3            yes    84   \n",
              "4  4            yes    69   \n",
              "5  5            yes    33   \n",
              "6  6            yes    17   \n",
              "7  7            yes     4   \n",
              "8  8            yes     1   \n",
              "9  1            no     26   \n",
              "10 2            no     71   \n",
              "11 3            no    145   \n",
              "12 4            no     84   \n",
              "13 5            no     51   \n",
              "14 6            no     25   \n",
              "15 7            no     13   \n",
              "16 8            no      9   \n",
              "17 1            no     26   \n",
              "18 2            no     71   \n",
              "19 3            no    145   \n",
              "20 4            no     84   \n",
              "21 5            no     51   \n",
              "22 6            no     25   \n",
              "23 7            no     13   \n",
              "24 8            no      9   "
            ]
          },
          "metadata": {}
        }
      ]
    },
    {
      "cell_type": "code",
      "source": [
        "ggplot(df_alive, aes(fill=alive, y= number, x=age_category)) + \n",
        "    geom_bar(position=\"dodge\", stat=\"identity\")"
      ],
      "metadata": {
        "colab": {
          "base_uri": "https://localhost:8080/",
          "height": 437
        },
        "id": "x2QOm44vMOZL",
        "outputId": "793ef73b-ce49-4130-b308-29f13738c752"
      },
      "execution_count": null,
      "outputs": [
        {
          "output_type": "display_data",
          "data": {
            "text/plain": [
              "plot without title"
            ],
            "image/png": "[encoded data removed]"
          },
          "metadata": {
            "image/png": {
              "width": 420,
              "height": 420
            }
          }
        }
      ]
    }
  ]
}